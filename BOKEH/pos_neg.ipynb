{
 "cells": [
  {
   "cell_type": "code",
   "execution_count": 3,
   "metadata": {},
   "outputs": [],
   "source": [
    "import pandas as pd\n",
    "import numpy as np"
   ]
  },
  {
   "cell_type": "code",
   "execution_count": null,
   "metadata": {},
   "outputs": [],
   "source": [
    "def classify_dataset(dataset):\n",
    "    col_list = list(dataset.columns)\n",
    "    data_types = dict(dataset.dtpyes)\n",
    "    "
   ]
  },
  {
   "cell_type": "code",
   "execution_count": 4,
   "metadata": {},
   "outputs": [],
   "source": [
    "df_test = pd.DataFrame(columns = ['a','b','c','d'],\n",
    "                       data = [[1,'abc',2.1,5],[2,'bcd*',3.1,6],[3,'cd e',4.1,7]])"
   ]
  },
  {
   "cell_type": "code",
   "execution_count": null,
   "metadata": {},
   "outputs": [],
   "source": [
    "\"\"\"\n",
    "data type\n",
    "----------\n",
    "np.int64\n",
    "\"object\"\n",
    "np.float64\n",
    "\"\"\""
   ]
  },
  {
   "cell_type": "code",
   "execution_count": null,
   "metadata": {},
   "outputs": [],
   "source": [
    "\"\"\"\n",
    "------Correlation------\n",
    "2D_density : float64, int64\n",
    "Bubble : Object, float64, int64\n",
    "Connected_Scatter : Object, float64, int64\n",
    "Correlogram : Object, float64, int64\n",
    "Heatmap : Object, float64, int64\n",
    "Scatter : float64, int64\n",
    "\n",
    "------Distribution------\n",
    "Boxplot : float64, int64\n",
    "Density : float64, int64\n",
    "Histogram : float64, int64\n",
    "Ridgeline : Object, float64, int64\n",
    "Violin : Object, float64, int64\n",
    "\n",
    "------Evolution------\n",
    "Area : Object, float64, int64\n",
    "Line : Object, float64, int64\n",
    "Stacked : Object, float64, int64\n",
    "Streamgraph : Object, float64, int64\n",
    "\n",
    "------Flow------\n",
    "Chord_Diagram : Object, int64\n",
    "Network : Object\n",
    "Sankey : Object, float64, int64\n",
    "\n",
    "------Map------\n",
    "Connection : Object, float64, int64\n",
    "Map_Choropleth_Hexbin : Object, float64, int64\n",
    "\n",
    "------Part Of A Whole------\n",
    "Circular_Packing : depth with json\n",
    "Dendrogram : float64, int64\n",
    "Donut : float64, int64\n",
    "Pie_Chart : float64, int64\n",
    "Tree : float64, int64\n",
    "Venn : float64, int64\n",
    "\"\"\""
   ]
  },
  {
   "cell_type": "code",
   "execution_count": null,
   "metadata": {},
   "outputs": [],
   "source": [
    "# 워크래프트3에서는 챔피언(영웅)별로 스킬의 shortcut이 달랐다.\n",
    "# 롤(League Of Legend)에서는 모든 챔피언의 스킬이 Q, W, E, R로 통일되어 있다.\n",
    "# 따라서, 각각의 그래프가 사용하는 라이브러리(seaborn, plotly, matplotlib 등)가 각각 다르고,\n",
    "# parameter들 또한 상이(pallete, cmap, color 등)하여, 하나로 통일시키고자하는 작업을 진행하고자 한다."
   ]
  },
  {
   "cell_type": "code",
   "execution_count": 184,
   "metadata": {},
   "outputs": [],
   "source": [
    "# ------Correlation------\n",
    "\n",
    "def Density(dataset, x, y, cmap=\"Greens\", bw_adjust=0.5, fill=True):\n",
    "      import seaborn as sns\n",
    "      import matplotlib.pyplot as plt\n",
    "      \n",
    "      sns.kdeplot(x=dataset[x], \n",
    "                  y=dataset[y], \n",
    "                  cmap=cmap, \n",
    "                  fill=fill, \n",
    "                  bw_adjust = bw_adjust)\n",
    "      plt.show()\n",
    "\n",
    "def Hist2D(x, y, bins=(50,50), cmap=None):\n",
    "      import matplotlib.pyplot as plt\n",
    "      if cmap ==None :\n",
    "            cmap = plt.cm.jet\n",
    "      else:\n",
    "            cmap = cmap\n",
    "\n",
    "      plt.hist2d(x, y, bins=bins, cmap=cmap)\n",
    "      plt.show()\n",
    "\n",
    "def Bubble(dataset, x, y, cmap=\"viridis\", size=\"pop\", hue=\"continent\",edgecolors='black', sizes=(20, 2000)):\n",
    "      import seaborn as sns\n",
    "      import matplotlib.pyplot as plt\n",
    "\n",
    "      sns.scatterplot(data=dataset, x=x, \n",
    "                y=y, \n",
    "                legend=False,\n",
    "                palette=cmap,\n",
    "                size = size,\n",
    "                hue = hue,\n",
    "                sizes = sizes,\n",
    "                edgecolors=edgecolors)\n",
    "\n",
    "      plt.show()\n",
    "\n",
    "def Connected_Scatter(dataset, x, y, cmap='mediumvioletred',marker='o', alpha=.5):\n",
    "      import matplotlib.pyplot as plt\n",
    "\n",
    "      plt.plot(x,\n",
    "            y,\n",
    "            data=dataset,\n",
    "            alpha=alpha,\n",
    "            marker=marker,\n",
    "            color=cmap)\n",
    "\n",
    "      plt.show()\n",
    "\n",
    "def pairplot(dataset, kind=\"reg\", hue=None, cmap=\"Set2\", markers = None, corner=True):\n",
    "    import seaborn as sns\n",
    "\n",
    "    sns.pairplot(dataset, \n",
    "                kind=kind, \n",
    "                hue=hue, \n",
    "                markers = markers,\n",
    "                palette=cmap,\n",
    "                corner=corner)\n",
    "    plt.show()\n",
    "\n",
    "def Heatmap(dataset, cmap=\"Greens\", annot=True, annot_kws={\"size\":7}):\n",
    "    \n",
    "    import seaborn as sns\n",
    "    import matplotlib.pyplot as plt\n",
    "\n",
    "    sns.heatmap(dataset, \n",
    "                cmap=cmap, \n",
    "                annot=annot, \n",
    "                annot_kws=annot_kws)\n",
    "    plt.show()\n",
    "\n",
    "def Scatterplot(dataset, x, y, fit_reg=False, x_thresh=None, y_thresh=None, lines = False):\n",
    "    import numpy as np\n",
    "    import seaborn as sns\n",
    "    import matplotlib.pyplot as plt\n",
    "\n",
    "    if x_thresh == None:\n",
    "        value = dataset[y] > y_thresh\n",
    "    elif y_thresh == None:\n",
    "        value = dataset[x] > x_thresh\n",
    "    else:\n",
    "        value=(dataset[x] > x_thresh) & (dataset[y] > y_thresh)\n",
    "\n",
    "    dataset['color']= np.where(value==True , \"#9b59b6\", \"green\")\n",
    "\n",
    "    sns.regplot(data=dataset, \n",
    "                x=x,\n",
    "                y=y, \n",
    "                fit_reg=fit_reg, \n",
    "                scatter_kws={'facecolors':df['color']})\n",
    "\n",
    "    # lines가 True일 때 x_thresh에 맞추어 선 그림\n",
    "    if (lines == True) and (x_thresh != None) and (y_thresh != None):\n",
    "        plt.vlines(x_thresh, 0, 1, color='r',linestyles='dashed')\n",
    "        plt.hlines(y_thresh, 0, 1, color='r',linestyles='dashed')        \n",
    "    elif (lines == True) and (x_thresh != None):\n",
    "        plt.vlines(x_thresh, 0, 1, color='r',linestyles='dashed')\n",
    "    elif (lines == True) and (y_thresh != None):\n",
    "        plt.hlines(y_thresh, 0, 1, color='r',linestyles='dashed')\n",
    "    else:\n",
    "        pass\n",
    "    plt.show()\n",
    "\n",
    "def Joint_plot(dataset, x, y, bins=30, fill=True, kind='hex', cmap = 'gray') :\n",
    "    import seaborn as sns\n",
    "    import matplotlib.pyplot as plt\n",
    "\n",
    "    sns.jointplot(x=dataset[x], \n",
    "                y=dataset[y], \n",
    "                kind= kind, \n",
    "                color=cmap,\n",
    "                marginal_kws=dict(bins=bins, fill=fill))\n",
    "\n",
    "    plt.show()\n",
    "\n",
    "    \n",
    "# ------Distribution------\n",
    "\n",
    "\n"
   ]
  },
  {
   "cell_type": "code",
   "execution_count": 192,
   "metadata": {},
   "outputs": [],
   "source": [
    "df = sns.load_dataset('iris')"
   ]
  },
  {
   "cell_type": "code",
   "execution_count": 119,
   "metadata": {},
   "outputs": [],
   "source": [
    "x = np.random.normal(size=50000)\n",
    "y = x * 3 + np.random.normal(size=50000)"
   ]
  },
  {
   "cell_type": "code",
   "execution_count": 65,
   "metadata": {},
   "outputs": [],
   "source": [
    "df = pd.DataFrame({\n",
    "    'x_axis' : range(1,101),\n",
    "    'y_axis':np.random.randn(100)*15+range(1,101),\n",
    "    'z' : (np.random.randn(100)*15 + range(1,101))*2\n",
    "})"
   ]
  },
  {
   "cell_type": "code",
   "execution_count": 171,
   "metadata": {},
   "outputs": [],
   "source": [
    "df = pd.DataFrame(np.random.random((100,2)), \n",
    "                  columns=[\"x\",\"y\"])"
   ]
  },
  {
   "cell_type": "code",
   "execution_count": 250,
   "metadata": {},
   "outputs": [],
   "source": [
    "def Joint_plot(dataset, x, y, bins=30, fill=True, kind='hex', cmap = 'gray') :\n",
    "    import seaborn as sns\n",
    "    import matplotlib.pyplot as plt\n",
    "\n",
    "    sns.jointplot(x=dataset[x], \n",
    "                y=dataset[y], \n",
    "                kind= kind, \n",
    "                color=cmap,\n",
    "                marginal_kws=dict(bins=bins, fill=fill))\n",
    "\n",
    "    plt.show()"
   ]
  },
  {
   "cell_type": "code",
   "execution_count": 251,
   "metadata": {},
   "outputs": [
    {
     "data": {
      "image/png": "[encoded data removed]",
      "text/plain": [
       "<Figure size 600x600 with 3 Axes>"
      ]
     },
     "metadata": {},
     "output_type": "display_data"
    }
   ],
   "source": [
    "Joint_plot(df, 'sepal_width','sepal_length')"
   ]
  },
  {
   "cell_type": "code",
   "execution_count": null,
   "metadata": {},
   "outputs": [],
   "source": []
  },
  {
   "cell_type": "code",
   "execution_count": null,
   "metadata": {},
   "outputs": [],
   "source": []
  },
  {
   "cell_type": "code",
   "execution_count": null,
   "metadata": {},
   "outputs": [],
   "source": []
  }
 ],
 "metadata": {
  "kernelspec": {
   "display_name": "Python 3",
   "language": "python",
   "name": "python3"
  },
  "language_info": {
   "codemirror_mode": {
    "name": "ipython",
    "version": 3
   },
   "file_extension": ".py",
   "mimetype": "text/x-python",
   "name": "python",
   "nbconvert_exporter": "python",
   "pygments_lexer": "ipython3",
   "version": "3.9.13"
  },
  "orig_nbformat": 4
 },
 "nbformat": 4,
 "nbformat_minor": 2
}
