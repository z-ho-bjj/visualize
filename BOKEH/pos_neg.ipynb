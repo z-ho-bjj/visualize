{
 "cells": [
  {
   "cell_type": "code",
   "execution_count": null,
   "metadata": {},
   "outputs": [],
   "source": [
    "import pandas as pd\n",
    "import numpy as np"
   ]
  },
  {
   "cell_type": "code",
   "execution_count": null,
   "metadata": {},
   "outputs": [],
   "source": [
    "def classify_dataset(dataset):\n",
    "    col_list = list(dataset.columns)\n",
    "    data_types = dict(dataset.dtpyes)\n",
    "    "
   ]
  },
  {
   "cell_type": "code",
   "execution_count": null,
   "metadata": {},
   "outputs": [],
   "source": [
    "df_test = pd.DataFrame(columns = ['a','b','c','d'],\n",
    "                       data = [[1,'abc',2.1,5],[2,'bcd*',3.1,6],[3,'cd e',4.1,7]])"
   ]
  },
  {
   "cell_type": "code",
   "execution_count": null,
   "metadata": {},
   "outputs": [],
   "source": [
    "\"\"\"\n",
    "data type\n",
    "----------\n",
    "np.int64\n",
    "\"object\"\n",
    "np.float64\n",
    "\"\"\""
   ]
  },
  {
   "cell_type": "code",
   "execution_count": null,
   "metadata": {},
   "outputs": [],
   "source": [
    "\"\"\"\n",
    "------Correlation------\n",
    "2D_density : float64, int64\n",
    "Bubble : Object, float64, int64\n",
    "Connected_Scatter : Object, float64, int64\n",
    "Correlogram : Object, float64, int64\n",
    "Heatmap : Object, float64, int64\n",
    "Scatter : float64, int64\n",
    "\n",
    "------Distribution------\n",
    "Boxplot : float64, int64\n",
    "Density : float64, int64\n",
    "Histogram : float64, int64\n",
    "Ridgeline : Object, float64, int64\n",
    "Violin : Object, float64, int64\n",
    "\n",
    "------Evolution------\n",
    "Area : Object, float64, int64\n",
    "Line : Object, float64, int64\n",
    "Stacked : Object, float64, int64\n",
    "Streamgraph : Object, float64, int64\n",
    "\n",
    "------Flow------\n",
    "Chord_Diagram : Object, int64\n",
    "Network : Object\n",
    "Sankey : Object, float64, int64\n",
    "\n",
    "------Map------\n",
    "Connection : Object, float64, int64\n",
    "Map_Choropleth_Hexbin : Object, float64, int64\n",
    "\n",
    "------Part Of A Whole------\n",
    "Circular_Packing : depth with json\n",
    "Dendrogram : float64, int64\n",
    "Donut : float64, int64\n",
    "Pie_Chart : float64, int64\n",
    "Tree : float64, int64\n",
    "Venn : float64, int64\n",
    "\"\"\""
   ]
  },
  {
   "cell_type": "code",
   "execution_count": null,
   "metadata": {},
   "outputs": [],
   "source": []
  },
  {
   "cell_type": "code",
   "execution_count": null,
   "metadata": {},
   "outputs": [],
   "source": []
  },
  {
   "cell_type": "code",
   "execution_count": null,
   "metadata": {},
   "outputs": [],
   "source": []
  },
  {
   "cell_type": "code",
   "execution_count": null,
   "metadata": {},
   "outputs": [],
   "source": []
  },
  {
   "cell_type": "code",
   "execution_count": null,
   "metadata": {},
   "outputs": [],
   "source": []
  }
 ],
 "metadata": {
  "kernelspec": {
   "display_name": "Python 3",
   "language": "python",
   "name": "python3"
  },
  "language_info": {
   "codemirror_mode": {
    "name": "ipython",
    "version": 3
   },
   "file_extension": ".py",
   "mimetype": "text/x-python",
   "name": "python",
   "nbconvert_exporter": "python",
   "pygments_lexer": "ipython3",
   "version": "3.9.13"
  },
  "orig_nbformat": 4
 },
 "nbformat": 4,
 "nbformat_minor": 2
}
