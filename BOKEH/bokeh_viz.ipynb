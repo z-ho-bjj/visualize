{
 "cells": [
  {
   "cell_type": "markdown",
   "metadata": {},
   "source": [
    "# Library(matplotlib or seaborn) convert to bokeh"
   ]
  },
  {
   "cell_type": "markdown",
   "metadata": {},
   "source": [
    "##### tmp = visualize() 를 먼저 선언합니다.\n",
    "##### 이후 tmp.'메소드 명'으로 시각화를 시킵니다.\n",
    "##### bokeh의 default는 html을 띄워주는 것이나, jupyter notebook 사용자에게 맞게 jupyter 내에서 볼 수 있게 해두었습니다.\n",
    "##### html로 띄우고 싶은 분들은 __init__ 부분의 output_notebook() 부분을 지우시면 됩니다.\n",
    "##### 또한, html로 다운을 원하신다면, mothod의 끝에 'output_file(\"file 명\")'을 추가하시면 됩니다.\n",
    "##### 물론, jupyter 내의 이미지를 다운받는 기능도 있다."
   ]
  },
  {
   "cell_type": "code",
   "execution_count": 37,
   "metadata": {},
   "outputs": [],
   "source": [
    "class visualize():\n",
    "    def __init__(self, data, width, height):\n",
    "        from bokeh.io import output_notebook \n",
    "        from bokeh.plotting import figure\n",
    "        self.data = data\n",
    "        self.width = width\n",
    "        self.height = height\n",
    "        self.tools = \"hover,crosshair,pan,wheel_zoom,zoom_in,zoom_out,box_zoom,undo,redo,reset,tap,save,box_select\"\n",
    "        self.p = figure(width=self.width, height=self.height, title = None, tools=self.tools)\n",
    "        \n",
    "        output_notebook()\n",
    "\n",
    "    def Density(self, x, bin=50, line_color='white', fill_color='skyblue'):\n",
    "        \"\"\"\n",
    "        x : x축에 들어갈 변수\n",
    "        bin : 히스토그램을 몇 개의 막대로 나타낼것인지\n",
    "        line_color : 히스토그램의 모서리 색상\n",
    "        fill_color : 히스토그램의 안쪽 색상\n",
    "        \"\"\"\n",
    "        data = self.data\n",
    "\n",
    "        from bokeh.io import show\n",
    "        import numpy as np\n",
    "\n",
    "        x = data[x]\n",
    "        p = self.p\n",
    "\n",
    "        bins = np.linspace(min(x),max(x),bin)\n",
    "        hist, edges = np.histogram(x, density=True, bins=bins)\n",
    "        p.quad(top=hist,\n",
    "               bottom=0,\n",
    "               left=edges[:-1],\n",
    "               right=edges[1:],\n",
    "               fill_color=fill_color,\n",
    "               line_color=line_color,)\n",
    "        \n",
    "        d = np.linspace(min(x),max(x),bin*3)\n",
    "        pdf = np.exp(-0.5*d**2) / np.sqrt(2.0*np.pi)\n",
    "        p.line(d, \n",
    "               pdf, \n",
    "               line_width=2, \n",
    "               line_color=\"navy\",\n",
    "               legend_label=\"Probability Density Function\")\n",
    "        show(p)\n",
    "\n",
    "    def kde2D(self, x, y, N=300):\n",
    "        \n",
    "        from bokeh.io import show\n",
    "        from bokeh.palettes import Blues9\n",
    "        import numpy as np\n",
    "        from scipy.stats import gaussian_kde\n",
    "        \n",
    "        data = self.data\n",
    "        x = data[x]\n",
    "        y = data[y]\n",
    "        N = N\n",
    "        p = self.p\n",
    "        \n",
    "        xmin, xmax = x.min(), x.max()\n",
    "        ymin, ymax = y.min(), y.max()\n",
    "\n",
    "        X, Y = np.mgrid[xmin:xmax:N*1j, ymin:ymax:N*1j]\n",
    "        positions = np.vstack([X.ravel(), Y.ravel()])\n",
    "        values = np.vstack([x, y])\n",
    "        kernel = gaussian_kde(values)\n",
    "        Z = np.reshape(kernel(positions).T, X.shape)\n",
    "\n",
    "\n",
    "        p.background_fill_color = \"#fafafa\"\n",
    "        p.grid.level = \"overlay\"\n",
    "        p.grid.grid_line_color = \"black\"\n",
    "        p.grid.grid_line_alpha = 0.05\n",
    "\n",
    "        palette = Blues9[::-1]\n",
    "        levels = np.linspace(np.min(Z), np.max(Z), 10)\n",
    "        p.contour(X, Y, Z, levels[1:], fill_color=palette, line_color=palette)\n",
    "\n",
    "        show(p)\n",
    "\n",
    "\n",
    "    def bubble(self, x, y, category, size):\n",
    "        \n",
    "        from bokeh.io import show\n",
    "        from bokeh.models import CategoricalColorMapper\n",
    "        import random\n",
    "\n",
    "        data = self.data\n",
    "        x = data[x]\n",
    "        y = data[y]\n",
    "        p = self.p\n",
    "\n",
    "        factors = data[category].unique()\n",
    "\n",
    "        COLOR_SCALE = [\"#\"+''.join([random.choice('0123456789ABCDEF') for j in range(6)]) for i in range(len(factors))]\n",
    "\n",
    "        color_mapper = CategoricalColorMapper(factors=factors, palette = COLOR_SCALE)\n",
    "        \n",
    "        p.circle(x=x, \n",
    "                 y=y, \n",
    "                 size=size, \n",
    "                 color={'field': category, 'transform': color_mapper}, \n",
    "                 alpha=0.7, source=data)\n",
    "        \n",
    "        show(p)\n"
   ]
  },
  {
   "cell_type": "code",
   "execution_count": 29,
   "metadata": {},
   "outputs": [],
   "source": [
    "import pandas as pd\n",
    "data = pd.read_csv('./Customers.csv')"
   ]
  },
  {
   "cell_type": "code",
   "execution_count": 36,
   "metadata": {},
   "outputs": [
    {
     "data": {
      "text/plain": [
       "['#08DF06',\n",
       " '#F8A796',\n",
       " '#4A1AFB',\n",
       " '#E14000',\n",
       " '#FA9D90',\n",
       " '#9E29DC',\n",
       " '#E74988',\n",
       " '#6CA972',\n",
       " '#67C5E9',\n",
       " '#37FFBA']"
      ]
     },
     "execution_count": 36,
     "metadata": {},
     "output_type": "execute_result"
    }
   ],
   "source": [
    "import random\n",
    "[\"#\"+''.join([random.choice('0123456789ABCDEF') for j in range(6)]) for i in range(len(data['Profession'].unique()))]"
   ]
  },
  {
   "cell_type": "code",
   "execution_count": 38,
   "metadata": {},
   "outputs": [
    {
     "data": {
      "text/html": [
       "<style>\n",
       "        .bk-notebook-logo {\n",
       "            display: block;\n",
       "            width: 20px;\n",
       "            height: 20px;\n",
       "            background-image: url(data:image/png;base64,iVBORw0KGgoAAAANSUhEUgAAABQAAAAUCAYAAACNiR0NAAAABHNCSVQICAgIfAhkiAAAAAlwSFlzAAALEgAACxIB0t1+/AAAABx0RVh0U29mdHdhcmUAQWRvYmUgRmlyZXdvcmtzIENTNui8sowAAAOkSURBVDiNjZRtaJVlGMd/1/08zzln5zjP1LWcU9N0NkN8m2CYjpgQYQXqSs0I84OLIC0hkEKoPtiH3gmKoiJDU7QpLgoLjLIQCpEsNJ1vqUOdO7ppbuec5+V+rj4ctwzd8IIbbi6u+8f1539dt3A78eXC7QizUF7gyV1fD1Yqg4JWz84yffhm0qkFqBogB9rM8tZdtwVsPUhWhGcFJngGeWrPzHm5oaMmkfEg1usvLFyc8jLRqDOMru7AyC8saQr7GG7f5fvDeH7Ej8CM66nIF+8yngt6HWaKh7k49Soy9nXurCi1o3qUbS3zWfrYeQDTB/Qj6kX6Ybhw4B+bOYoLKCC9H3Nu/leUTZ1JdRWkkn2ldcCamzrcf47KKXdAJllSlxAOkRgyHsGC/zRday5Qld9DyoM4/q/rUoy/CXh3jzOu3bHUVZeU+DEn8FInkPBFlu3+nW3Nw0mk6vCDiWg8CeJaxEwuHS3+z5RgY+YBR6V1Z1nxSOfoaPa4LASWxxdNp+VWTk7+4vzaou8v8PN+xo+KY2xsw6une2frhw05CTYOmQvsEhjhWjn0bmXPjpE1+kplmmkP3suftwTubK9Vq22qKmrBhpY4jvd5afdRA3wGjFAgcnTK2s4hY0/GPNIb0nErGMCRxWOOX64Z8RAC4oCXdklmEvcL8o0BfkNK4lUg9HTl+oPlQxdNo3Mg4Nv175e/1LDGzZen30MEjRUtmXSfiTVu1kK8W4txyV6BMKlbgk3lMwYCiusNy9fVfvvwMxv8Ynl6vxoByANLTWplvuj/nF9m2+PDtt1eiHPBr1oIfhCChQMBw6Aw0UulqTKZdfVvfG7VcfIqLG9bcldL/+pdWTLxLUy8Qq38heUIjh4XlzZxzQm19lLFlr8vdQ97rjZVOLf8nclzckbcD4wxXMidpX30sFd37Fv/GtwwhzhxGVAprjbg0gCAEeIgwCZyTV2Z1REEW8O4py0wsjeloKoMr6iCY6dP92H6Vw/oTyICIthibxjm/DfN9lVz8IqtqKYLUXfoKVMVQVVJOElGjrnnUt9T9wbgp8AyYKaGlqingHZU/uG2NTZSVqwHQTWkx9hxjkpWDaCg6Ckj5qebgBVbT3V3NNXMSiWSDdGV3hrtzla7J+duwPOToIg42ChPQOQjspnSlp1V+Gjdged7+8UN5CRAV7a5EdFNwCjEaBR27b3W890TE7g24NAP/mMDXRWrGoFPQI9ls/MWO2dWFAar/xcOIImbbpA3zgAAAABJRU5ErkJggg==);\n",
       "        }\n",
       "    </style>\n",
       "    <div>\n",
       "        <a href=\"https://bokeh.org\" target=\"_blank\" class=\"bk-notebook-logo\"></a>\n",
       "        <span id=\"e9ef7d23-f7a8-4fbb-a256-97171e7452e3\">Loading BokehJS ...</span>\n",
       "    </div>\n"
      ]
     },
     "metadata": {},
     "output_type": "display_data"
    },
    {
     "data": {
      "application/javascript": "(function(root) {\n  function now() {\n    return new Date();\n  }\n\n  const force = true;\n\n  if (typeof root._bokeh_onload_callbacks === \"undefined\" || force === true) {\n    root._bokeh_onload_callbacks = [];\n    root._bokeh_is_loading = undefined;\n  }\n\nconst JS_MIME_TYPE = 'application/javascript';\n  const HTML_MIME_TYPE = 'text/html';\n  const EXEC_MIME_TYPE = 'application/vnd.bokehjs_exec.v0+json';\n  const CLASS_NAME = 'output_bokeh rendered_html';\n\n  /**\n   * Render data to the DOM node\n   */\n  function render(props, node) {\n    const script = document.createElement(\"script\");\n    node.appendChild(script);\n  }\n\n  /**\n   * Handle when an output is cleared or removed\n   */\n  function handleClearOutput(event, handle) {\n    function drop(id) {\n      const view = Bokeh.index.get_by_id(id)\n      if (view != null) {\n        view.model.document.clear()\n        Bokeh.index.delete(view)\n      }\n    }\n\n    const cell = handle.cell;\n\n    const id = cell.output_area._bokeh_element_id;\n    const server_id = cell.output_area._bokeh_server_id;\n\n    // Clean up Bokeh references\n    if (id != null) {\n      drop(id)\n    }\n\n    if (server_id !== undefined) {\n      // Clean up Bokeh references\n      const cmd_clean = \"from bokeh.io.state import curstate; print(curstate().uuid_to_server['\" + server_id + \"'].get_sessions()[0].document.roots[0]._id)\";\n      cell.notebook.kernel.execute(cmd_clean, {\n        iopub: {\n          output: function(msg) {\n            const id = msg.content.text.trim()\n            drop(id)\n          }\n        }\n      });\n      // Destroy server and session\n      const cmd_destroy = \"import bokeh.io.notebook as ion; ion.destroy_server('\" + server_id + \"')\";\n      cell.notebook.kernel.execute(cmd_destroy);\n    }\n  }\n\n  /**\n   * Handle when a new output is added\n   */\n  function handleAddOutput(event, handle) {\n    const output_area = handle.output_area;\n    const output = handle.output;\n\n    // limit handleAddOutput to display_data with EXEC_MIME_TYPE content only\n    if ((output.output_type != \"display_data\") || (!Object.prototype.hasOwnProperty.call(output.data, EXEC_MIME_TYPE))) {\n      return\n    }\n\n    const toinsert = output_area.element.find(\".\" + CLASS_NAME.split(' ')[0]);\n\n    if (output.metadata[EXEC_MIME_TYPE][\"id\"] !== undefined) {\n      toinsert[toinsert.length - 1].firstChild.textContent = output.data[JS_MIME_TYPE];\n      // store reference to embed id on output_area\n      output_area._bokeh_element_id = output.metadata[EXEC_MIME_TYPE][\"id\"];\n    }\n    if (output.metadata[EXEC_MIME_TYPE][\"server_id\"] !== undefined) {\n      const bk_div = document.createElement(\"div\");\n      bk_div.innerHTML = output.data[HTML_MIME_TYPE];\n      const script_attrs = bk_div.children[0].attributes;\n      for (let i = 0; i < script_attrs.length; i++) {\n        toinsert[toinsert.length - 1].firstChild.setAttribute(script_attrs[i].name, script_attrs[i].value);\n        toinsert[toinsert.length - 1].firstChild.textContent = bk_div.children[0].textContent\n      }\n      // store reference to server id on output_area\n      output_area._bokeh_server_id = output.metadata[EXEC_MIME_TYPE][\"server_id\"];\n    }\n  }\n\n  function register_renderer(events, OutputArea) {\n\n    function append_mime(data, metadata, element) {\n      // create a DOM node to render to\n      const toinsert = this.create_output_subarea(\n        metadata,\n        CLASS_NAME,\n        EXEC_MIME_TYPE\n      );\n      this.keyboard_manager.register_events(toinsert);\n      // Render to node\n      const props = {data: data, metadata: metadata[EXEC_MIME_TYPE]};\n      render(props, toinsert[toinsert.length - 1]);\n      element.append(toinsert);\n      return toinsert\n    }\n\n    /* Handle when an output is cleared or removed */\n    events.on('clear_output.CodeCell', handleClearOutput);\n    events.on('delete.Cell', handleClearOutput);\n\n    /* Handle when a new output is added */\n    events.on('output_added.OutputArea', handleAddOutput);\n\n    /**\n     * Register the mime type and append_mime function with output_area\n     */\n    OutputArea.prototype.register_mime_type(EXEC_MIME_TYPE, append_mime, {\n      /* Is output safe? */\n      safe: true,\n      /* Index of renderer in `output_area.display_order` */\n      index: 0\n    });\n  }\n\n  // register the mime type if in Jupyter Notebook environment and previously unregistered\n  if (root.Jupyter !== undefined) {\n    const events = require('base/js/events');\n    const OutputArea = require('notebook/js/outputarea').OutputArea;\n\n    if (OutputArea.prototype.mime_types().indexOf(EXEC_MIME_TYPE) == -1) {\n      register_renderer(events, OutputArea);\n    }\n  }\n  if (typeof (root._bokeh_timeout) === \"undefined\" || force === true) {\n    root._bokeh_timeout = Date.now() + 5000;\n    root._bokeh_failed_load = false;\n  }\n\n  const NB_LOAD_WARNING = {'data': {'text/html':\n     \"<div style='background-color: #fdd'>\\n\"+\n     \"<p>\\n\"+\n     \"BokehJS does not appear to have successfully loaded. If loading BokehJS from CDN, this \\n\"+\n     \"may be due to a slow or bad network connection. Possible fixes:\\n\"+\n     \"</p>\\n\"+\n     \"<ul>\\n\"+\n     \"<li>re-rerun `output_notebook()` to attempt to load from CDN again, or</li>\\n\"+\n     \"<li>use INLINE resources instead, as so:</li>\\n\"+\n     \"</ul>\\n\"+\n     \"<code>\\n\"+\n     \"from bokeh.resources import INLINE\\n\"+\n     \"output_notebook(resources=INLINE)\\n\"+\n     \"</code>\\n\"+\n     \"</div>\"}};\n\n  function display_loaded() {\n    const el = document.getElementById(\"e9ef7d23-f7a8-4fbb-a256-97171e7452e3\");\n    if (el != null) {\n      el.textContent = \"BokehJS is loading...\";\n    }\n    if (root.Bokeh !== undefined) {\n      if (el != null) {\n        el.textContent = \"BokehJS \" + root.Bokeh.version + \" successfully loaded.\";\n      }\n    } else if (Date.now() < root._bokeh_timeout) {\n      setTimeout(display_loaded, 100)\n    }\n  }\n\n  function run_callbacks() {\n    try {\n      root._bokeh_onload_callbacks.forEach(function(callback) {\n        if (callback != null)\n          callback();\n      });\n    } finally {\n      delete root._bokeh_onload_callbacks\n    }\n    console.debug(\"Bokeh: all callbacks have finished\");\n  }\n\n  function load_libs(css_urls, js_urls, callback) {\n    if (css_urls == null) css_urls = [];\n    if (js_urls == null) js_urls = [];\n\n    root._bokeh_onload_callbacks.push(callback);\n    if (root._bokeh_is_loading > 0) {\n      console.debug(\"Bokeh: BokehJS is being loaded, scheduling callback at\", now());\n      return null;\n    }\n    if (js_urls == null || js_urls.length === 0) {\n      run_callbacks();\n      return null;\n    }\n    console.debug(\"Bokeh: BokehJS not loaded, scheduling load and callback at\", now());\n    root._bokeh_is_loading = css_urls.length + js_urls.length;\n\n    function on_load() {\n      root._bokeh_is_loading--;\n      if (root._bokeh_is_loading === 0) {\n        console.debug(\"Bokeh: all BokehJS libraries/stylesheets loaded\");\n        run_callbacks()\n      }\n    }\n\n    function on_error(url) {\n      console.error(\"failed to load \" + url);\n    }\n\n    for (let i = 0; i < css_urls.length; i++) {\n      const url = css_urls[i];\n      const element = document.createElement(\"link\");\n      element.onload = on_load;\n      element.onerror = on_error.bind(null, url);\n      element.rel = \"stylesheet\";\n      element.type = \"text/css\";\n      element.href = url;\n      console.debug(\"Bokeh: injecting link tag for BokehJS stylesheet: \", url);\n      document.body.appendChild(element);\n    }\n\n    for (let i = 0; i < js_urls.length; i++) {\n      const url = js_urls[i];\n      const element = document.createElement('script');\n      element.onload = on_load;\n      element.onerror = on_error.bind(null, url);\n      element.async = false;\n      element.src = url;\n      console.debug(\"Bokeh: injecting script tag for BokehJS library: \", url);\n      document.head.appendChild(element);\n    }\n  };\n\n  function inject_raw_css(css) {\n    const element = document.createElement(\"style\");\n    element.appendChild(document.createTextNode(css));\n    document.body.appendChild(element);\n  }\n\n  const js_urls = [\"https://cdn.bokeh.org/bokeh/release/bokeh-3.3.0.min.js\", \"https://cdn.bokeh.org/bokeh/release/bokeh-gl-3.3.0.min.js\", \"https://cdn.bokeh.org/bokeh/release/bokeh-widgets-3.3.0.min.js\", \"https://cdn.bokeh.org/bokeh/release/bokeh-tables-3.3.0.min.js\", \"https://cdn.bokeh.org/bokeh/release/bokeh-mathjax-3.3.0.min.js\"];\n  const css_urls = [];\n\n  const inline_js = [    function(Bokeh) {\n      Bokeh.set_log_level(\"info\");\n    },\nfunction(Bokeh) {\n    }\n  ];\n\n  function run_inline_js() {\n    if (root.Bokeh !== undefined || force === true) {\n          for (let i = 0; i < inline_js.length; i++) {\n      inline_js[i].call(root, root.Bokeh);\n    }\nif (force === true) {\n        display_loaded();\n      }} else if (Date.now() < root._bokeh_timeout) {\n      setTimeout(run_inline_js, 100);\n    } else if (!root._bokeh_failed_load) {\n      console.log(\"Bokeh: BokehJS failed to load within specified timeout.\");\n      root._bokeh_failed_load = true;\n    } else if (force !== true) {\n      const cell = $(document.getElementById(\"e9ef7d23-f7a8-4fbb-a256-97171e7452e3\")).parents('.cell').data().cell;\n      cell.output_area.append_execute_result(NB_LOAD_WARNING)\n    }\n  }\n\n  if (root._bokeh_is_loading === 0) {\n    console.debug(\"Bokeh: BokehJS loaded, going straight to plotting\");\n    run_inline_js();\n  } else {\n    load_libs(css_urls, js_urls, function() {\n      console.debug(\"Bokeh: BokehJS plotting callback run at\", now());\n      run_inline_js();\n    });\n  }\n}(window));",
      "application/vnd.bokehjs_load.v0+json": ""
     },
     "metadata": {},
     "output_type": "display_data"
    }
   ],
   "source": [
    "a = visualize(data, 760,400)"
   ]
  },
  {
   "cell_type": "code",
   "execution_count": 39,
   "metadata": {},
   "outputs": [
    {
     "ename": "ValueError",
     "evalue": "failed to validate CategoricalColorMapper(id='p1404', ...).factors: expected an element of either Seq(String), Seq(Tuple(String, String)) or Seq(Tuple(String, String, String)), got array(['Healthcare', 'Engineer', 'Lawyer', 'Entertainment', 'Artist',\n       'Executive', 'Doctor', 'Homemaker', 'Marketing', nan], dtype=object)",
     "output_type": "error",
     "traceback": [
      "\u001b[1;31m---------------------------------------------------------------------------\u001b[0m",
      "\u001b[1;31mValueError\u001b[0m                                Traceback (most recent call last)",
      "\u001b[1;32mc:\\Users\\exem\\Desktop\\Z-Ho\\Z-Ho_Project\\2023\\visualize\\BOKEH\\bokeh_viz.ipynb Cell 7\u001b[0m line \u001b[0;36m1\n\u001b[1;32m----> <a href='vscode-notebook-cell:/c%3A/Users/exem/Desktop/Z-Ho/Z-Ho_Project/2023/visualize/BOKEH/bokeh_viz.ipynb#X31sZmlsZQ%3D%3D?line=0'>1</a>\u001b[0m a\u001b[39m.\u001b[39;49mbubble(\u001b[39m'\u001b[39;49m\u001b[39mAnnual Income ($)\u001b[39;49m\u001b[39m'\u001b[39;49m, \u001b[39m'\u001b[39;49m\u001b[39mSpending Score (1-100)\u001b[39;49m\u001b[39m'\u001b[39;49m, \u001b[39m'\u001b[39;49m\u001b[39mProfession\u001b[39;49m\u001b[39m'\u001b[39;49m, \u001b[39m'\u001b[39;49m\u001b[39mWork Experience\u001b[39;49m\u001b[39m'\u001b[39;49m)\n",
      "\u001b[1;32mc:\\Users\\exem\\Desktop\\Z-Ho\\Z-Ho_Project\\2023\\visualize\\BOKEH\\bokeh_viz.ipynb Cell 7\u001b[0m line \u001b[0;36m9\n\u001b[0;32m     <a href='vscode-notebook-cell:/c%3A/Users/exem/Desktop/Z-Ho/Z-Ho_Project/2023/visualize/BOKEH/bokeh_viz.ipynb#X31sZmlsZQ%3D%3D?line=91'>92</a>\u001b[0m factors \u001b[39m=\u001b[39m data[category]\u001b[39m.\u001b[39munique()\n\u001b[0;32m     <a href='vscode-notebook-cell:/c%3A/Users/exem/Desktop/Z-Ho/Z-Ho_Project/2023/visualize/BOKEH/bokeh_viz.ipynb#X31sZmlsZQ%3D%3D?line=93'>94</a>\u001b[0m COLOR_SCALE \u001b[39m=\u001b[39m [\u001b[39m\"\u001b[39m\u001b[39m#\u001b[39m\u001b[39m\"\u001b[39m\u001b[39m+\u001b[39m\u001b[39m'\u001b[39m\u001b[39m'\u001b[39m\u001b[39m.\u001b[39mjoin([random\u001b[39m.\u001b[39mchoice(\u001b[39m'\u001b[39m\u001b[39m0123456789ABCDEF\u001b[39m\u001b[39m'\u001b[39m) \u001b[39mfor\u001b[39;00m j \u001b[39min\u001b[39;00m \u001b[39mrange\u001b[39m(\u001b[39m6\u001b[39m)]) \u001b[39mfor\u001b[39;00m i \u001b[39min\u001b[39;00m \u001b[39mrange\u001b[39m(\u001b[39mlen\u001b[39m(factors))]\n\u001b[1;32m---> <a href='vscode-notebook-cell:/c%3A/Users/exem/Desktop/Z-Ho/Z-Ho_Project/2023/visualize/BOKEH/bokeh_viz.ipynb#X31sZmlsZQ%3D%3D?line=95'>96</a>\u001b[0m color_mapper \u001b[39m=\u001b[39m CategoricalColorMapper(factors\u001b[39m=\u001b[39;49mfactors, nan_color \u001b[39m=\u001b[39;49m COLOR_SCALE)\n\u001b[0;32m     <a href='vscode-notebook-cell:/c%3A/Users/exem/Desktop/Z-Ho/Z-Ho_Project/2023/visualize/BOKEH/bokeh_viz.ipynb#X31sZmlsZQ%3D%3D?line=97'>98</a>\u001b[0m p\u001b[39m.\u001b[39mcircle(x\u001b[39m=\u001b[39mx, \n\u001b[0;32m     <a href='vscode-notebook-cell:/c%3A/Users/exem/Desktop/Z-Ho/Z-Ho_Project/2023/visualize/BOKEH/bokeh_viz.ipynb#X31sZmlsZQ%3D%3D?line=98'>99</a>\u001b[0m          y\u001b[39m=\u001b[39my, \n\u001b[0;32m    <a href='vscode-notebook-cell:/c%3A/Users/exem/Desktop/Z-Ho/Z-Ho_Project/2023/visualize/BOKEH/bokeh_viz.ipynb#X31sZmlsZQ%3D%3D?line=99'>100</a>\u001b[0m          size\u001b[39m=\u001b[39msize, \n\u001b[0;32m    <a href='vscode-notebook-cell:/c%3A/Users/exem/Desktop/Z-Ho/Z-Ho_Project/2023/visualize/BOKEH/bokeh_viz.ipynb#X31sZmlsZQ%3D%3D?line=100'>101</a>\u001b[0m          color\u001b[39m=\u001b[39m{\u001b[39m'\u001b[39m\u001b[39mfield\u001b[39m\u001b[39m'\u001b[39m: category, \u001b[39m'\u001b[39m\u001b[39mtransform\u001b[39m\u001b[39m'\u001b[39m: color_mapper}, \n\u001b[0;32m    <a href='vscode-notebook-cell:/c%3A/Users/exem/Desktop/Z-Ho/Z-Ho_Project/2023/visualize/BOKEH/bokeh_viz.ipynb#X31sZmlsZQ%3D%3D?line=101'>102</a>\u001b[0m          alpha\u001b[39m=\u001b[39m\u001b[39m0.7\u001b[39m, source\u001b[39m=\u001b[39mdata)\n\u001b[0;32m    <a href='vscode-notebook-cell:/c%3A/Users/exem/Desktop/Z-Ho/Z-Ho_Project/2023/visualize/BOKEH/bokeh_viz.ipynb#X31sZmlsZQ%3D%3D?line=103'>104</a>\u001b[0m show(p)\n",
      "File \u001b[1;32mc:\\Users\\exem\\AppData\\Local\\Programs\\Python\\Python312\\Lib\\site-packages\\bokeh\\models\\mappers.py:161\u001b[0m, in \u001b[0;36mCategoricalColorMapper.__init__\u001b[1;34m(self, *args, **kwargs)\u001b[0m\n\u001b[0;32m    160\u001b[0m \u001b[39mdef\u001b[39;00m \u001b[39m__init__\u001b[39m(\u001b[39mself\u001b[39m, \u001b[39m*\u001b[39margs, \u001b[39m*\u001b[39m\u001b[39m*\u001b[39mkwargs) \u001b[39m-\u001b[39m\u001b[39m>\u001b[39m \u001b[39mNone\u001b[39;00m:\n\u001b[1;32m--> 161\u001b[0m     \u001b[39msuper\u001b[39;49m()\u001b[39m.\u001b[39;49m\u001b[39m__init__\u001b[39;49m(\u001b[39m*\u001b[39;49margs, \u001b[39m*\u001b[39;49m\u001b[39m*\u001b[39;49mkwargs)\n",
      "File \u001b[1;32mc:\\Users\\exem\\AppData\\Local\\Programs\\Python\\Python312\\Lib\\site-packages\\bokeh\\models\\mappers.py:116\u001b[0m, in \u001b[0;36mCategoricalMapper.__init__\u001b[1;34m(self, *args, **kwargs)\u001b[0m\n\u001b[0;32m    115\u001b[0m \u001b[39mdef\u001b[39;00m \u001b[39m__init__\u001b[39m(\u001b[39mself\u001b[39m, \u001b[39m*\u001b[39margs, \u001b[39m*\u001b[39m\u001b[39m*\u001b[39mkwargs) \u001b[39m-\u001b[39m\u001b[39m>\u001b[39m \u001b[39mNone\u001b[39;00m:\n\u001b[1;32m--> 116\u001b[0m     \u001b[39msuper\u001b[39;49m()\u001b[39m.\u001b[39;49m\u001b[39m__init__\u001b[39;49m(\u001b[39m*\u001b[39;49margs, \u001b[39m*\u001b[39;49m\u001b[39m*\u001b[39;49mkwargs)\n",
      "File \u001b[1;32mc:\\Users\\exem\\AppData\\Local\\Programs\\Python\\Python312\\Lib\\site-packages\\bokeh\\models\\mappers.py:94\u001b[0m, in \u001b[0;36mColorMapper.__init__\u001b[1;34m(self, *args, **kwargs)\u001b[0m\n\u001b[0;32m     92\u001b[0m \u001b[39mif\u001b[39;00m \u001b[39mlen\u001b[39m(args) \u001b[39m==\u001b[39m \u001b[39m1\u001b[39m:\n\u001b[0;32m     93\u001b[0m     kwargs[\u001b[39m'\u001b[39m\u001b[39mpalette\u001b[39m\u001b[39m'\u001b[39m] \u001b[39m=\u001b[39m args[\u001b[39m0\u001b[39m]\n\u001b[1;32m---> 94\u001b[0m \u001b[39msuper\u001b[39;49m()\u001b[39m.\u001b[39;49m\u001b[39m__init__\u001b[39;49m(\u001b[39m*\u001b[39;49m\u001b[39m*\u001b[39;49mkwargs)\n",
      "File \u001b[1;32mc:\\Users\\exem\\AppData\\Local\\Programs\\Python\\Python312\\Lib\\site-packages\\bokeh\\models\\mappers.py:82\u001b[0m, in \u001b[0;36mMapper.__init__\u001b[1;34m(self, *args, **kwargs)\u001b[0m\n\u001b[0;32m     81\u001b[0m \u001b[39mdef\u001b[39;00m \u001b[39m__init__\u001b[39m(\u001b[39mself\u001b[39m, \u001b[39m*\u001b[39margs, \u001b[39m*\u001b[39m\u001b[39m*\u001b[39mkwargs) \u001b[39m-\u001b[39m\u001b[39m>\u001b[39m \u001b[39mNone\u001b[39;00m:\n\u001b[1;32m---> 82\u001b[0m     \u001b[39msuper\u001b[39;49m()\u001b[39m.\u001b[39;49m\u001b[39m__init__\u001b[39;49m(\u001b[39m*\u001b[39;49margs, \u001b[39m*\u001b[39;49m\u001b[39m*\u001b[39;49mkwargs)\n",
      "File \u001b[1;32mc:\\Users\\exem\\AppData\\Local\\Programs\\Python\\Python312\\Lib\\site-packages\\bokeh\\models\\transforms.py:81\u001b[0m, in \u001b[0;36mTransform.__init__\u001b[1;34m(self, *args, **kwargs)\u001b[0m\n\u001b[0;32m     80\u001b[0m \u001b[39mdef\u001b[39;00m \u001b[39m__init__\u001b[39m(\u001b[39mself\u001b[39m, \u001b[39m*\u001b[39margs, \u001b[39m*\u001b[39m\u001b[39m*\u001b[39mkwargs) \u001b[39m-\u001b[39m\u001b[39m>\u001b[39m \u001b[39mNone\u001b[39;00m:\n\u001b[1;32m---> 81\u001b[0m     \u001b[39msuper\u001b[39;49m()\u001b[39m.\u001b[39;49m\u001b[39m__init__\u001b[39;49m(\u001b[39m*\u001b[39;49margs, \u001b[39m*\u001b[39;49m\u001b[39m*\u001b[39;49mkwargs)\n",
      "File \u001b[1;32mc:\\Users\\exem\\AppData\\Local\\Programs\\Python\\Python312\\Lib\\site-packages\\bokeh\\model\\model.py:110\u001b[0m, in \u001b[0;36mModel.__init__\u001b[1;34m(self, *args, **kwargs)\u001b[0m\n\u001b[0;32m    107\u001b[0m \u001b[39mif\u001b[39;00m \u001b[39m\"\u001b[39m\u001b[39mid\u001b[39m\u001b[39m\"\u001b[39m \u001b[39min\u001b[39;00m kwargs:\n\u001b[0;32m    108\u001b[0m     \u001b[39mraise\u001b[39;00m \u001b[39mValueError\u001b[39;00m(\u001b[39m\"\u001b[39m\u001b[39minitializing \u001b[39m\u001b[39m'\u001b[39m\u001b[39mid\u001b[39m\u001b[39m'\u001b[39m\u001b[39m is not allowed\u001b[39m\u001b[39m\"\u001b[39m)\n\u001b[1;32m--> 110\u001b[0m \u001b[39msuper\u001b[39;49m()\u001b[39m.\u001b[39;49m\u001b[39m__init__\u001b[39;49m(\u001b[39m*\u001b[39;49m\u001b[39m*\u001b[39;49mkwargs)\n\u001b[0;32m    111\u001b[0m default_theme\u001b[39m.\u001b[39mapply_to_model(\u001b[39mself\u001b[39m)\n",
      "File \u001b[1;32mc:\\Users\\exem\\AppData\\Local\\Programs\\Python\\Python312\\Lib\\site-packages\\bokeh\\core\\has_props.py:302\u001b[0m, in \u001b[0;36mHasProps.__init__\u001b[1;34m(self, **properties)\u001b[0m\n\u001b[0;32m    300\u001b[0m     \u001b[39mif\u001b[39;00m value \u001b[39mis\u001b[39;00m Undefined \u001b[39mor\u001b[39;00m value \u001b[39mis\u001b[39;00m Intrinsic:\n\u001b[0;32m    301\u001b[0m         \u001b[39mcontinue\u001b[39;00m\n\u001b[1;32m--> 302\u001b[0m     \u001b[39msetattr\u001b[39;49m(\u001b[39mself\u001b[39;49m, name, value)\n\u001b[0;32m    304\u001b[0m initialized \u001b[39m=\u001b[39m \u001b[39mset\u001b[39m(properties\u001b[39m.\u001b[39mkeys())\n\u001b[0;32m    305\u001b[0m \u001b[39mfor\u001b[39;00m name \u001b[39min\u001b[39;00m \u001b[39mself\u001b[39m\u001b[39m.\u001b[39mproperties(_with_props\u001b[39m=\u001b[39m\u001b[39mTrue\u001b[39;00m): \u001b[39m# avoid set[] for deterministic behavior\u001b[39;00m\n",
      "File \u001b[1;32mc:\\Users\\exem\\AppData\\Local\\Programs\\Python\\Python312\\Lib\\site-packages\\bokeh\\core\\has_props.py:334\u001b[0m, in \u001b[0;36mHasProps.__setattr__\u001b[1;34m(self, name, value)\u001b[0m\n\u001b[0;32m    332\u001b[0m properties \u001b[39m=\u001b[39m \u001b[39mself\u001b[39m\u001b[39m.\u001b[39mproperties(_with_props\u001b[39m=\u001b[39m\u001b[39mTrue\u001b[39;00m)\n\u001b[0;32m    333\u001b[0m \u001b[39mif\u001b[39;00m name \u001b[39min\u001b[39;00m properties:\n\u001b[1;32m--> 334\u001b[0m     \u001b[39mreturn\u001b[39;00m \u001b[39msuper\u001b[39;49m()\u001b[39m.\u001b[39;49m\u001b[39m__setattr__\u001b[39;49m(name, value)\n\u001b[0;32m    336\u001b[0m descriptor \u001b[39m=\u001b[39m \u001b[39mgetattr\u001b[39m(\u001b[39mself\u001b[39m\u001b[39m.\u001b[39m\u001b[39m__class__\u001b[39m, name, \u001b[39mNone\u001b[39;00m)\n\u001b[0;32m    337\u001b[0m \u001b[39mif\u001b[39;00m \u001b[39misinstance\u001b[39m(descriptor, \u001b[39mproperty\u001b[39m): \u001b[39m# Python property\u001b[39;00m\n",
      "File \u001b[1;32mc:\\Users\\exem\\AppData\\Local\\Programs\\Python\\Python312\\Lib\\site-packages\\bokeh\\core\\property\\descriptors.py:331\u001b[0m, in \u001b[0;36mPropertyDescriptor.__set__\u001b[1;34m(self, obj, value, setter)\u001b[0m\n\u001b[0;32m    328\u001b[0m     class_name \u001b[39m=\u001b[39m obj\u001b[39m.\u001b[39m\u001b[39m__class__\u001b[39m\u001b[39m.\u001b[39m\u001b[39m__name__\u001b[39m\n\u001b[0;32m    329\u001b[0m     \u001b[39mraise\u001b[39;00m \u001b[39mRuntimeError\u001b[39;00m(\u001b[39mf\u001b[39m\u001b[39m\"\u001b[39m\u001b[39m{\u001b[39;00mclass_name\u001b[39m}\u001b[39;00m\u001b[39m.\u001b[39m\u001b[39m{\u001b[39;00m\u001b[39mself\u001b[39m\u001b[39m.\u001b[39mname\u001b[39m}\u001b[39;00m\u001b[39m is a readonly property\u001b[39m\u001b[39m\"\u001b[39m)\n\u001b[1;32m--> 331\u001b[0m value \u001b[39m=\u001b[39m \u001b[39mself\u001b[39;49m\u001b[39m.\u001b[39;49mproperty\u001b[39m.\u001b[39;49mprepare_value(obj, \u001b[39mself\u001b[39;49m\u001b[39m.\u001b[39;49mname, value)\n\u001b[0;32m    332\u001b[0m old \u001b[39m=\u001b[39m \u001b[39mself\u001b[39m\u001b[39m.\u001b[39m_get(obj)\n\u001b[0;32m    333\u001b[0m \u001b[39mself\u001b[39m\u001b[39m.\u001b[39m_set(obj, old, value, setter\u001b[39m=\u001b[39msetter)\n",
      "File \u001b[1;32mc:\\Users\\exem\\AppData\\Local\\Programs\\Python\\Python312\\Lib\\site-packages\\bokeh\\core\\property\\bases.py:365\u001b[0m, in \u001b[0;36mProperty.prepare_value\u001b[1;34m(self, owner, name, value, hint)\u001b[0m\n\u001b[0;32m    363\u001b[0m \u001b[39melse\u001b[39;00m:\n\u001b[0;32m    364\u001b[0m     obj_repr \u001b[39m=\u001b[39m owner \u001b[39mif\u001b[39;00m \u001b[39misinstance\u001b[39m(owner, HasProps) \u001b[39melse\u001b[39;00m owner\u001b[39m.\u001b[39m\u001b[39m__name__\u001b[39m\n\u001b[1;32m--> 365\u001b[0m     \u001b[39mraise\u001b[39;00m \u001b[39mValueError\u001b[39;00m(\u001b[39mf\u001b[39m\u001b[39m\"\u001b[39m\u001b[39mfailed to validate \u001b[39m\u001b[39m{\u001b[39;00mobj_repr\u001b[39m}\u001b[39;00m\u001b[39m.\u001b[39m\u001b[39m{\u001b[39;00mname\u001b[39m}\u001b[39;00m\u001b[39m: \u001b[39m\u001b[39m{\u001b[39;00merror\u001b[39m}\u001b[39;00m\u001b[39m\"\u001b[39m)\n\u001b[0;32m    367\u001b[0m \u001b[39mif\u001b[39;00m \u001b[39misinstance\u001b[39m(owner, HasProps):\n\u001b[0;32m    368\u001b[0m     obj \u001b[39m=\u001b[39m owner\n",
      "\u001b[1;31mValueError\u001b[0m: failed to validate CategoricalColorMapper(id='p1404', ...).factors: expected an element of either Seq(String), Seq(Tuple(String, String)) or Seq(Tuple(String, String, String)), got array(['Healthcare', 'Engineer', 'Lawyer', 'Entertainment', 'Artist',\n       'Executive', 'Doctor', 'Homemaker', 'Marketing', nan], dtype=object)"
     ]
    }
   ],
   "source": [
    "a.bubble('Annual Income ($)', 'Spending Score (1-100)', 'Profession', 'Work Experience')"
   ]
  },
  {
   "cell_type": "code",
   "execution_count": null,
   "metadata": {},
   "outputs": [],
   "source": []
  },
  {
   "cell_type": "code",
   "execution_count": 19,
   "metadata": {},
   "outputs": [
    {
     "data": {
      "text/html": [
       "<style>\n",
       "        .bk-notebook-logo {\n",
       "            display: block;\n",
       "            width: 20px;\n",
       "            height: 20px;\n",
       "            background-image: url(data:image/png;base64,iVBORw0KGgoAAAANSUhEUgAAABQAAAAUCAYAAACNiR0NAAAABHNCSVQICAgIfAhkiAAAAAlwSFlzAAALEgAACxIB0t1+/AAAABx0RVh0U29mdHdhcmUAQWRvYmUgRmlyZXdvcmtzIENTNui8sowAAAOkSURBVDiNjZRtaJVlGMd/1/08zzln5zjP1LWcU9N0NkN8m2CYjpgQYQXqSs0I84OLIC0hkEKoPtiH3gmKoiJDU7QpLgoLjLIQCpEsNJ1vqUOdO7ppbuec5+V+rj4ctwzd8IIbbi6u+8f1539dt3A78eXC7QizUF7gyV1fD1Yqg4JWz84yffhm0qkFqBogB9rM8tZdtwVsPUhWhGcFJngGeWrPzHm5oaMmkfEg1usvLFyc8jLRqDOMru7AyC8saQr7GG7f5fvDeH7Ej8CM66nIF+8yngt6HWaKh7k49Soy9nXurCi1o3qUbS3zWfrYeQDTB/Qj6kX6Ybhw4B+bOYoLKCC9H3Nu/leUTZ1JdRWkkn2ldcCamzrcf47KKXdAJllSlxAOkRgyHsGC/zRday5Qld9DyoM4/q/rUoy/CXh3jzOu3bHUVZeU+DEn8FInkPBFlu3+nW3Nw0mk6vCDiWg8CeJaxEwuHS3+z5RgY+YBR6V1Z1nxSOfoaPa4LASWxxdNp+VWTk7+4vzaou8v8PN+xo+KY2xsw6une2frhw05CTYOmQvsEhjhWjn0bmXPjpE1+kplmmkP3suftwTubK9Vq22qKmrBhpY4jvd5afdRA3wGjFAgcnTK2s4hY0/GPNIb0nErGMCRxWOOX64Z8RAC4oCXdklmEvcL8o0BfkNK4lUg9HTl+oPlQxdNo3Mg4Nv175e/1LDGzZen30MEjRUtmXSfiTVu1kK8W4txyV6BMKlbgk3lMwYCiusNy9fVfvvwMxv8Ynl6vxoByANLTWplvuj/nF9m2+PDtt1eiHPBr1oIfhCChQMBw6Aw0UulqTKZdfVvfG7VcfIqLG9bcldL/+pdWTLxLUy8Qq38heUIjh4XlzZxzQm19lLFlr8vdQ97rjZVOLf8nclzckbcD4wxXMidpX30sFd37Fv/GtwwhzhxGVAprjbg0gCAEeIgwCZyTV2Z1REEW8O4py0wsjeloKoMr6iCY6dP92H6Vw/oTyICIthibxjm/DfN9lVz8IqtqKYLUXfoKVMVQVVJOElGjrnnUt9T9wbgp8AyYKaGlqingHZU/uG2NTZSVqwHQTWkx9hxjkpWDaCg6Ckj5qebgBVbT3V3NNXMSiWSDdGV3hrtzla7J+duwPOToIg42ChPQOQjspnSlp1V+Gjdged7+8UN5CRAV7a5EdFNwCjEaBR27b3W890TE7g24NAP/mMDXRWrGoFPQI9ls/MWO2dWFAar/xcOIImbbpA3zgAAAABJRU5ErkJggg==);\n",
       "        }\n",
       "    </style>\n",
       "    <div>\n",
       "        <a href=\"https://bokeh.org\" target=\"_blank\" class=\"bk-notebook-logo\"></a>\n",
       "        <span id=\"f9f3116d-da48-43cd-8203-951a5fd2adf3\">Loading BokehJS ...</span>\n",
       "    </div>\n"
      ]
     },
     "metadata": {},
     "output_type": "display_data"
    },
    {
     "data": {
      "application/javascript": "(function(root) {\n  function now() {\n    return new Date();\n  }\n\n  const force = true;\n\n  if (typeof root._bokeh_onload_callbacks === \"undefined\" || force === true) {\n    root._bokeh_onload_callbacks = [];\n    root._bokeh_is_loading = undefined;\n  }\n\nconst JS_MIME_TYPE = 'application/javascript';\n  const HTML_MIME_TYPE = 'text/html';\n  const EXEC_MIME_TYPE = 'application/vnd.bokehjs_exec.v0+json';\n  const CLASS_NAME = 'output_bokeh rendered_html';\n\n  /**\n   * Render data to the DOM node\n   */\n  function render(props, node) {\n    const script = document.createElement(\"script\");\n    node.appendChild(script);\n  }\n\n  /**\n   * Handle when an output is cleared or removed\n   */\n  function handleClearOutput(event, handle) {\n    function drop(id) {\n      const view = Bokeh.index.get_by_id(id)\n      if (view != null) {\n        view.model.document.clear()\n        Bokeh.index.delete(view)\n      }\n    }\n\n    const cell = handle.cell;\n\n    const id = cell.output_area._bokeh_element_id;\n    const server_id = cell.output_area._bokeh_server_id;\n\n    // Clean up Bokeh references\n    if (id != null) {\n      drop(id)\n    }\n\n    if (server_id !== undefined) {\n      // Clean up Bokeh references\n      const cmd_clean = \"from bokeh.io.state import curstate; print(curstate().uuid_to_server['\" + server_id + \"'].get_sessions()[0].document.roots[0]._id)\";\n      cell.notebook.kernel.execute(cmd_clean, {\n        iopub: {\n          output: function(msg) {\n            const id = msg.content.text.trim()\n            drop(id)\n          }\n        }\n      });\n      // Destroy server and session\n      const cmd_destroy = \"import bokeh.io.notebook as ion; ion.destroy_server('\" + server_id + \"')\";\n      cell.notebook.kernel.execute(cmd_destroy);\n    }\n  }\n\n  /**\n   * Handle when a new output is added\n   */\n  function handleAddOutput(event, handle) {\n    const output_area = handle.output_area;\n    const output = handle.output;\n\n    // limit handleAddOutput to display_data with EXEC_MIME_TYPE content only\n    if ((output.output_type != \"display_data\") || (!Object.prototype.hasOwnProperty.call(output.data, EXEC_MIME_TYPE))) {\n      return\n    }\n\n    const toinsert = output_area.element.find(\".\" + CLASS_NAME.split(' ')[0]);\n\n    if (output.metadata[EXEC_MIME_TYPE][\"id\"] !== undefined) {\n      toinsert[toinsert.length - 1].firstChild.textContent = output.data[JS_MIME_TYPE];\n      // store reference to embed id on output_area\n      output_area._bokeh_element_id = output.metadata[EXEC_MIME_TYPE][\"id\"];\n    }\n    if (output.metadata[EXEC_MIME_TYPE][\"server_id\"] !== undefined) {\n      const bk_div = document.createElement(\"div\");\n      bk_div.innerHTML = output.data[HTML_MIME_TYPE];\n      const script_attrs = bk_div.children[0].attributes;\n      for (let i = 0; i < script_attrs.length; i++) {\n        toinsert[toinsert.length - 1].firstChild.setAttribute(script_attrs[i].name, script_attrs[i].value);\n        toinsert[toinsert.length - 1].firstChild.textContent = bk_div.children[0].textContent\n      }\n      // store reference to server id on output_area\n      output_area._bokeh_server_id = output.metadata[EXEC_MIME_TYPE][\"server_id\"];\n    }\n  }\n\n  function register_renderer(events, OutputArea) {\n\n    function append_mime(data, metadata, element) {\n      // create a DOM node to render to\n      const toinsert = this.create_output_subarea(\n        metadata,\n        CLASS_NAME,\n        EXEC_MIME_TYPE\n      );\n      this.keyboard_manager.register_events(toinsert);\n      // Render to node\n      const props = {data: data, metadata: metadata[EXEC_MIME_TYPE]};\n      render(props, toinsert[toinsert.length - 1]);\n      element.append(toinsert);\n      return toinsert\n    }\n\n    /* Handle when an output is cleared or removed */\n    events.on('clear_output.CodeCell', handleClearOutput);\n    events.on('delete.Cell', handleClearOutput);\n\n    /* Handle when a new output is added */\n    events.on('output_added.OutputArea', handleAddOutput);\n\n    /**\n     * Register the mime type and append_mime function with output_area\n     */\n    OutputArea.prototype.register_mime_type(EXEC_MIME_TYPE, append_mime, {\n      /* Is output safe? */\n      safe: true,\n      /* Index of renderer in `output_area.display_order` */\n      index: 0\n    });\n  }\n\n  // register the mime type if in Jupyter Notebook environment and previously unregistered\n  if (root.Jupyter !== undefined) {\n    const events = require('base/js/events');\n    const OutputArea = require('notebook/js/outputarea').OutputArea;\n\n    if (OutputArea.prototype.mime_types().indexOf(EXEC_MIME_TYPE) == -1) {\n      register_renderer(events, OutputArea);\n    }\n  }\n  if (typeof (root._bokeh_timeout) === \"undefined\" || force === true) {\n    root._bokeh_timeout = Date.now() + 5000;\n    root._bokeh_failed_load = false;\n  }\n\n  const NB_LOAD_WARNING = {'data': {'text/html':\n     \"<div style='background-color: #fdd'>\\n\"+\n     \"<p>\\n\"+\n     \"BokehJS does not appear to have successfully loaded. If loading BokehJS from CDN, this \\n\"+\n     \"may be due to a slow or bad network connection. Possible fixes:\\n\"+\n     \"</p>\\n\"+\n     \"<ul>\\n\"+\n     \"<li>re-rerun `output_notebook()` to attempt to load from CDN again, or</li>\\n\"+\n     \"<li>use INLINE resources instead, as so:</li>\\n\"+\n     \"</ul>\\n\"+\n     \"<code>\\n\"+\n     \"from bokeh.resources import INLINE\\n\"+\n     \"output_notebook(resources=INLINE)\\n\"+\n     \"</code>\\n\"+\n     \"</div>\"}};\n\n  function display_loaded() {\n    const el = document.getElementById(\"f9f3116d-da48-43cd-8203-951a5fd2adf3\");\n    if (el != null) {\n      el.textContent = \"BokehJS is loading...\";\n    }\n    if (root.Bokeh !== undefined) {\n      if (el != null) {\n        el.textContent = \"BokehJS \" + root.Bokeh.version + \" successfully loaded.\";\n      }\n    } else if (Date.now() < root._bokeh_timeout) {\n      setTimeout(display_loaded, 100)\n    }\n  }\n\n  function run_callbacks() {\n    try {\n      root._bokeh_onload_callbacks.forEach(function(callback) {\n        if (callback != null)\n          callback();\n      });\n    } finally {\n      delete root._bokeh_onload_callbacks\n    }\n    console.debug(\"Bokeh: all callbacks have finished\");\n  }\n\n  function load_libs(css_urls, js_urls, callback) {\n    if (css_urls == null) css_urls = [];\n    if (js_urls == null) js_urls = [];\n\n    root._bokeh_onload_callbacks.push(callback);\n    if (root._bokeh_is_loading > 0) {\n      console.debug(\"Bokeh: BokehJS is being loaded, scheduling callback at\", now());\n      return null;\n    }\n    if (js_urls == null || js_urls.length === 0) {\n      run_callbacks();\n      return null;\n    }\n    console.debug(\"Bokeh: BokehJS not loaded, scheduling load and callback at\", now());\n    root._bokeh_is_loading = css_urls.length + js_urls.length;\n\n    function on_load() {\n      root._bokeh_is_loading--;\n      if (root._bokeh_is_loading === 0) {\n        console.debug(\"Bokeh: all BokehJS libraries/stylesheets loaded\");\n        run_callbacks()\n      }\n    }\n\n    function on_error(url) {\n      console.error(\"failed to load \" + url);\n    }\n\n    for (let i = 0; i < css_urls.length; i++) {\n      const url = css_urls[i];\n      const element = document.createElement(\"link\");\n      element.onload = on_load;\n      element.onerror = on_error.bind(null, url);\n      element.rel = \"stylesheet\";\n      element.type = \"text/css\";\n      element.href = url;\n      console.debug(\"Bokeh: injecting link tag for BokehJS stylesheet: \", url);\n      document.body.appendChild(element);\n    }\n\n    for (let i = 0; i < js_urls.length; i++) {\n      const url = js_urls[i];\n      const element = document.createElement('script');\n      element.onload = on_load;\n      element.onerror = on_error.bind(null, url);\n      element.async = false;\n      element.src = url;\n      console.debug(\"Bokeh: injecting script tag for BokehJS library: \", url);\n      document.head.appendChild(element);\n    }\n  };\n\n  function inject_raw_css(css) {\n    const element = document.createElement(\"style\");\n    element.appendChild(document.createTextNode(css));\n    document.body.appendChild(element);\n  }\n\n  const js_urls = [\"https://cdn.bokeh.org/bokeh/release/bokeh-3.3.0.min.js\", \"https://cdn.bokeh.org/bokeh/release/bokeh-gl-3.3.0.min.js\", \"https://cdn.bokeh.org/bokeh/release/bokeh-widgets-3.3.0.min.js\", \"https://cdn.bokeh.org/bokeh/release/bokeh-tables-3.3.0.min.js\", \"https://cdn.bokeh.org/bokeh/release/bokeh-mathjax-3.3.0.min.js\"];\n  const css_urls = [];\n\n  const inline_js = [    function(Bokeh) {\n      Bokeh.set_log_level(\"info\");\n    },\nfunction(Bokeh) {\n    }\n  ];\n\n  function run_inline_js() {\n    if (root.Bokeh !== undefined || force === true) {\n          for (let i = 0; i < inline_js.length; i++) {\n      inline_js[i].call(root, root.Bokeh);\n    }\nif (force === true) {\n        display_loaded();\n      }} else if (Date.now() < root._bokeh_timeout) {\n      setTimeout(run_inline_js, 100);\n    } else if (!root._bokeh_failed_load) {\n      console.log(\"Bokeh: BokehJS failed to load within specified timeout.\");\n      root._bokeh_failed_load = true;\n    } else if (force !== true) {\n      const cell = $(document.getElementById(\"f9f3116d-da48-43cd-8203-951a5fd2adf3\")).parents('.cell').data().cell;\n      cell.output_area.append_execute_result(NB_LOAD_WARNING)\n    }\n  }\n\n  if (root._bokeh_is_loading === 0) {\n    console.debug(\"Bokeh: BokehJS loaded, going straight to plotting\");\n    run_inline_js();\n  } else {\n    load_libs(css_urls, js_urls, function() {\n      console.debug(\"Bokeh: BokehJS plotting callback run at\", now());\n      run_inline_js();\n    });\n  }\n}(window));",
      "application/vnd.bokehjs_load.v0+json": ""
     },
     "metadata": {},
     "output_type": "display_data"
    }
   ],
   "source": [
    "a = visualize(data, 760, 400)"
   ]
  },
  {
   "cell_type": "code",
   "execution_count": 20,
   "metadata": {},
   "outputs": [
    {
     "data": {
      "text/html": [
       "\n",
       "  <div id=\"b92d98c3-0f88-4f33-be8e-7f48481e9074\" data-root-id=\"p1118\" style=\"display: contents;\"></div>\n"
      ]
     },
     "metadata": {},
     "output_type": "display_data"
    },
    {
     "data": {
      "application/javascript": "(function(root) {\n  function embed_document(root) {\n  const docs_json = {\"d2a334d3-8ace-4dbc-b440-fbdb1f9c1994\":{\"version\":\"3.3.0\",\"title\":\"Bokeh Application\",\"roots\":[{\"type\":\"object\",\"name\":\"Figure\",\"id\":\"p1118\",\"attributes\":{\"width\":760,\"height\":400,\"x_range\":{\"type\":\"object\",\"name\":\"DataRange1d\",\"id\":\"p1119\"},\"y_range\":{\"type\":\"object\",\"name\":\"DataRange1d\",\"id\":\"p1120\"},\"x_scale\":{\"type\":\"object\",\"name\":\"LinearScale\",\"id\":\"p1127\"},\"y_scale\":{\"type\":\"object\",\"name\":\"LinearScale\",\"id\":\"p1128\"},\"title\":null,\"renderers\":[{\"type\":\"object\",\"name\":\"GlyphRenderer\",\"id\":\"p1160\",\"attributes\":{\"data_source\":{\"type\":\"object\",\"name\":\"ColumnDataSource\",\"id\":\"p1154\",\"attributes\":{\"selected\":{\"type\":\"object\",\"name\":\"Selection\",\"id\":\"p1155\",\"attributes\":{\"indices\":[],\"line_indices\":[]}},\"selection_policy\":{\"type\":\"object\",\"name\":\"UnionRenderers\",\"id\":\"p1156\"},\"data\":{\"type\":\"map\",\"entries\":[[\"top\",{\"type\":\"ndarray\",\"array\":{\"type\":\"bytes\",\"data\":\"8FyYx14Kej8AAAAAAAAAAPBcmMdeCno/AAAAAAAAAAAAAAAAAAAAAAAAAAAAAAAABF2Yx14Kej8AAAAAAAAAAAAAAAAAAAAABF2Yx14Kij/wXJjHXgp6P8RFshXHh5M/xEWyFceHkz8WOr88e0agP/O/OCkh57E/8784KSHnsT8jOr88e0awP6sI7wsaWMQ/g8srAm0oxT/zvzgpIefBPwRdmMdeCso/iZvdt6Su0D/YssNpPDHXPx2aW9ELOtk/pWiLoKpL3T+oOD1W4tHYP611AGCPAdg/AcqpG9Sz3T9e5JOanR/TPyHXHtu4adg/jY5o+L/41T/kvzgpIefRP8yCdR90t9I/pJvdt6Su0D8WOr88e0bAP7sI7wsaWMQ/5L84KSHnwT++4hG0BKu7P43uBI1Q7L4/5L84KSHnsT9SUaXuEsmmPxldmMdeCoo/tEWyFceHkz/wXJjHXgp6PwAAAAAAAAAA8FyYx14Kej8AAAAAAAAAAAAAAAAAAAAALl2Yx14Kej8=\"},\"shape\":[49],\"dtype\":\"float64\",\"order\":\"little\"}],[\"left\",{\"type\":\"ndarray\",\"array\":{\"type\":\"bytes\",\"data\":\"nIKsrej1EMCzG68o11QQwJZpY0eLZw/AxJtoPWglDsDzzW0zReMMwCIAcykioQvAUDJ4H/9eCsB/ZH0V3BwJwK6Wggu52gfA3ciHAZaYBsAM+4z3clYFwDotku1PFATAaV+X4yzSAsCYkZzZCZABwMbDoc/mTQDA6utNi4cX/r9IUFh3QZP7v6a0YmP7Dvm/BBltT7WK9r9gfXc7bwb0v77hgScpgvG/OIwYJ8b77b/wVC3/OfPov6wdQtet6uO/0MytXkPE3b9IXtcOK7PTv4DfAX4lRMO/ALRfNWTBez/A2lfBOwDFP+BbgjA2kdQ/cMpYgE6i3j94nBdos1nkP8DTApA/Yuk/CAvut8tq7j8koezvq7nxP8g84gPyPfQ/aNjXFzjC9j8MdM0rfkb5P7APwz/Eyvs/UKu4UwpP/j96I9czqGkAQEzx0T3LqwFAHL/MR+7tAkDujMdRETAEQMBawls0cgVAkCi9ZVe0BkBi9rdvevYHQDLEsnmdOAlABJKtg8B6CkA=\"},\"shape\":[49],\"dtype\":\"float64\",\"order\":\"little\"}],[\"right\",{\"type\":\"ndarray\",\"array\":{\"type\":\"bytes\",\"data\":\"sxuvKNdUEMCWaWNHi2cPwMSbaD1oJQ7A881tM0XjDMAiAHMpIqELwFAyeB//XgrAf2R9FdwcCcCuloILudoHwN3IhwGWmAbADPuM93JWBcA6LZLtTxQEwGlfl+Ms0gLAmJGc2QmQAcDGw6HP5k0AwOrrTYuHF/6/SFBYd0GT+7+mtGJj+w75vwQZbU+1iva/YH13O28G9L++4YEnKYLxvziMGCfG++2/8FQt/znz6L+sHULXrerjv9DMrV5DxN2/SF7XDiuz07+A3wF+JUTDvwC0XzVkwXs/wNpXwTsAxT/gW4IwNpHUP3DKWIBOot4/eJwXaLNZ5D/A0wKQP2LpPwgL7rfLau4/JKHs76u58T/IPOID8j30P2jY1xc4wvY/DHTNK35G+T+wD8M/xMr7P1CruFMKT/4/eiPXM6hpAEBM8dE9y6sBQBy/zEfu7QJA7ozHUREwBEDAWsJbNHIFQJAovWVXtAZAYva3b3r2B0AyxLJ5nTgJQASSrYPAegpA01+ojeO8C0A=\"},\"shape\":[49],\"dtype\":\"float64\",\"order\":\"little\"}]]}}},\"view\":{\"type\":\"object\",\"name\":\"CDSView\",\"id\":\"p1161\",\"attributes\":{\"filter\":{\"type\":\"object\",\"name\":\"AllIndices\",\"id\":\"p1162\"}}},\"glyph\":{\"type\":\"object\",\"name\":\"Quad\",\"id\":\"p1157\",\"attributes\":{\"left\":{\"type\":\"field\",\"field\":\"left\"},\"right\":{\"type\":\"field\",\"field\":\"right\"},\"bottom\":{\"type\":\"value\",\"value\":0},\"top\":{\"type\":\"field\",\"field\":\"top\"},\"line_color\":{\"type\":\"value\",\"value\":\"white\"},\"fill_color\":{\"type\":\"value\",\"value\":\"skyblue\"}}},\"nonselection_glyph\":{\"type\":\"object\",\"name\":\"Quad\",\"id\":\"p1158\",\"attributes\":{\"left\":{\"type\":\"field\",\"field\":\"left\"},\"right\":{\"type\":\"field\",\"field\":\"right\"},\"bottom\":{\"type\":\"value\",\"value\":0},\"top\":{\"type\":\"field\",\"field\":\"top\"},\"line_color\":{\"type\":\"value\",\"value\":\"white\"},\"line_alpha\":{\"type\":\"value\",\"value\":0.1},\"fill_color\":{\"type\":\"value\",\"value\":\"skyblue\"},\"fill_alpha\":{\"type\":\"value\",\"value\":0.1},\"hatch_alpha\":{\"type\":\"value\",\"value\":0.1}}},\"muted_glyph\":{\"type\":\"object\",\"name\":\"Quad\",\"id\":\"p1159\",\"attributes\":{\"left\":{\"type\":\"field\",\"field\":\"left\"},\"right\":{\"type\":\"field\",\"field\":\"right\"},\"bottom\":{\"type\":\"value\",\"value\":0},\"top\":{\"type\":\"field\",\"field\":\"top\"},\"line_color\":{\"type\":\"value\",\"value\":\"white\"},\"line_alpha\":{\"type\":\"value\",\"value\":0.2},\"fill_color\":{\"type\":\"value\",\"value\":\"skyblue\"},\"fill_alpha\":{\"type\":\"value\",\"value\":0.2},\"hatch_alpha\":{\"type\":\"value\",\"value\":0.2}}}}},{\"type\":\"object\",\"name\":\"GlyphRenderer\",\"id\":\"p1169\",\"attributes\":{\"data_source\":{\"type\":\"object\",\"name\":\"ColumnDataSource\",\"id\":\"p1163\",\"attributes\":{\"selected\":{\"type\":\"object\",\"name\":\"Selection\",\"id\":\"p1164\",\"attributes\":{\"indices\":[],\"line_indices\":[]}},\"selection_policy\":{\"type\":\"object\",\"name\":\"UnionRenderers\",\"id\":\"p1165\"},\"data\":{\"type\":\"map\",\"entries\":[[\"x\",{\"type\":\"ndarray\",\"array\":{\"type\":\"bytes\",\"data\":\"nIKsrej1EMClqnSp8MAQwK/SPKX4ixDAuPoEoQBXEMDCIs2cCCIQwJaVKjEh2g/AqeW6KDFwD8C8NUsgQQYPwM6F2xdRnA7A4dVrD2EyDsD0JfwGccgNwAd2jP6AXg3AGsYc9pD0DMAsFq3toIoMwEBmPeWwIAzAUrbN3MC2C8BlBl7U0EwLwHhW7svg4grAiqZ+w/B4CsCe9g67AA8KwLBGn7IQpQnAw5YvqiA7CcDW5r+hMNEIwOg2UJlAZwjA/IbgkFD9B8AO13CIYJMHwCEnAYBwKQfANHeRd4C/BsBHxyFvkFUGwFoXsmag6wXAbGdCXrCBBcB/t9JVwBcFwJIHY03QrQTApVfzROBDBMC4p4M88NkDwMr3EzQAcAPA3UekKxAGA8DwlzQjIJwCwAPoxBowMgLAFjhVEkDIAcAoiOUJUF4BwDvYdQFg9ADATigG+W+KAMBheJbwfyAAwOiQTdAfbf+/DjFuvz+Z/r8y0Y6uX8X9v1hxr51/8fy/fhHQjJ8d/L+ksfB7v0n7v8pREWvfdfq/7vExWv+h+b8UklJJH874vzoyczg/+ve/YNKTJ18m97+GcrQWf1L2v6wS1QWffvW/0LL19L6q9L/2Uhbk3tbzvxzzNtP+AvO/QpNXwh4v8r9oM3ixPlvxv4zTmKBeh/C/ZOdyH/1m77+wJ7T9PL/tv/xn9dt8F+y/SKg2urxv6r+Q6HeY/Mfov9wouXY8IOe/KGn6VHx45b90qTszvNDjv8DpfBH8KOK/CCq+7zuB4L+o1P6b97Ldv0BVgVh3Y9q/2NUDFfcT179wVobRdsTTvwjXCI72dNC/QK8WlexKyr9gsBsO7KvDvwBjQQ7XGbq/AMuWAKy3qb8AEKZqw4pYP4ArQTdYQKs/gJOWKS3euj+ASMYbFw7EP2BHwaIXrco/ICPeFAym0D+AoltYjPXTP/Ah2ZsMRdc/UKFW34yU2j/AINQiDeTdPxjQKLPGmeA/yI/n1IZB4j+AT6b2RunjPzAPZRgHkeU/6M4jOsc45z+gjuJbh+DoP1BOoX1HiOo/CA5gnwcw7D+4zR7Bx9ftP3CN3eKHf+8/lCZOAqST8D9shi0ThGfxP0jmDCRkO/I/IEbsNEQP8z/8pctFJOPzP9gFq1YEt/Q/sGWKZ+SK9T+MxWl4xF72P2QlSYmkMvc/QIUomoQG+D8Y5QerZNr4P/RE57tErvk/0KTGzCSC+j+oBKbdBFb7P4Rkhe7kKfw/XMRk/8T9/D84JEQQpdH9PxSEIyGFpf4/7OMCMmV5/z/kIXGhoiYAQNDR4KmSkABAvoFQsoL6AECsMcC6cmQBQJjhL8NizgFAhpGfy1I4AkByQQ/UQqICQGDxftwyDANATqHu5CJ2A0A6UV7tEuADQCgBzvUCSgRAFLE9/vKzBEACYa0G4x0FQPAQHQ/ThwVA3MCMF8PxBUDKcPwfs1sGQLYgbCijxQZApNDbMJMvB0CSgEs5g5kHQH4wu0FzAwhAbOAqSmNtCEBYkJpSU9cIQEZACltDQQlANPB5YzOrCUAgoOlrIxUKQA5QWXQTfwpA+v/IfAPpCkDorziF81ILQNNfqI3jvAtA\"},\"shape\":[150],\"dtype\":\"float64\",\"order\":\"little\"}],[\"y\",{\"type\":\"ndarray\",\"array\":{\"type\":\"bytes\",\"data\":\"47k34kwWCj/3GpVkfzgQP4Jf6icpHhQ/gtjTQ3PiGD+fB7VJ0rIeP8lBxSSD4iI/dbh1djMsJz88dpYKrFssP92ZXWs6TjE/bZNnRqkQNT/I7vGQopI5P9NWL3BP9j4/RII5Go2xQj8TW9FlKYNGP5Fvw67vCUs/QC+zHr4xUD9YyOr6u1hTP9p+izAADVc/MYSVtwlkWz/LKgBy/zpgP9lqno7yLmM/hR47I+ycZj8yDrxooJVqP1SlhaaDK28/N7WGBXE5cj8zmoFq+kB1P1cZV/x5uHg/KV2HrRGtfD+UjSOrdpaAPxxnE7ihI4M/bFITDSkGhj/giaTuq0aJP/WiO9VD7ow/V7Sg4z2DkD/hgyhoosySPxnl0a5zWJU/+Tu8p/grmD+sB6xMkEybPwHstyulv54/xAl0k09FoT8eS8m1aVmjPwXO01a5nqU/RYC43roXqD/+ja5MxMaqPwdXiRT6ra0/EJnCtqFnsD8hX38aHxayPzUr1UYZ47M/tv3ENAPPtT+e4AuZGNq3PyYQWuNXBLo/8WyahnxNvD/X/aKp+bS+PzJMQLD6nMA/IpZiR6LtwT8G22DJs0vDP7MXK+xDtsQ/eW/9Nzssxj+RAurhVazHP9mhgkAkNck/BZiO4wvFyj9ekjBVSVrMP4quCIjy8s0/CZnD8vmMzz9gchwrGZPQP/EP5ZMpXtE/t7Yay34m0j+AassN4erSPxqi/EUTqtM/0fRYRtZi1D8XKfIu7BPVP2RYiO4bvNU/DLfB0jRa1j90VPsYEu3WP9/u4HCec9c/8xbOYdfs1z+8wCCE0FfYP1tKHoC2s9g/uAjXxNH/2D8maI7qiDvZP2NLkbViZtk/QSQKsAeA2T/A+kBTQ4jZP2BKwroEf9k/rQUW3l5k2T8D7vJPiDjZP8/oI4Ta+9g/JgqXn9Cu2D9F2zrYBVLYP8W/WGwz5tc/3hL3Oi5s1z+bzW8I5OTWPxsPyHtYUdY/bmpq4qGy1T8mNazI5QnVPxku+nVVWNQ/QuqpWyqf0z8u8TyFot/SPwzUYxj9GtI/p0lI8nZS0T8Ro5xuR4fQP27GWsc6dc8/K2iCujjbzT/k9fw8tELMP14Tv+K4rco/Tz4EkS4eyT9+Ub9s1pXHP5s9iHZIFsY/7Wxm0/GgxD88q7++EzfDP+u03x7D2cE/dFQJs+iJwD8Y47Gfg5C+P/PD8DnDKrw/UP6Ai2XjuT9IzM4a87q3PzRIgW2ssbU/iHW1Xo/Hsz81KsrbXPyxP+JMdeieT7A/AiKamF2BrT9gELqbdp2qPyN/YcOd8ac/jr66bKt7pT+/dNUSRzmjP8v/6GfyJ6E/F9GEgyeKnj92jS2G/xubPypGhWIEAJg/b50H18swlT8nybr796iSP2bvBJ1DY5A/GTk2oxm1jD9uYKKxuxOJP37zWKno2IU/U9En8I37gj+oLa+KE3OAPw1TbPDDbnw/To0RXsuBeD9c3Av6IBF1P9BSnSCyD3I/c1q7q+Pibj/Kd0kIpFZqP8+bexh1ZmY/L645NP3/Yj8BL3RPoRJgPxcPljfWHls/VLGQ4tvRVj/+YyYpViZTP5Qq9bjrBlA/\"},\"shape\":[150],\"dtype\":\"float64\",\"order\":\"little\"}]]}}},\"view\":{\"type\":\"object\",\"name\":\"CDSView\",\"id\":\"p1170\",\"attributes\":{\"filter\":{\"type\":\"object\",\"name\":\"AllIndices\",\"id\":\"p1171\"}}},\"glyph\":{\"type\":\"object\",\"name\":\"Line\",\"id\":\"p1166\",\"attributes\":{\"x\":{\"type\":\"field\",\"field\":\"x\"},\"y\":{\"type\":\"field\",\"field\":\"y\"},\"line_color\":\"navy\",\"line_width\":2}},\"nonselection_glyph\":{\"type\":\"object\",\"name\":\"Line\",\"id\":\"p1167\",\"attributes\":{\"x\":{\"type\":\"field\",\"field\":\"x\"},\"y\":{\"type\":\"field\",\"field\":\"y\"},\"line_color\":\"navy\",\"line_alpha\":0.1,\"line_width\":2}},\"muted_glyph\":{\"type\":\"object\",\"name\":\"Line\",\"id\":\"p1168\",\"attributes\":{\"x\":{\"type\":\"field\",\"field\":\"x\"},\"y\":{\"type\":\"field\",\"field\":\"y\"},\"line_color\":\"navy\",\"line_alpha\":0.2,\"line_width\":2}}}}],\"toolbar\":{\"type\":\"object\",\"name\":\"Toolbar\",\"id\":\"p1126\",\"attributes\":{\"tools\":[{\"type\":\"object\",\"name\":\"HoverTool\",\"id\":\"p1139\",\"attributes\":{\"renderers\":\"auto\"}},{\"type\":\"object\",\"name\":\"CrosshairTool\",\"id\":\"p1140\"},{\"type\":\"object\",\"name\":\"PanTool\",\"id\":\"p1141\"},{\"type\":\"object\",\"name\":\"WheelZoomTool\",\"id\":\"p1142\",\"attributes\":{\"renderers\":\"auto\"}},{\"type\":\"object\",\"name\":\"ZoomInTool\",\"id\":\"p1143\",\"attributes\":{\"renderers\":\"auto\"}},{\"type\":\"object\",\"name\":\"ZoomOutTool\",\"id\":\"p1144\",\"attributes\":{\"renderers\":\"auto\"}},{\"type\":\"object\",\"name\":\"BoxZoomTool\",\"id\":\"p1145\",\"attributes\":{\"overlay\":{\"type\":\"object\",\"name\":\"BoxAnnotation\",\"id\":\"p1146\",\"attributes\":{\"syncable\":false,\"level\":\"overlay\",\"visible\":false,\"left_units\":\"canvas\",\"right_units\":\"canvas\",\"top_units\":\"canvas\",\"bottom_units\":\"canvas\",\"line_color\":\"black\",\"line_alpha\":1.0,\"line_width\":2,\"line_dash\":[4,4],\"fill_color\":\"lightgrey\",\"fill_alpha\":0.5}}}},{\"type\":\"object\",\"name\":\"UndoTool\",\"id\":\"p1147\"},{\"type\":\"object\",\"name\":\"RedoTool\",\"id\":\"p1148\"},{\"type\":\"object\",\"name\":\"ResetTool\",\"id\":\"p1149\"},{\"type\":\"object\",\"name\":\"TapTool\",\"id\":\"p1150\",\"attributes\":{\"renderers\":\"auto\"}},{\"type\":\"object\",\"name\":\"SaveTool\",\"id\":\"p1151\"},{\"type\":\"object\",\"name\":\"BoxSelectTool\",\"id\":\"p1152\",\"attributes\":{\"renderers\":\"auto\",\"overlay\":{\"type\":\"object\",\"name\":\"BoxAnnotation\",\"id\":\"p1153\",\"attributes\":{\"syncable\":false,\"level\":\"overlay\",\"visible\":false,\"editable\":true,\"line_color\":\"black\",\"line_alpha\":1.0,\"line_width\":2,\"line_dash\":[4,4],\"fill_color\":\"lightgrey\",\"fill_alpha\":0.5}}}}]}},\"left\":[{\"type\":\"object\",\"name\":\"LinearAxis\",\"id\":\"p1134\",\"attributes\":{\"ticker\":{\"type\":\"object\",\"name\":\"BasicTicker\",\"id\":\"p1135\",\"attributes\":{\"mantissas\":[1,2,5]}},\"formatter\":{\"type\":\"object\",\"name\":\"BasicTickFormatter\",\"id\":\"p1136\"},\"major_label_policy\":{\"type\":\"object\",\"name\":\"AllLabels\",\"id\":\"p1137\"}}}],\"below\":[{\"type\":\"object\",\"name\":\"LinearAxis\",\"id\":\"p1129\",\"attributes\":{\"ticker\":{\"type\":\"object\",\"name\":\"BasicTicker\",\"id\":\"p1130\",\"attributes\":{\"mantissas\":[1,2,5]}},\"formatter\":{\"type\":\"object\",\"name\":\"BasicTickFormatter\",\"id\":\"p1131\"},\"major_label_policy\":{\"type\":\"object\",\"name\":\"AllLabels\",\"id\":\"p1132\"}}}],\"center\":[{\"type\":\"object\",\"name\":\"Grid\",\"id\":\"p1133\",\"attributes\":{\"axis\":{\"id\":\"p1129\"}}},{\"type\":\"object\",\"name\":\"Grid\",\"id\":\"p1138\",\"attributes\":{\"dimension\":1,\"axis\":{\"id\":\"p1134\"}}},{\"type\":\"object\",\"name\":\"Legend\",\"id\":\"p1172\",\"attributes\":{\"items\":[{\"type\":\"object\",\"name\":\"LegendItem\",\"id\":\"p1173\",\"attributes\":{\"label\":{\"type\":\"value\",\"value\":\"Probability Density Function\"},\"renderers\":[{\"id\":\"p1169\"}]}}]}}]}}]}};\n  const render_items = [{\"docid\":\"d2a334d3-8ace-4dbc-b440-fbdb1f9c1994\",\"roots\":{\"p1118\":\"b92d98c3-0f88-4f33-be8e-7f48481e9074\"},\"root_ids\":[\"p1118\"]}];\n  root.Bokeh.embed.embed_items_notebook(docs_json, render_items);\n  }\n  if (root.Bokeh !== undefined) {\n    embed_document(root);\n  } else {\n    let attempts = 0;\n    const timer = setInterval(function(root) {\n      if (root.Bokeh !== undefined) {\n        clearInterval(timer);\n        embed_document(root);\n      } else {\n        attempts++;\n        if (attempts > 100) {\n          clearInterval(timer);\n          console.log(\"Bokeh: ERROR: Unable to run BokehJS code because BokehJS library is missing\");\n        }\n      }\n    }, 10, root)\n  }\n})(window);",
      "application/vnd.bokehjs_exec.v0+json": ""
     },
     "metadata": {
      "application/vnd.bokehjs_exec.v0+json": {
       "id": "p1118"
      }
     },
     "output_type": "display_data"
    }
   ],
   "source": [
    "a.Density('x')"
   ]
  },
  {
   "cell_type": "code",
   "execution_count": null,
   "metadata": {},
   "outputs": [],
   "source": []
  },
  {
   "cell_type": "code",
   "execution_count": null,
   "metadata": {},
   "outputs": [],
   "source": []
  },
  {
   "cell_type": "code",
   "execution_count": null,
   "metadata": {},
   "outputs": [],
   "source": []
  },
  {
   "cell_type": "code",
   "execution_count": 80,
   "metadata": {},
   "outputs": [
    {
     "ename": "NameError",
     "evalue": "name 'size' is not defined",
     "output_type": "error",
     "traceback": [
      "\u001b[1;31m---------------------------------------------------------------------------\u001b[0m",
      "\u001b[1;31mNameError\u001b[0m                                 Traceback (most recent call last)",
      "\u001b[1;32mc:\\Users\\exem\\Desktop\\Z-Ho\\Z-Ho_Project\\2023\\visualize\\BOKEH\\bokeh_viz.ipynb Cell 2\u001b[0m line \u001b[0;36m1\n\u001b[1;32m----> <a href='vscode-notebook-cell:/c%3A/Users/exem/Desktop/Z-Ho/Z-Ho_Project/2023/visualize/BOKEH/bokeh_viz.ipynb#X12sZmlsZQ%3D%3D?line=0'>1</a>\u001b[0m \u001b[39mclass\u001b[39;49;00m \u001b[39mvisualize\u001b[39;49;00m():\n\u001b[0;32m      <a href='vscode-notebook-cell:/c%3A/Users/exem/Desktop/Z-Ho/Z-Ho_Project/2023/visualize/BOKEH/bokeh_viz.ipynb#X12sZmlsZQ%3D%3D?line=1'>2</a>\u001b[0m     \u001b[39mdef\u001b[39;49;00m \u001b[39m__init__\u001b[39;49m(\u001b[39mself\u001b[39;49m):\n\u001b[0;32m      <a href='vscode-notebook-cell:/c%3A/Users/exem/Desktop/Z-Ho/Z-Ho_Project/2023/visualize/BOKEH/bokeh_viz.ipynb#X12sZmlsZQ%3D%3D?line=2'>3</a>\u001b[0m         \u001b[39mfrom\u001b[39;49;00m \u001b[39mbokeh\u001b[39;49;00m\u001b[39m.\u001b[39;49;00m\u001b[39mio\u001b[39;49;00m \u001b[39mimport\u001b[39;49;00m output_notebook, show\n",
      "\u001b[1;32mc:\\Users\\exem\\Desktop\\Z-Ho\\Z-Ho_Project\\2023\\visualize\\BOKEH\\bokeh_viz.ipynb Cell 2\u001b[0m line \u001b[0;36m8\n\u001b[0;32m      <a href='vscode-notebook-cell:/c%3A/Users/exem/Desktop/Z-Ho/Z-Ho_Project/2023/visualize/BOKEH/bokeh_viz.ipynb#X12sZmlsZQ%3D%3D?line=4'>5</a>\u001b[0m     size \u001b[39m=\u001b[39m (\u001b[39m760\u001b[39m,\u001b[39m400\u001b[39m)\n\u001b[0;32m      <a href='vscode-notebook-cell:/c%3A/Users/exem/Desktop/Z-Ho/Z-Ho_Project/2023/visualize/BOKEH/bokeh_viz.ipynb#X12sZmlsZQ%3D%3D?line=5'>6</a>\u001b[0m     output_notebook()\n\u001b[1;32m----> <a href='vscode-notebook-cell:/c%3A/Users/exem/Desktop/Z-Ho/Z-Ho_Project/2023/visualize/BOKEH/bokeh_viz.ipynb#X12sZmlsZQ%3D%3D?line=7'>8</a>\u001b[0m \u001b[39mdef\u001b[39;00m \u001b[39mDensity\u001b[39m(dataset, x, \u001b[39mbin\u001b[39m\u001b[39m=\u001b[39m\u001b[39m50\u001b[39m, line_color\u001b[39m=\u001b[39m\u001b[39m'\u001b[39m\u001b[39mwhite\u001b[39m\u001b[39m'\u001b[39m, fill_color\u001b[39m=\u001b[39m\u001b[39m'\u001b[39m\u001b[39mskyblue\u001b[39m\u001b[39m'\u001b[39m, size\u001b[39m=\u001b[39msize):\n\u001b[0;32m      <a href='vscode-notebook-cell:/c%3A/Users/exem/Desktop/Z-Ho/Z-Ho_Project/2023/visualize/BOKEH/bokeh_viz.ipynb#X12sZmlsZQ%3D%3D?line=8'>9</a>\u001b[0m \u001b[39m    \u001b[39m\u001b[39m\"\"\"\u001b[39;00m\n\u001b[0;32m     <a href='vscode-notebook-cell:/c%3A/Users/exem/Desktop/Z-Ho/Z-Ho_Project/2023/visualize/BOKEH/bokeh_viz.ipynb#X12sZmlsZQ%3D%3D?line=9'>10</a>\u001b[0m \u001b[39m    dataset : pd.DataFrame\u001b[39;00m\n\u001b[0;32m     <a href='vscode-notebook-cell:/c%3A/Users/exem/Desktop/Z-Ho/Z-Ho_Project/2023/visualize/BOKEH/bokeh_viz.ipynb#X12sZmlsZQ%3D%3D?line=10'>11</a>\u001b[0m \u001b[39m    x : x축에 들어갈 변수\u001b[39;00m\n\u001b[1;32m   (...)\u001b[0m\n\u001b[0;32m     <a href='vscode-notebook-cell:/c%3A/Users/exem/Desktop/Z-Ho/Z-Ho_Project/2023/visualize/BOKEH/bokeh_viz.ipynb#X12sZmlsZQ%3D%3D?line=14'>15</a>\u001b[0m \u001b[39m    size : 그래프의 사이즈\u001b[39;00m\n\u001b[0;32m     <a href='vscode-notebook-cell:/c%3A/Users/exem/Desktop/Z-Ho/Z-Ho_Project/2023/visualize/BOKEH/bokeh_viz.ipynb#X12sZmlsZQ%3D%3D?line=15'>16</a>\u001b[0m \u001b[39m    \"\"\"\u001b[39;00m\n\u001b[0;32m     <a href='vscode-notebook-cell:/c%3A/Users/exem/Desktop/Z-Ho/Z-Ho_Project/2023/visualize/BOKEH/bokeh_viz.ipynb#X12sZmlsZQ%3D%3D?line=17'>18</a>\u001b[0m     \u001b[39mimport\u001b[39;00m \u001b[39mnumpy\u001b[39;00m \u001b[39mas\u001b[39;00m \u001b[39mnp\u001b[39;00m\n",
      "\u001b[1;31mNameError\u001b[0m: name 'size' is not defined"
     ]
    }
   ],
   "source": [
    "class visualize():\n",
    "    def __init__(self):\n",
    "        from bokeh.io import output_notebook, show\n",
    "        from bokeh.plotting import figure\n",
    "        \n",
    "        self.size = (760,400)\n",
    "        output_notebook()\n",
    "\n",
    "    def Density(dataset, x, bin=50, line_color='white', fill_color='skyblue', size=size):\n",
    "        \"\"\"\n",
    "        dataset : pd.DataFrame\n",
    "        x : x축에 들어갈 변수\n",
    "        bin : 히스토그램을 몇 개의 막대로 나타낼것인지\n",
    "        line_color : 히스토그램의 모서리 색상\n",
    "        fill_color : 히스토그램의 안쪽 색상\n",
    "        size : 그래프의 사이즈\n",
    "        \"\"\"\n",
    "        \n",
    "        import numpy as np\n",
    "        width = size[0]\n",
    "        height = size[1]\n",
    "        x = dataset[x]\n",
    "        p = figure(width=width, \n",
    "                   height=height,\n",
    "                   title = None)\n",
    "        bins = np.linspace(min(x),max(x),bin)\n",
    "        hist, edges = np.histogram(x, density=True, bins=bins)\n",
    "        p.quad(top=hist,\n",
    "               bottom=0,\n",
    "               left=edges[:-1],\n",
    "               right=edges[1:],\n",
    "               fill_color=fill_color,\n",
    "               line_color=line_color,)\n",
    "        \n",
    "        d = np.linspace(min(x),max(x),bin*3)\n",
    "        pdf = np.exp(-0.5*d**2) / np.sqrt(2.0*np.pi)\n",
    "        p.line(d, \n",
    "               pdf, \n",
    "               line_width=2, \n",
    "               line_color=\"navy\",\n",
    "               legend_label=\"Probability Density Function\")\n",
    "        show(p)\n",
    "\n"
   ]
  },
  {
   "cell_type": "code",
   "execution_count": 5,
   "metadata": {},
   "outputs": [],
   "source": [
    "import pandas as pd\n",
    "import numpy as np\n",
    "\n",
    "rng = np.random.default_rng()\n",
    "x = rng.normal(loc=0, scale=1, size=1000)\n",
    "y = rng.normal(loc=0, scale=3, size=1000)\n",
    "z = rng.normal(loc=0, scale=2, size=1000)\n",
    "data = pd.DataFrame(data=[x,y,z],\n",
    "                    index=['x','y','z']).T\n"
   ]
  },
  {
   "cell_type": "code",
   "execution_count": 6,
   "metadata": {},
   "outputs": [
    {
     "ename": "AttributeError",
     "evalue": "'DataFrame' object has no attribute 'data'",
     "output_type": "error",
     "traceback": [
      "\u001b[1;31m---------------------------------------------------------------------------\u001b[0m",
      "\u001b[1;31mAttributeError\u001b[0m                            Traceback (most recent call last)",
      "\u001b[1;32mc:\\Users\\exem\\Desktop\\Z-Ho\\Z-Ho_Project\\2023\\visualize\\BOKEH\\bokeh_viz.ipynb Cell 12\u001b[0m line \u001b[0;36m1\n\u001b[1;32m----> <a href='vscode-notebook-cell:/c%3A/Users/exem/Desktop/Z-Ho/Z-Ho_Project/2023/visualize/BOKEH/bokeh_viz.ipynb#X14sZmlsZQ%3D%3D?line=0'>1</a>\u001b[0m visualize\u001b[39m.\u001b[39;49mDensity(data, \u001b[39m'\u001b[39;49m\u001b[39mz\u001b[39;49m\u001b[39m'\u001b[39;49m)\n",
      "\u001b[1;32mc:\\Users\\exem\\Desktop\\Z-Ho\\Z-Ho_Project\\2023\\visualize\\BOKEH\\bokeh_viz.ipynb Cell 12\u001b[0m line \u001b[0;36m1\n\u001b[0;32m     <a href='vscode-notebook-cell:/c%3A/Users/exem/Desktop/Z-Ho/Z-Ho_Project/2023/visualize/BOKEH/bokeh_viz.ipynb#X14sZmlsZQ%3D%3D?line=9'>10</a>\u001b[0m \u001b[39mdef\u001b[39;00m \u001b[39mDensity\u001b[39m(\u001b[39mself\u001b[39m, x, \u001b[39mbin\u001b[39m\u001b[39m=\u001b[39m\u001b[39m50\u001b[39m, line_color\u001b[39m=\u001b[39m\u001b[39m'\u001b[39m\u001b[39mwhite\u001b[39m\u001b[39m'\u001b[39m, fill_color\u001b[39m=\u001b[39m\u001b[39m'\u001b[39m\u001b[39mskyblue\u001b[39m\u001b[39m'\u001b[39m):\n\u001b[0;32m     <a href='vscode-notebook-cell:/c%3A/Users/exem/Desktop/Z-Ho/Z-Ho_Project/2023/visualize/BOKEH/bokeh_viz.ipynb#X14sZmlsZQ%3D%3D?line=10'>11</a>\u001b[0m \u001b[39m    \u001b[39m\u001b[39m\"\"\"\u001b[39;00m\n\u001b[0;32m     <a href='vscode-notebook-cell:/c%3A/Users/exem/Desktop/Z-Ho/Z-Ho_Project/2023/visualize/BOKEH/bokeh_viz.ipynb#X14sZmlsZQ%3D%3D?line=11'>12</a>\u001b[0m \u001b[39m    dataset : pd.DataFrame\u001b[39;00m\n\u001b[0;32m     <a href='vscode-notebook-cell:/c%3A/Users/exem/Desktop/Z-Ho/Z-Ho_Project/2023/visualize/BOKEH/bokeh_viz.ipynb#X14sZmlsZQ%3D%3D?line=12'>13</a>\u001b[0m \u001b[39m    x : x축에 들어갈 변수\u001b[39;00m\n\u001b[1;32m   (...)\u001b[0m\n\u001b[0;32m     <a href='vscode-notebook-cell:/c%3A/Users/exem/Desktop/Z-Ho/Z-Ho_Project/2023/visualize/BOKEH/bokeh_viz.ipynb#X14sZmlsZQ%3D%3D?line=16'>17</a>\u001b[0m \u001b[39m    size : 그래프의 사이즈\u001b[39;00m\n\u001b[0;32m     <a href='vscode-notebook-cell:/c%3A/Users/exem/Desktop/Z-Ho/Z-Ho_Project/2023/visualize/BOKEH/bokeh_viz.ipynb#X14sZmlsZQ%3D%3D?line=17'>18</a>\u001b[0m \u001b[39m    \"\"\"\u001b[39;00m\n\u001b[1;32m---> <a href='vscode-notebook-cell:/c%3A/Users/exem/Desktop/Z-Ho/Z-Ho_Project/2023/visualize/BOKEH/bokeh_viz.ipynb#X14sZmlsZQ%3D%3D?line=18'>19</a>\u001b[0m     data \u001b[39m=\u001b[39m \u001b[39mself\u001b[39;49m\u001b[39m.\u001b[39;49mdata\n\u001b[0;32m     <a href='vscode-notebook-cell:/c%3A/Users/exem/Desktop/Z-Ho/Z-Ho_Project/2023/visualize/BOKEH/bokeh_viz.ipynb#X14sZmlsZQ%3D%3D?line=19'>20</a>\u001b[0m     width \u001b[39m=\u001b[39m \u001b[39mself\u001b[39m\u001b[39m.\u001b[39mwidth\n\u001b[0;32m     <a href='vscode-notebook-cell:/c%3A/Users/exem/Desktop/Z-Ho/Z-Ho_Project/2023/visualize/BOKEH/bokeh_viz.ipynb#X14sZmlsZQ%3D%3D?line=20'>21</a>\u001b[0m     height \u001b[39m=\u001b[39m \u001b[39mself\u001b[39m\u001b[39m.\u001b[39mheight\n",
      "File \u001b[1;32mc:\\Users\\exem\\AppData\\Local\\Programs\\Python\\Python312\\Lib\\site-packages\\pandas\\core\\generic.py:6204\u001b[0m, in \u001b[0;36mNDFrame.__getattr__\u001b[1;34m(self, name)\u001b[0m\n\u001b[0;32m   6197\u001b[0m \u001b[39mif\u001b[39;00m (\n\u001b[0;32m   6198\u001b[0m     name \u001b[39mnot\u001b[39;00m \u001b[39min\u001b[39;00m \u001b[39mself\u001b[39m\u001b[39m.\u001b[39m_internal_names_set\n\u001b[0;32m   6199\u001b[0m     \u001b[39mand\u001b[39;00m name \u001b[39mnot\u001b[39;00m \u001b[39min\u001b[39;00m \u001b[39mself\u001b[39m\u001b[39m.\u001b[39m_metadata\n\u001b[0;32m   6200\u001b[0m     \u001b[39mand\u001b[39;00m name \u001b[39mnot\u001b[39;00m \u001b[39min\u001b[39;00m \u001b[39mself\u001b[39m\u001b[39m.\u001b[39m_accessors\n\u001b[0;32m   6201\u001b[0m     \u001b[39mand\u001b[39;00m \u001b[39mself\u001b[39m\u001b[39m.\u001b[39m_info_axis\u001b[39m.\u001b[39m_can_hold_identifiers_and_holds_name(name)\n\u001b[0;32m   6202\u001b[0m ):\n\u001b[0;32m   6203\u001b[0m     \u001b[39mreturn\u001b[39;00m \u001b[39mself\u001b[39m[name]\n\u001b[1;32m-> 6204\u001b[0m \u001b[39mreturn\u001b[39;00m \u001b[39mobject\u001b[39;49m\u001b[39m.\u001b[39;49m\u001b[39m__getattribute__\u001b[39;49m(\u001b[39mself\u001b[39;49m, name)\n",
      "\u001b[1;31mAttributeError\u001b[0m: 'DataFrame' object has no attribute 'data'"
     ]
    }
   ],
   "source": [
    "visualize.Density(data, 'z')"
   ]
  },
  {
   "cell_type": "code",
   "execution_count": null,
   "metadata": {},
   "outputs": [],
   "source": []
  },
  {
   "cell_type": "code",
   "execution_count": null,
   "metadata": {},
   "outputs": [],
   "source": [
    "from bokeh.layouts import gridplot\n",
    "from bokeh.plotting import figure\n",
    "from bokeh.io import show, output_notebook"
   ]
  },
  {
   "cell_type": "code",
   "execution_count": null,
   "metadata": {},
   "outputs": [],
   "source": [
    "import numpy as np\n",
    "\n",
    "rng = np.random.default_rng()\n",
    "x = rng.normal(loc=0, scale=1, size=1000)\n",
    "\n",
    "p = figure(width=670, height=400, toolbar_location=None,\n",
    "           title=\"Normal (Gaussian) Distribution\")\n",
    "\n",
    "# Histogram\n",
    "bins = np.linspace(-3, 3, 40)\n",
    "# bins = np.linspace(-50,50,300)\n",
    "hist, edges = np.histogram(x, density=True, bins=bins)\n",
    "p.quad(top=hist, bottom=0, left=edges[:-1], right=edges[1:],\n",
    "         fill_color=\"skyblue\", line_color=\"white\",\n",
    "         legend_label=\"1000 random samples\")\n",
    "\n",
    "# Probability density function\n",
    "x = np.linspace(-3.0, 3.0, 100)\n",
    "pdf = np.exp(-0.5*x**2) / np.sqrt(2.0*np.pi)\n",
    "p.line(x, pdf, line_width=2, line_color=\"navy\",\n",
    "       legend_label=\"Probability Density Function\")\n",
    "\n",
    "p.y_range.start = 0\n",
    "p.xaxis.axis_label = \"x\"\n",
    "p.yaxis.axis_label = \"PDF(x)\"\n",
    "\n",
    "show(p)"
   ]
  },
  {
   "cell_type": "code",
   "execution_count": null,
   "metadata": {},
   "outputs": [],
   "source": []
  },
  {
   "cell_type": "code",
   "execution_count": null,
   "metadata": {},
   "outputs": [],
   "source": []
  }
 ],
 "metadata": {
  "kernelspec": {
   "display_name": "Python 3",
   "language": "python",
   "name": "python3"
  },
  "language_info": {
   "codemirror_mode": {
    "name": "ipython",
    "version": 3
   },
   "file_extension": ".py",
   "mimetype": "text/x-python",
   "name": "python",
   "nbconvert_exporter": "python",
   "pygments_lexer": "ipython3",
   "version": "3.12.0"
  }
 },
 "nbformat": 4,
 "nbformat_minor": 2
}
