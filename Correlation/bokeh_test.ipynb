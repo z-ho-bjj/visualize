{
 "cells": [
  {
   "cell_type": "code",
   "execution_count": 2,
   "metadata": {},
   "outputs": [],
   "source": [
    "import numpy as np\n",
    "\n",
    "from bokeh.core.properties import value\n",
    "from bokeh.plotting import figure, show"
   ]
  },
  {
   "cell_type": "code",
   "execution_count": 4,
   "metadata": {},
   "outputs": [],
   "source": [
    "url = 'https://static.bokeh.org/logos/logo.png'\n",
    "x = np.random.random(150) * 100\n",
    "y = np.random.random(150) * 100\n",
    "\n",
    "p = figure(match_aspect=True, toolbar_location=None,\n",
    "           background_fill_color=\"#efefef\")\n",
    "\n",
    "p.image_url(url=value(url), x=x, y=y, alpha=0.7, anchor=\"center\",\n",
    "            w=18, w_units=\"screen\", h=18, h_units=\"screen\")\n",
    "\n",
    "show(p)"
   ]
  },
  {
   "cell_type": "code",
   "execution_count": null,
   "metadata": {},
   "outputs": [],
   "source": []
  }
 ],
 "metadata": {
  "kernelspec": {
   "display_name": "Python 3",
   "language": "python",
   "name": "python3"
  },
  "language_info": {
   "codemirror_mode": {
    "name": "ipython",
    "version": 3
   },
   "file_extension": ".py",
   "mimetype": "text/x-python",
   "name": "python",
   "nbconvert_exporter": "python",
   "pygments_lexer": "ipython3",
   "version": "3.9.13"
  },
  "orig_nbformat": 4
 },
 "nbformat": 4,
 "nbformat_minor": 2
}
