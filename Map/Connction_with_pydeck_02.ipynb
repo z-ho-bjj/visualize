{
 "cells": [
  {
   "cell_type": "code",
   "execution_count": null,
   "metadata": {},
   "outputs": [],
   "source": [
    "import pydeck as pdk\n",
    "import pandas as pd\n",
    "import os\n",
    "import requests"
   ]
  },
  {
   "cell_type": "code",
   "execution_count": null,
   "metadata": {},
   "outputs": [],
   "source": [
    "url = 'http://openAPI.seoul.go.kr:8088/5356624d637a686f36396b77634850/json/bikeStationMaster/1/3/'\n",
    "tmp_ = requests.get(url).json()\n",
    "api_cols = pd.DataFrame(tmp_['bikeStationMaster']['row']).columns\n",
    "\n",
    "aa = [x*1000 for x in range(1,5)]\n",
    "\n",
    "BS_df = pd.DataFrame(columns = api_cols)\n",
    "\n",
    "for i in range(len(aa)):\n",
    "    start_num = aa[i]-999\n",
    "    end_num = aa[i]\n",
    "\n",
    "    url = f'http://openAPI.seoul.go.kr:8088/5356624d637a686f36396b77634850/json/bikeStationMaster/{start_num}/{end_num}/'\n",
    "\n",
    "    url2json = requests.get(url).json()\n",
    "    data = pd.DataFrame(url2json['bikeStationMaster']['row'])\n",
    "\n",
    "    BS_df = pd.concat([BS_df, data], axis=0)"
   ]
  },
  {
   "cell_type": "code",
   "execution_count": null,
   "metadata": {},
   "outputs": [],
   "source": [
    "BS_df.reset_index(drop=True, inplace = True)"
   ]
  },
  {
   "cell_type": "code",
   "execution_count": null,
   "metadata": {},
   "outputs": [],
   "source": [
    "bs_df_master = pd.read_csv('./tpss_bcycl_od_statnhm_20230801.csv', encoding='cp949')"
   ]
  },
  {
   "cell_type": "code",
   "execution_count": null,
   "metadata": {},
   "outputs": [],
   "source": [
    "bs_df_master = bs_df_master[(bs_df_master['시작_대여소_ID']!=bs_df_master['종료_대여소_ID']) & (bs_df_master['전체_이용_분']!=0)& (bs_df_master['전체_이용_거리']!=0)]"
   ]
  },
  {
   "cell_type": "code",
   "execution_count": null,
   "metadata": {},
   "outputs": [],
   "source": [
    "display(BS_df.head())\n",
    "display(bs_df_master.head())"
   ]
  },
  {
   "cell_type": "code",
   "execution_count": null,
   "metadata": {},
   "outputs": [],
   "source": [
    "tmp_df = pd.DataFrame(columns = ['start_id','start_lng','start_lat','end_id','end_lng','end_lat'])\n",
    "tmp_df['start_id'] = bs_df_master['시작_대여소_ID']\n",
    "tmp_df['end_id'] = bs_df_master['종료_대여소_ID']\n",
    "# tmp_df.drop_duplicates(inplace = True)\n",
    "tmp_df.reset_index(drop=True, inplace = True)"
   ]
  },
  {
   "cell_type": "code",
   "execution_count": null,
   "metadata": {},
   "outputs": [],
   "source": [
    "merge_left = pd.merge(tmp_df,BS_df, how='left', left_on='start_id', right_on='LENDPLACE_ID')"
   ]
  },
  {
   "cell_type": "code",
   "execution_count": null,
   "metadata": {},
   "outputs": [],
   "source": [
    "merge_left_ = pd.merge(tmp_df,BS_df, how='left', left_on='end_id', right_on='LENDPLACE_ID')"
   ]
  },
  {
   "cell_type": "code",
   "execution_count": null,
   "metadata": {},
   "outputs": [],
   "source": [
    "tmp_df['start_lng'] = merge_left['STATN_LNT']\n",
    "tmp_df['start_lat'] = merge_left['STATN_LAT']\n",
    "\n",
    "tmp_df['end_lng'] = merge_left_['STATN_LNT']\n",
    "tmp_df['end_lat'] = merge_left_['STATN_LAT']"
   ]
  },
  {
   "cell_type": "code",
   "execution_count": null,
   "metadata": {},
   "outputs": [],
   "source": [
    "bs_df_master.reset_index(drop= True,inplace=True)"
   ]
  },
  {
   "cell_type": "code",
   "execution_count": null,
   "metadata": {},
   "outputs": [],
   "source": [
    "tmp_df['cnt'] = bs_df_master['전체_건수']\n",
    "tmp_df['time'] = bs_df_master['전체_이용_분']\n"
   ]
  },
  {
   "cell_type": "code",
   "execution_count": null,
   "metadata": {},
   "outputs": [],
   "source": [
    "tmp_df"
   ]
  },
  {
   "cell_type": "code",
   "execution_count": null,
   "metadata": {},
   "outputs": [],
   "source": [
    "tmp_df = tmp_df[tmp_df['end_id']!='X']\n",
    "tmp_df.reset_index(drop = True, inplace = True)"
   ]
  },
  {
   "cell_type": "code",
   "execution_count": null,
   "metadata": {},
   "outputs": [],
   "source": [
    "tmp_df['norm_cnt'] = tmp_df['cnt'] / tmp_df['cnt'].max()\n",
    "tmp_df['norm_time'] = tmp_df['time'] / tmp_df['time'].max()"
   ]
  },
  {
   "cell_type": "code",
   "execution_count": null,
   "metadata": {},
   "outputs": [],
   "source": [
    "bs_df_master[bs_df_master['시작_대여소_ID']=='ST-2705']"
   ]
  },
  {
   "cell_type": "code",
   "execution_count": null,
   "metadata": {},
   "outputs": [],
   "source": [
    "tmp_df[tmp_df['end_lng'].isnull() == True]"
   ]
  },
  {
   "cell_type": "code",
   "execution_count": null,
   "metadata": {},
   "outputs": [],
   "source": [
    "tmp_df = tmp_df[tmp_df['end_id']!='X']\n",
    "tmp_df.reset_index(drop = True, inplace = True)"
   ]
  },
  {
   "cell_type": "code",
   "execution_count": null,
   "metadata": {},
   "outputs": [],
   "source": [
    "layer = pdk.Layer(\n",
    "    'LineLayer',\n",
    "    tmp_df,\n",
    "    get_source_position='[start_lng, start_lat]',\n",
    "    get_target_position='[end_lng, end_lat]',\n",
    "    get_width='1 + 10 * norm_cnt',\n",
    "    get_color='[255, 255 * norm_time, 120]',\n",
    "    pickable=True,\n",
    "    auto_highlight=True\n",
    ")\n",
    "\n",
    "# pydeck.data_utils.compute_view 는 Points 들의 경도, 위도를 리스트로 주면, 알아서 view_state 를 만들어줍니다.\n",
    "view_state = pdk.data_utils.compute_view(tmp_df[['start_lng', 'start_lat']].values)\n",
    "view_state.zoom = 13\n",
    "\n",
    "r = pdk.Deck(layers=[layer], initial_view_state=view_state)\n",
    "r.to_html()"
   ]
  },
  {
   "cell_type": "code",
   "execution_count": null,
   "metadata": {},
   "outputs": [],
   "source": [
    "tmp_df['start_id'].value_counts()"
   ]
  },
  {
   "cell_type": "code",
   "execution_count": null,
   "metadata": {},
   "outputs": [],
   "source": [
    "tmp_df_01 = tmp_df[tmp_df['start_id'] == 'ST-2031']"
   ]
  },
  {
   "cell_type": "code",
   "execution_count": null,
   "metadata": {},
   "outputs": [],
   "source": [
    "tmp_df_01['norm_cnt'] = tmp_df_01['cnt'] / tmp_df_01['cnt'].max()\n",
    "tmp_df_01['norm_time'] = tmp_df_01['time'] / tmp_df_01['time'].max()"
   ]
  },
  {
   "cell_type": "code",
   "execution_count": null,
   "metadata": {},
   "outputs": [],
   "source": [
    "tmp_df_02 = tmp_df_01.groupby(['start_id','end_id','start_lng','start_lat','end_lng','end_lat']).sum().reset_index().iloc[:, :-2]"
   ]
  },
  {
   "cell_type": "code",
   "execution_count": null,
   "metadata": {},
   "outputs": [],
   "source": [
    "tmp_df_02['norm_cnt'] = tmp_df_02['cnt'] / tmp_df_02['cnt'].max()\n",
    "tmp_df_02['norm_time'] = tmp_df_02['time'] / tmp_df_02['time'].max()"
   ]
  },
  {
   "cell_type": "code",
   "execution_count": null,
   "metadata": {},
   "outputs": [],
   "source": [
    "layer = pdk.Layer(\n",
    "    'LineLayer',\n",
    "    tmp_df_02,\n",
    "    get_source_position='[start_lng, start_lat]',\n",
    "    get_target_position='[end_lng, end_lat]',\n",
    "    get_width='1 + 10 * norm_cnt',\n",
    "    get_color='[255, 255 * norm_time, 120]',\n",
    "    pickable=True,\n",
    "    auto_highlight=True\n",
    ")\n",
    "\n",
    "# pydeck.data_utils.compute_view 는 Points 들의 경도, 위도를 리스트로 주면, 알아서 view_state 를 만들어줍니다.\n",
    "view_state = pdk.data_utils.compute_view(tmp_df_02[['start_lng', 'start_lat']].values)\n",
    "view_state.zoom = 13\n",
    "\n",
    "r = pdk.Deck(layers=[layer], initial_view_state=view_state)\n",
    "r.to_html()"
   ]
  },
  {
   "cell_type": "code",
   "execution_count": null,
   "metadata": {},
   "outputs": [],
   "source": [
    "layer = pdk.Layer(\n",
    "    'ArcLayer',\n",
    "    tmp_df_02,\n",
    "    get_source_position='[start_lng, start_lat]',\n",
    "    get_target_position='[end_lng, end_lat]',\n",
    "    get_width='1 + 10 * norm_cnt',\n",
    "    get_source_color='[255,  255 * norm_cnt, 120]',\n",
    "    get_target_color='[255,  255 * norm_cnt, 120]',\n",
    "    pickable=True,\n",
    "    auto_highlight=True\n",
    ")\n",
    "\n",
    "# pydeck.data_utils.compute_view 는 Points 들의 경도, 위도를 리스트로 주면, 알아서 view_state 를 만들어줍니다.\n",
    "view_state = pdk.data_utils.compute_view(tmp_df_02[['start_lng', 'start_lat']].values)\n",
    "view_state.zoom = 12\n",
    "view_state.bearing = -15\n",
    "view_state.pitch = 45\n",
    "\n",
    "r = pdk.Deck(layers=[layer], initial_view_state=view_state)\n",
    "r.to_html()"
   ]
  },
  {
   "cell_type": "code",
   "execution_count": null,
   "metadata": {},
   "outputs": [],
   "source": [
    "tmp_df_02['cnt'].max()"
   ]
  },
  {
   "cell_type": "code",
   "execution_count": null,
   "metadata": {},
   "outputs": [],
   "source": [
    "tmp_df_02[tmp_df_02['cnt']==86]"
   ]
  },
  {
   "cell_type": "code",
   "execution_count": null,
   "metadata": {},
   "outputs": [],
   "source": [
    "BS_df[(BS_df['LENDPLACE_ID']=='ST-2033') | (BS_df['LENDPLACE_ID']=='ST-2031')]"
   ]
  },
  {
   "cell_type": "code",
   "execution_count": null,
   "metadata": {},
   "outputs": [],
   "source": [
    "tmp_df_03 = tmp_df[tmp_df['end_id'] == 'ST-2031']"
   ]
  },
  {
   "cell_type": "code",
   "execution_count": null,
   "metadata": {},
   "outputs": [],
   "source": [
    "tmp_df_03['norm_cnt'] = tmp_df_03['cnt'] / tmp_df_03['cnt'].max()\n",
    "tmp_df_03['norm_time'] = tmp_df_03['time'] / tmp_df_03['time'].max()"
   ]
  },
  {
   "cell_type": "code",
   "execution_count": null,
   "metadata": {},
   "outputs": [],
   "source": [
    "tmp_df_04 = tmp_df_03.groupby(['start_id','end_id','start_lng','start_lat','end_lng','end_lat']).sum().reset_index().iloc[:, :-2]"
   ]
  },
  {
   "cell_type": "code",
   "execution_count": null,
   "metadata": {},
   "outputs": [],
   "source": [
    "tmp_df_04['norm_cnt'] = tmp_df_04['cnt'] / tmp_df_04['cnt'].max()\n",
    "tmp_df_04['norm_time'] = tmp_df_04['time'] / tmp_df_04['time'].max()"
   ]
  },
  {
   "cell_type": "code",
   "execution_count": null,
   "metadata": {},
   "outputs": [],
   "source": [
    "layer = pdk.Layer(\n",
    "    'ArcLayer',\n",
    "    tmp_df_02,\n",
    "    get_source_position='[start_lng, start_lat]',\n",
    "    get_target_position='[end_lng, end_lat]',\n",
    "    get_width='1 + 10 * norm_cnt',\n",
    "    get_source_color='[255,  255 * norm_cnt, 120]',\n",
    "    get_target_color='[255,  255 * norm_cnt, 120]',\n",
    "    pickable=True,\n",
    "    auto_highlight=True\n",
    ")\n",
    "layer2 = pdk.Layer(\n",
    "    'ArcLayer',\n",
    "    tmp_df_04,\n",
    "    get_source_position='[start_lng, start_lat]',\n",
    "    get_target_position='[end_lng, end_lat]',\n",
    "    get_width='1 + 10 * norm_cnt',\n",
    "\n",
    "    get_source_color = '[120,255,255]',\n",
    "    get_target_color = '[120,255,255]',\n",
    "\n",
    "    # get_source_color='[120,  120, 255 * norm_cnt]',\n",
    "    # get_target_color='[120,  120, 255 * norm_cnt]',\n",
    "    pickable=True,\n",
    "    auto_highlight=True\n",
    ")\n",
    "\n",
    "# pydeck.data_utils.compute_view 는 Points 들의 경도, 위도를 리스트로 주면, 알아서 view_state 를 만들어줍니다.\n",
    "view_state = pdk.data_utils.compute_view(tmp_df_02[['start_lng', 'start_lat']].values)\n",
    "view_state.zoom = 12\n",
    "view_state.bearing = -15\n",
    "view_state.pitch = 45\n",
    "\n",
    "r = pdk.Deck(layers=[layer, layer2], initial_view_state=view_state)\n",
    "r.to_html()"
   ]
  },
  {
   "cell_type": "code",
   "execution_count": null,
   "metadata": {},
   "outputs": [],
   "source": [
    "tmp_df_05 = tmp_df_04\n",
    "tmp_df_05['cnt'] = tmp_df_04['cnt'].apply(lambda x : x * -1)"
   ]
  },
  {
   "cell_type": "code",
   "execution_count": null,
   "metadata": {},
   "outputs": [],
   "source": [
    "tmp_df_05.rename(columns={'start_id':'end_id','end_id':'start_id','start_lng':'end_lng','start_lat':'end_lat','end_lng':'start_lng','end_lat':'start_lat'}, inplace=True)"
   ]
  },
  {
   "cell_type": "code",
   "execution_count": null,
   "metadata": {},
   "outputs": [],
   "source": [
    "tmp_df_05.head()"
   ]
  },
  {
   "cell_type": "code",
   "execution_count": null,
   "metadata": {},
   "outputs": [],
   "source": [
    "tmp_df_06 = pd.concat([tmp_df_02,tmp_df_05])"
   ]
  },
  {
   "cell_type": "code",
   "execution_count": null,
   "metadata": {},
   "outputs": [],
   "source": [
    "tmp_df_06"
   ]
  },
  {
   "cell_type": "code",
   "execution_count": null,
   "metadata": {},
   "outputs": [],
   "source": [
    "tmp_df_07 = tmp_df_06.pivot_table(index=['start_id','end_id','start_lng','start_lat','end_lng','end_lat'], aggfunc='sum')"
   ]
  },
  {
   "cell_type": "code",
   "execution_count": null,
   "metadata": {},
   "outputs": [],
   "source": [
    "imp_df_08 = tmp_df_07[tmp_df_07['cnt']<0]\n",
    "imp_df_09 = tmp_df_07[tmp_df_07['cnt']>=0]"
   ]
  },
  {
   "cell_type": "code",
   "execution_count": null,
   "metadata": {},
   "outputs": [],
   "source": [
    "imp_df_08.reset_index(inplace=True)\n",
    "imp_df_09.reset_index(inplace=True)"
   ]
  },
  {
   "cell_type": "code",
   "execution_count": null,
   "metadata": {},
   "outputs": [],
   "source": [
    "layer = pdk.Layer(\n",
    "    'ArcLayer',\n",
    "    imp_df_08,\n",
    "    get_source_position='[start_lng, start_lat]',\n",
    "    get_target_position='[end_lng, end_lat]',\n",
    "    # get_width='1 + 10 * norm_cnt',\n",
    "    get_source_color='[255, 255, 120]',\n",
    "    get_target_color='[255, 255, 120]',\n",
    "    pickable=True,\n",
    "    auto_highlight=True\n",
    ")\n",
    "\n",
    "layer2 = pdk.Layer(\n",
    "    'ArcLayer',\n",
    "    imp_df_09,\n",
    "    get_source_position='[start_lng, start_lat]',\n",
    "    get_target_position='[end_lng, end_lat]',\n",
    "    # get_width='1 + 10 * norm_cnt',\n",
    "\n",
    "    get_source_color = '[120,255,255]',\n",
    "    get_target_color = '[120,255,255]',\n",
    "\n",
    "    # get_source_color='[120,  120, 255 * norm_cnt]',\n",
    "    # get_target_color='[120,  120, 255 * norm_cnt]',\n",
    "    pickable=True,\n",
    "    auto_highlight=True\n",
    ")\n",
    "\n",
    "# pydeck.data_utils.compute_view 는 Points 들의 경도, 위도를 리스트로 주면, 알아서 view_state 를 만들어줍니다.\n",
    "view_state = pdk.data_utils.compute_view(imp_df_08[['start_lng', 'start_lat']].values)\n",
    "view_state.zoom = 12\n",
    "view_state.bearing = -15\n",
    "view_state.pitch = 45\n",
    "\n",
    "r = pdk.Deck(layers=[layer, layer2], initial_view_state=view_state)\n",
    "r.to_html()"
   ]
  }
 ],
 "metadata": {
  "kernelspec": {
   "display_name": "Python 3",
   "language": "python",
   "name": "python3"
  },
  "language_info": {
   "codemirror_mode": {
    "name": "ipython",
    "version": 3
   },
   "file_extension": ".py",
   "mimetype": "text/x-python",
   "name": "python",
   "nbconvert_exporter": "python",
   "pygments_lexer": "ipython3",
   "version": "3.9.13"
  },
  "orig_nbformat": 4
 },
 "nbformat": 4,
 "nbformat_minor": 2
}
