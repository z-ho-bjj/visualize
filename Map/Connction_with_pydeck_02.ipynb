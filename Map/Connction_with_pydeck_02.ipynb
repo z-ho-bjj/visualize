{
 "cells": [
  {
   "cell_type": "code",
   "execution_count": null,
   "metadata": {},
   "outputs": [],
   "source": [
    "import pydeck as pdk\n",
    "import pandas as pd\n",
    "import os\n",
    "import requests"
   ]
  },
  {
   "cell_type": "code",
   "execution_count": null,
   "metadata": {},
   "outputs": [],
   "source": [
    "# mapbox 토큰을 사용했으며,\n",
    "# 필자는 매번 토큰을 복사 붙여넣기하기가 번거로워 환경변수에 등록하여 사용함\n",
    "token = os.getenv('MAPBOX_ACCESS_TOKEN')"
   ]
  },
  {
   "cell_type": "code",
   "execution_count": null,
   "metadata": {},
   "outputs": [],
   "source": [
    "url = 'http://openAPI.seoul.go.kr:8088/5356624d637a686f36396b77634850/json/bikeStationMaster/1/3/'\n",
    "tmp_ = requests.get(url).json()\n",
    "api_cols = pd.DataFrame(tmp_['bikeStationMaster']['row']).columns\n",
    "\n",
    "aa = [x*1000 for x in range(1,5)]\n",
    "\n",
    "BS_df = pd.DataFrame(columns = api_cols)\n",
    "\n",
    "for i in range(len(aa)):\n",
    "    start_num = aa[i]-999\n",
    "    end_num = aa[i]\n",
    "\n",
    "    url = f'http://openAPI.seoul.go.kr:8088/5356624d637a686f36396b77634850/json/bikeStationMaster/{start_num}/{end_num}/'\n",
    "\n",
    "    url2json = requests.get(url).json()\n",
    "    data = pd.DataFrame(url2json['bikeStationMaster']['row'])\n",
    "\n",
    "    BS_df = pd.concat([BS_df, data], axis=0)"
   ]
  },
  {
   "cell_type": "code",
   "execution_count": null,
   "metadata": {},
   "outputs": [],
   "source": [
    "BS_df.reset_index(drop=True, inplace = True)"
   ]
  },
  {
   "cell_type": "code",
   "execution_count": null,
   "metadata": {},
   "outputs": [],
   "source": [
    "bs_df_master = pd.read_csv('./tpss_bcycl_od_statnhm_20230801.csv', encoding='cp949')"
   ]
  },
  {
   "cell_type": "code",
   "execution_count": null,
   "metadata": {},
   "outputs": [],
   "source": [
    "bs_df_master = bs_df_master[(bs_df_master['시작_대여소_ID']!=bs_df_master['종료_대여소_ID']) & (bs_df_master['전체_이용_분']!=0)& (bs_df_master['전체_이용_거리']!=0)]"
   ]
  },
  {
   "cell_type": "code",
   "execution_count": null,
   "metadata": {},
   "outputs": [],
   "source": [
    "display(BS_df.head())\n",
    "display(bs_df_master.head())"
   ]
  },
  {
   "cell_type": "code",
   "execution_count": null,
   "metadata": {},
   "outputs": [],
   "source": [
    "tmp_df = pd.DataFrame(columns = ['start_id','start_lng','start_lat','end_id','end_lng','end_lat'])\n",
    "tmp_df['start_id'] = bs_df_master['시작_대여소_ID']\n",
    "tmp_df['end_id'] = bs_df_master['종료_대여소_ID']\n",
    "# tmp_df.drop_duplicates(inplace = True)\n",
    "tmp_df.reset_index(drop=True, inplace = True)"
   ]
  },
  {
   "cell_type": "code",
   "execution_count": null,
   "metadata": {},
   "outputs": [],
   "source": [
    "merge_left = pd.merge(tmp_df,BS_df, how='left', left_on='start_id', right_on='LENDPLACE_ID')"
   ]
  },
  {
   "cell_type": "code",
   "execution_count": null,
   "metadata": {},
   "outputs": [],
   "source": [
    "merge_left_ = pd.merge(tmp_df,BS_df, how='left', left_on='end_id', right_on='LENDPLACE_ID')"
   ]
  },
  {
   "cell_type": "code",
   "execution_count": null,
   "metadata": {},
   "outputs": [],
   "source": [
    "tmp_df['start_lng'] = merge_left['STATN_LNT']\n",
    "tmp_df['start_lat'] = merge_left['STATN_LAT']\n",
    "\n",
    "tmp_df['end_lng'] = merge_left_['STATN_LNT']\n",
    "tmp_df['end_lat'] = merge_left_['STATN_LAT']"
   ]
  },
  {
   "cell_type": "code",
   "execution_count": null,
   "metadata": {},
   "outputs": [],
   "source": [
    "bs_df_master.reset_index(drop= True,inplace=True)"
   ]
  },
  {
   "cell_type": "code",
   "execution_count": null,
   "metadata": {},
   "outputs": [],
   "source": [
    "tmp_df['cnt'] = bs_df_master['전체_건수']\n",
    "tmp_df['time'] = bs_df_master['전체_이용_분']\n"
   ]
  },
  {
   "cell_type": "code",
   "execution_count": null,
   "metadata": {},
   "outputs": [],
   "source": [
    "tmp_df"
   ]
  },
  {
   "cell_type": "code",
   "execution_count": null,
   "metadata": {},
   "outputs": [],
   "source": [
    "tmp_df['norm_cnt'] = tmp_df['cnt'] / tmp_df['cnt'].max()\n",
    "tmp_df['norm_time'] = tmp_df['time'] / tmp_df['time'].max()"
   ]
  },
  {
   "cell_type": "code",
   "execution_count": null,
   "metadata": {},
   "outputs": [],
   "source": [
    "bs_df_master[bs_df_master['시작_대여소_ID']=='ST-2705']"
   ]
  },
  {
   "cell_type": "code",
   "execution_count": null,
   "metadata": {},
   "outputs": [],
   "source": [
    "tmp_df[tmp_df['end_lng'].isnull() == True]"
   ]
  },
  {
   "cell_type": "code",
   "execution_count": null,
   "metadata": {},
   "outputs": [],
   "source": [
    "tmp_df = tmp_df[tmp_df['end_id']!='X']\n",
    "tmp_df.reset_index(drop = True, inplace = True)"
   ]
  },
  {
   "cell_type": "code",
   "execution_count": null,
   "metadata": {},
   "outputs": [],
   "source": [
    "layer = pdk.Layer(\n",
    "    'LineLayer',\n",
    "    tmp_df,\n",
    "    get_source_position='[start_lng, start_lat]',\n",
    "    get_target_position='[end_lng, end_lat]',\n",
    "    get_width='1 + 10 * norm_cnt',\n",
    "    get_color='[255, 255 * norm_time, 120]',\n",
    "    pickable=True,\n",
    "    auto_highlight=True\n",
    ")\n",
    "\n",
    "# pydeck.data_utils.compute_view 는 Points 들의 경도, 위도를 리스트로 주면, 알아서 view_state 를 만들어줍니다.\n",
    "view_state = pdk.data_utils.compute_view(tmp_df[['start_lng', 'start_lat']].values)\n",
    "view_state.zoom = 13\n",
    "\n",
    "r = pdk.Deck(layers=[layer], initial_view_state=view_state)\n",
    "r.to_html()"
   ]
  },
  {
   "cell_type": "code",
   "execution_count": null,
   "metadata": {},
   "outputs": [],
   "source": [
    "tmp_df['start_id'].value_counts()"
   ]
  },
  {
   "cell_type": "code",
   "execution_count": null,
   "metadata": {},
   "outputs": [],
   "source": [
    "tmp_df_01 = tmp_df[tmp_df['start_id'] == 'ST-2031']"
   ]
  },
  {
   "cell_type": "code",
   "execution_count": null,
   "metadata": {},
   "outputs": [],
   "source": [
    "layer = pdk.Layer(\n",
    "    'LineLayer',\n",
    "    tmp_df_01,\n",
    "    get_source_position='[start_lng, start_lat]',\n",
    "    get_target_position='[end_lng, end_lat]',\n",
    "    get_width='1 + 10 * norm_cnt',\n",
    "    get_color='[255, 255 * norm_time, 120]',\n",
    "    pickable=True,\n",
    "    auto_highlight=True\n",
    ")\n",
    "\n",
    "# pydeck.data_utils.compute_view 는 Points 들의 경도, 위도를 리스트로 주면, 알아서 view_state 를 만들어줍니다.\n",
    "view_state = pdk.data_utils.compute_view(tmp_df_01[['start_lng', 'start_lat']].values)\n",
    "view_state.zoom = 13\n",
    "\n",
    "r = pdk.Deck(layers=[layer], initial_view_state=view_state)\n",
    "r.to_html()"
   ]
  },
  {
   "cell_type": "code",
   "execution_count": null,
   "metadata": {},
   "outputs": [],
   "source": [
    "layer = pdk.Layer(\n",
    "    'ArcLayer',\n",
    "    tmp_df_01,\n",
    "    get_source_position='[start_lng, start_lat]',\n",
    "    get_target_position='[end_lng, end_lat]',\n",
    "    get_width='1 + 10 * 정규화_이용',\n",
    "    get_source_color='[255, 255, 120]',\n",
    "    get_target_color='[255, 0, 0]',\n",
    "    pickable=True,\n",
    "    auto_highlight=True\n",
    ")\n",
    "\n",
    "# pydeck.data_utils.compute_view 는 Points 들의 경도, 위도를 리스트로 주면, 알아서 view_state 를 만들어줍니다.\n",
    "view_state = pdk.data_utils.compute_view(tmp_df_01[['start_lng', 'start_lat']].values)\n",
    "view_state.zoom = 12\n",
    "view_state.bearing = -15\n",
    "view_state.pitch = 45\n",
    "\n",
    "r = pdk.Deck(layers=[layer], initial_view_state=view_state)\n",
    "r.to_html()"
   ]
  },
  {
   "cell_type": "code",
   "execution_count": null,
   "metadata": {},
   "outputs": [],
   "source": []
  }
 ],
 "metadata": {
  "kernelspec": {
   "display_name": "Python 3",
   "language": "python",
   "name": "python3"
  },
  "language_info": {
   "codemirror_mode": {
    "name": "ipython",
    "version": 3
   },
   "file_extension": ".py",
   "mimetype": "text/x-python",
   "name": "python",
   "nbconvert_exporter": "python",
   "pygments_lexer": "ipython3",
   "version": "3.9.13"
  },
  "orig_nbformat": 4
 },
 "nbformat": 4,
 "nbformat_minor": 2
}
