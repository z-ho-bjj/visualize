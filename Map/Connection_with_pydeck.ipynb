{
 "cells": [
  {
   "cell_type": "code",
   "execution_count": null,
   "metadata": {},
   "outputs": [],
   "source": [
    "import pydeck as pdk\n",
    "import geopandas as gpd\n",
    "import pandas as pd\n",
    "import os"
   ]
  },
  {
   "cell_type": "code",
   "execution_count": null,
   "metadata": {},
   "outputs": [],
   "source": [
    "# 데이터는 서울 행정동 데이터이다\n",
    "geo_data = './older_seoul.geojson'"
   ]
  },
  {
   "cell_type": "code",
   "execution_count": null,
   "metadata": {},
   "outputs": [],
   "source": [
    "df = gpd.read_file(geo_data)\n",
    "df.head()"
   ]
  },
  {
   "cell_type": "code",
   "execution_count": null,
   "metadata": {},
   "outputs": [],
   "source": [
    "# pydeck은 geometry 컬럼의 shapely.geometry.multipolygon 타입을 읽지 못하여 아래와 같이 변경하는 작업을 해줌\n",
    "# multipolygon을 polygon들로 변경 후 진행하여야 함\n",
    "\n",
    "df['polygons'] = df['geometry'].apply(lambda x : list(x.geoms))\n",
    "\n",
    "def polygon_to_coordinates(x):\n",
    "    lon, lat = x[0].exterior.xy\n",
    "    return [[x, y] for x, y in zip(lon, lat)]\n",
    "\n",
    "df['coordinates'] = df['polygons'].apply(polygon_to_coordinates)\n",
    "del df['geometry']\n",
    "del df['polygons']"
   ]
  },
  {
   "cell_type": "code",
   "execution_count": null,
   "metadata": {},
   "outputs": [],
   "source": [
    "df.head()"
   ]
  },
  {
   "cell_type": "code",
   "execution_count": null,
   "metadata": {},
   "outputs": [],
   "source": [
    "df['정규화인구'] = df['인구'] / df['인구'].max()"
   ]
  },
  {
   "cell_type": "code",
   "execution_count": null,
   "metadata": {},
   "outputs": [],
   "source": [
    "# pydeck은 pandas.dataframe에서만 동작해서 변경함\n",
    "df = pd.DataFrame(df)"
   ]
  },
  {
   "cell_type": "code",
   "execution_count": null,
   "metadata": {},
   "outputs": [],
   "source": [
    "layer = pdk.Layer(\n",
    "    'PolygonLayer', # 사용할 Layer 타입\n",
    "    df, # 시각화에 쓰일 데이터프레임\n",
    "    get_polygon='coordinates', # geometry 정보를 담고있는 컬럼 이름\n",
    "    get_fill_color='[0, 255*정규화인구, 0]', # 각 데이터 별 rgb 또는 rgba 값 (0~255)\n",
    "    pickable=True, # 지도와 interactive 한 동작 on\n",
    "    auto_highlight=True # 마우스 오버(hover) 시 박스 출력\n",
    ")\n",
    "\n",
    "# Set the viewport location\n",
    "center = [126.986, 37.565]\n",
    "view_state = pdk.ViewState(\n",
    "    longitude=center[0],\n",
    "    latitude=center[1],\n",
    "    zoom=10)\n",
    "\n",
    "# Render\n",
    "r = pdk.Deck(layers=[layer], \n",
    "             initial_view_state=view_state)\n",
    "r.to_html()"
   ]
  },
  {
   "cell_type": "code",
   "execution_count": null,
   "metadata": {},
   "outputs": [],
   "source": [
    "layer = pdk.Layer(\n",
    "    'PolygonLayer', # 사용할 Layer 타입\n",
    "    df, # 시각화에 쓰일 데이터프레임\n",
    "    extruded = True,\n",
    "    get_elevation = '인구',\n",
    "    elevation_scale = 0.05,\n",
    "    get_polygon='coordinates', # geometry 정보를 담고있는 컬럼 이름\n",
    "    get_fill_color='[0, 255*정규화인구, 0]', # 각 데이터 별 rgb 또는 rgba 값 (0~255)\n",
    "    pickable=True, # 지도와 interactive 한 동작 on\n",
    "    auto_highlight=True # 마우스 오버(hover) 시 박스 출력\n",
    ")\n",
    "\n",
    "view_state.bearing=15\n",
    "view_state.pitch=45\n",
    "\n",
    "r = pdk.Deck(layers=[layer], initial_view_state=view_state)\n",
    "r.to_html()"
   ]
  },
  {
   "cell_type": "code",
   "execution_count": null,
   "metadata": {},
   "outputs": [],
   "source": [
    "coordinates_list = []\n",
    "for i in range(len(df['coordinates'])):\n",
    "    for j in range(len(df['coordinates'][i])):\n",
    "        coordinates_list.append(df['coordinates'][i][j])"
   ]
  },
  {
   "cell_type": "code",
   "execution_count": null,
   "metadata": {},
   "outputs": [],
   "source": [
    "coordinates_df = pd.DataFrame(coordinates_list, columns=['lng','lat'])"
   ]
  },
  {
   "cell_type": "code",
   "execution_count": null,
   "metadata": {},
   "outputs": [],
   "source": [
    "coordinates_df.head()"
   ]
  },
  {
   "cell_type": "code",
   "execution_count": null,
   "metadata": {},
   "outputs": [],
   "source": [
    "layer = pdk.Layer(\n",
    "    'HexagonLayer',\n",
    "    coordinates_df,\n",
    "    get_position='[lng, lat]',\n",
    "    auto_highlight=True,\n",
    "    elevation_scale=50,\n",
    "    pickable=True,\n",
    "    elevation_range=[0, 3000],\n",
    "    extruded=True,                 \n",
    "    coverage=1)\n",
    "# center = [126.986, 37.565]\n",
    "view_state = pdk.ViewState(\n",
    "    longitude=126.986,\n",
    "    latitude=37.565,\n",
    "    zoom=6,\n",
    "    min_zoom=5,\n",
    "    max_zoom=15,\n",
    "    pitch=40.5,\n",
    "    bearing=-27.36)\n",
    "\n",
    "r = pdk.Deck(layers=[layer], initial_view_state=view_state)\n",
    "r.to_html()"
   ]
  },
  {
   "cell_type": "code",
   "execution_count": null,
   "metadata": {},
   "outputs": [],
   "source": [
    "import requests\n",
    "\n",
    "url = 'http://openAPI.seoul.go.kr:8088/52454e74527a686f3939666a665574/json/SearchPublicToiletPOIService/1/3/'\n",
    "\n",
    "data1 = requests.get(url).json() "
   ]
  },
  {
   "cell_type": "code",
   "execution_count": null,
   "metadata": {},
   "outputs": [],
   "source": [
    "api_cols = pd.DataFrame(data1['SearchPublicToiletPOIService']['row']).columns"
   ]
  },
  {
   "cell_type": "code",
   "execution_count": null,
   "metadata": {},
   "outputs": [],
   "source": [
    "aa = [x*1000 for x in range(1,6)]\n",
    "\n",
    "PT_df = pd.DataFrame(columns = api_cols)\n",
    "\n",
    "for i in range(len(aa)):\n",
    "    start_num = aa[i]-999\n",
    "    end_num = aa[i]\n",
    "\n",
    "    url = f'http://openAPI.seoul.go.kr:8088/52454e74527a686f3939666a665574/json/SearchPublicToiletPOIService/{start_num}/{end_num}/'\n",
    "\n",
    "    url2json = requests.get(url).json()\n",
    "    data = pd.DataFrame(url2json['SearchPublicToiletPOIService']['row'])\n",
    "\n",
    "    PT_df = pd.concat([PT_df, data], axis=0)"
   ]
  },
  {
   "cell_type": "code",
   "execution_count": null,
   "metadata": {},
   "outputs": [],
   "source": [
    "PT_df.reset_index(drop=True, inplace = True)"
   ]
  },
  {
   "cell_type": "code",
   "execution_count": null,
   "metadata": {},
   "outputs": [],
   "source": [
    "layer = pdk.Layer(\n",
    "    'ScatterplotLayer',\n",
    "    PT_df,\n",
    "    get_position='[X_WGS84, Y_WGS84]',\n",
    "    get_radius=50,\n",
    "    get_fill_color='[255, 255, 255]',\n",
    "    pickable=True,\n",
    "    auto_highlight=True\n",
    ")\n",
    "\n",
    "center = [126.986, 37.565]\n",
    "view_state = pdk.ViewState(\n",
    "    longitude=center[0],\n",
    "    latitude=center[1],\n",
    "    zoom=10)\n",
    "\n",
    "r = pdk.Deck(layers=[layer], initial_view_state=view_state)\n",
    "r.to_html()"
   ]
  },
  {
   "cell_type": "code",
   "execution_count": null,
   "metadata": {},
   "outputs": [],
   "source": [
    "layer = pdk.Layer(\n",
    "    'HeatmapLayer',\n",
    "    PT_df,\n",
    "    get_position='[X_WGS84, Y_WGS84]',\n",
    "    get_radius=50,\n",
    "    get_fill_color='[255, 255, 255]',\n",
    "    pickable=True,\n",
    "    auto_highlight=True\n",
    ")\n",
    "\n",
    "center = [126.986, 37.565]\n",
    "view_state = pdk.ViewState(\n",
    "    longitude=center[0],\n",
    "    latitude=center[1],\n",
    "    zoom=10)\n",
    "\n",
    "r = pdk.Deck(layers=[layer], initial_view_state=view_state)\n",
    "r.to_html()"
   ]
  },
  {
   "cell_type": "code",
   "execution_count": null,
   "metadata": {},
   "outputs": [],
   "source": [
    "layer = pdk.Layer(\n",
    "    'CPUGridLayer',\n",
    "    PT_df,\n",
    "    get_position='[X_WGS84, Y_WGS84]',\n",
    "    get_radius=50,\n",
    "    get_fill_color='[255, 255, 255]',\n",
    "    pickable=True,\n",
    "    auto_highlight=True\n",
    ")\n",
    "\n",
    "center = [126.986, 37.565]\n",
    "view_state = pdk.ViewState(\n",
    "    longitude=center[0],\n",
    "    latitude=center[1],\n",
    "    zoom=10)\n",
    "\n",
    "r = pdk.Deck(layers=[layer], initial_view_state=view_state)\n",
    "r.to_html()"
   ]
  },
  {
   "cell_type": "code",
   "execution_count": null,
   "metadata": {},
   "outputs": [],
   "source": [
    "layer.extruded = True\n",
    "layer.elevation_scale = 3 # default 1\n",
    "\n",
    "view_state.bearing = -15\n",
    "view_state.pitch = 45\n",
    "\n",
    "r = pdk.Deck(layers=[layer], initial_view_state=view_state)\n",
    "r.to_html()"
   ]
  },
  {
   "cell_type": "code",
   "execution_count": null,
   "metadata": {},
   "outputs": [],
   "source": [
    "layer.type = 'HexagonLayer'\n",
    "\n",
    "r = pdk.Deck(layers=[layer], initial_view_state=view_state)\n",
    "r.to_html()"
   ]
  }
 ],
 "metadata": {
  "kernelspec": {
   "display_name": "Python 3",
   "language": "python",
   "name": "python3"
  },
  "language_info": {
   "codemirror_mode": {
    "name": "ipython",
    "version": 3
   },
   "file_extension": ".py",
   "mimetype": "text/x-python",
   "name": "python",
   "nbconvert_exporter": "python",
   "pygments_lexer": "ipython3",
   "version": "3.9.13"
  },
  "orig_nbformat": 4
 },
 "nbformat": 4,
 "nbformat_minor": 2
}
