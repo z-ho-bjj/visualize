{
 "cells": [
  {
   "cell_type": "code",
   "execution_count": 10,
   "metadata": {},
   "outputs": [
    {
     "data": {
      "image/png": "[encoded data removed]",
      "text/plain": [
       "<Figure size 432x288 with 1 Axes>"
      ]
     },
     "metadata": {
      "needs_background": "light"
     },
     "output_type": "display_data"
    }
   ],
   "source": [
    "# 트리맵\n",
    "#! pip install squarify\n",
    "import matplotlib.pyplot as plt\n",
    "import squarify         # 트리맵을 그리기 위한 라이브러리\n",
    "import pandas as pd\n",
    "\n",
    "df = pd.DataFrame({'nb_people':[8,3,4,2],\n",
    "                   'group':[\"group A\", \"group B\", \"group C\", \"group D\"] })\n",
    "\n",
    "squarify.plot(sizes=df['nb_people'],        # 크기\n",
    "              label=df['group'],            # 레이블\n",
    "              alpha=.8                      # 투명도\n",
    "              )\n",
    "\n",
    "plt.axis('off')                             # 축제거\n",
    "plt.show()"
   ]
  },
  {
   "cell_type": "code",
   "execution_count": 12,
   "metadata": {},
   "outputs": [
    {
     "data": {
      "image/png": "[encoded data removed]",
      "text/plain": [
       "<Figure size 432x288 with 1 Axes>"
      ]
     },
     "metadata": {
      "needs_background": "light"
     },
     "output_type": "display_data"
    }
   ],
   "source": [
    "# 색상 제어\n",
    "import matplotlib.pyplot as plt\n",
    "import squarify\n",
    "\n",
    "squarify.plot(sizes=[13,22,35,5],                                   # 크기\n",
    "              label=[\"group A\",\"group B\", \"group C\", \"group D\"],    # 레이블\n",
    "              color=[\"red\",\"green\",\"blue\",\"grey\"],                  # 색상 지정\n",
    "              alpha=.4\n",
    "              )\n",
    "\n",
    "plt.axis('off')         # 축제거\n",
    "plt.show()"
   ]
  },
  {
   "cell_type": "code",
   "execution_count": 17,
   "metadata": {},
   "outputs": [
    {
     "data": {
      "image/png": "[encoded data removed]",
      "text/plain": [
       "<Figure size 432x288 with 1 Axes>"
      ]
     },
     "metadata": {
      "needs_background": "light"
     },
     "output_type": "display_data"
    }
   ],
   "source": [
    "# 값에 매핑된 색상이 있는 트리맵\n",
    "import matplotlib\n",
    "import matplotlib.pyplot as plt\n",
    "import squarify\n",
    "\n",
    "my_values=[i**3 for i in range(1,100)]          # i의 3승\n",
    "\n",
    "cmap = matplotlib.cm.Blues              # 색상 팔레트 생성\n",
    "mini=min(my_values)                     # 1\n",
    "maxi=max(my_values)                     # 970299\n",
    "norm = matplotlib.colors.Normalize(vmin=mini, vmax=maxi)            # 색상 매핑\n",
    "colors = [cmap(norm(value)) for value in my_values]\n",
    "\n",
    "squarify.plot(sizes=my_values,\n",
    "              alpha=.8,\n",
    "              color=colors              # 매핑된 색상 적용\n",
    "              )\n",
    "\n",
    "plt.axis('off')\n",
    "plt.show()"
   ]
  },
  {
   "cell_type": "code",
   "execution_count": null,
   "metadata": {},
   "outputs": [],
   "source": []
  }
 ],
 "metadata": {
  "kernelspec": {
   "display_name": "base",
   "language": "python",
   "name": "python3"
  },
  "language_info": {
   "codemirror_mode": {
    "name": "ipython",
    "version": 3
   },
   "file_extension": ".py",
   "mimetype": "text/x-python",
   "name": "python",
   "nbconvert_exporter": "python",
   "pygments_lexer": "ipython3",
   "version": "3.9.7"
  },
  "orig_nbformat": 4
 },
 "nbformat": 4,
 "nbformat_minor": 2
}
