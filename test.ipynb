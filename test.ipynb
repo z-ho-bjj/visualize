{
 "cells": [
  {
   "cell_type": "code",
   "execution_count": 73,
   "metadata": {},
   "outputs": [],
   "source": [
    "import pandas as pd\n",
    "import seaborn as sns\n",
    "import warnings\n",
    "\n",
    "warnings.filterwarnings('ignore')\n",
    "iris = sns.load_dataset('iris')\n",
    "tips = sns.load_dataset('tips')"
   ]
  },
  {
   "cell_type": "code",
   "execution_count": 84,
   "metadata": {},
   "outputs": [
    {
     "data": {
      "text/html": [
       "<div>\n",
       "<style scoped>\n",
       "    .dataframe tbody tr th:only-of-type {\n",
       "        vertical-align: middle;\n",
       "    }\n",
       "\n",
       "    .dataframe tbody tr th {\n",
       "        vertical-align: top;\n",
       "    }\n",
       "\n",
       "    .dataframe thead th {\n",
       "        text-align: right;\n",
       "    }\n",
       "</style>\n",
       "<table border=\"1\" class=\"dataframe\">\n",
       "  <thead>\n",
       "    <tr style=\"text-align: right;\">\n",
       "      <th></th>\n",
       "      <th>sepal_length</th>\n",
       "      <th>sepal_width</th>\n",
       "      <th>petal_length</th>\n",
       "      <th>petal_width</th>\n",
       "      <th>species</th>\n",
       "      <th>diff</th>\n",
       "    </tr>\n",
       "  </thead>\n",
       "  <tbody>\n",
       "    <tr>\n",
       "      <th>0</th>\n",
       "      <td>5.1</td>\n",
       "      <td>3.5</td>\n",
       "      <td>1.4</td>\n",
       "      <td>0.2</td>\n",
       "      <td>setosa</td>\n",
       "      <td>0</td>\n",
       "    </tr>\n",
       "    <tr>\n",
       "      <th>1</th>\n",
       "      <td>4.9</td>\n",
       "      <td>3.0</td>\n",
       "      <td>1.4</td>\n",
       "      <td>0.2</td>\n",
       "      <td>setosa</td>\n",
       "      <td>0</td>\n",
       "    </tr>\n",
       "    <tr>\n",
       "      <th>2</th>\n",
       "      <td>4.7</td>\n",
       "      <td>3.2</td>\n",
       "      <td>1.3</td>\n",
       "      <td>0.2</td>\n",
       "      <td>setosa</td>\n",
       "      <td>0</td>\n",
       "    </tr>\n",
       "    <tr>\n",
       "      <th>3</th>\n",
       "      <td>4.6</td>\n",
       "      <td>3.1</td>\n",
       "      <td>1.5</td>\n",
       "      <td>0.2</td>\n",
       "      <td>setosa</td>\n",
       "      <td>0</td>\n",
       "    </tr>\n",
       "    <tr>\n",
       "      <th>4</th>\n",
       "      <td>5.0</td>\n",
       "      <td>3.6</td>\n",
       "      <td>1.4</td>\n",
       "      <td>0.2</td>\n",
       "      <td>setosa</td>\n",
       "      <td>0</td>\n",
       "    </tr>\n",
       "    <tr>\n",
       "      <th>...</th>\n",
       "      <td>...</td>\n",
       "      <td>...</td>\n",
       "      <td>...</td>\n",
       "      <td>...</td>\n",
       "      <td>...</td>\n",
       "      <td>...</td>\n",
       "    </tr>\n",
       "    <tr>\n",
       "      <th>145</th>\n",
       "      <td>6.7</td>\n",
       "      <td>3.0</td>\n",
       "      <td>5.2</td>\n",
       "      <td>2.3</td>\n",
       "      <td>virginica</td>\n",
       "      <td>0</td>\n",
       "    </tr>\n",
       "    <tr>\n",
       "      <th>146</th>\n",
       "      <td>6.3</td>\n",
       "      <td>2.5</td>\n",
       "      <td>5.0</td>\n",
       "      <td>1.9</td>\n",
       "      <td>virginica</td>\n",
       "      <td>0</td>\n",
       "    </tr>\n",
       "    <tr>\n",
       "      <th>147</th>\n",
       "      <td>6.5</td>\n",
       "      <td>3.0</td>\n",
       "      <td>5.2</td>\n",
       "      <td>2.0</td>\n",
       "      <td>virginica</td>\n",
       "      <td>0</td>\n",
       "    </tr>\n",
       "    <tr>\n",
       "      <th>148</th>\n",
       "      <td>6.2</td>\n",
       "      <td>3.4</td>\n",
       "      <td>5.4</td>\n",
       "      <td>2.3</td>\n",
       "      <td>virginica</td>\n",
       "      <td>0</td>\n",
       "    </tr>\n",
       "    <tr>\n",
       "      <th>149</th>\n",
       "      <td>5.9</td>\n",
       "      <td>3.0</td>\n",
       "      <td>5.1</td>\n",
       "      <td>1.8</td>\n",
       "      <td>virginica</td>\n",
       "      <td>0</td>\n",
       "    </tr>\n",
       "  </tbody>\n",
       "</table>\n",
       "<p>150 rows × 6 columns</p>\n",
       "</div>"
      ],
      "text/plain": [
       "     sepal_length  sepal_width  petal_length  petal_width    species  diff\n",
       "0             5.1          3.5           1.4          0.2     setosa     0\n",
       "1             4.9          3.0           1.4          0.2     setosa     0\n",
       "2             4.7          3.2           1.3          0.2     setosa     0\n",
       "3             4.6          3.1           1.5          0.2     setosa     0\n",
       "4             5.0          3.6           1.4          0.2     setosa     0\n",
       "..            ...          ...           ...          ...        ...   ...\n",
       "145           6.7          3.0           5.2          2.3  virginica     0\n",
       "146           6.3          2.5           5.0          1.9  virginica     0\n",
       "147           6.5          3.0           5.2          2.0  virginica     0\n",
       "148           6.2          3.4           5.4          2.3  virginica     0\n",
       "149           5.9          3.0           5.1          1.8  virginica     0\n",
       "\n",
       "[150 rows x 6 columns]"
      ]
     },
     "execution_count": 84,
     "metadata": {},
     "output_type": "execute_result"
    }
   ],
   "source": [
    "data = iris.copy()\n",
    "data['diff'] = 0\n",
    "data"
   ]
  },
  {
   "cell_type": "code",
   "execution_count": 82,
   "metadata": {},
   "outputs": [
    {
     "data": {
      "text/html": [
       "\n",
       "  <div id=\"c8c7bef5-6d2b-4ddb-993b-f075f8b76d87\" data-root-id=\"p3163\" style=\"display: contents;\"></div>\n"
      ]
     },
     "metadata": {},
     "output_type": "display_data"
    },
    {
     "data": {
      "application/javascript": "(function(root) {\n  function embed_document(root) {\n  const docs_json = {\"1b84022d-5ad7-4feb-a4ab-ffb57655d678\":{\"version\":\"3.3.0\",\"title\":\"Bokeh Application\",\"roots\":[{\"type\":\"object\",\"name\":\"Figure\",\"id\":\"p3163\",\"attributes\":{\"x_range\":{\"type\":\"object\",\"name\":\"Range1d\",\"id\":\"p3172\",\"attributes\":{\"end\":149}},\"y_range\":{\"type\":\"object\",\"name\":\"DataRange1d\",\"id\":\"p3165\"},\"x_scale\":{\"type\":\"object\",\"name\":\"LinearScale\",\"id\":\"p3173\"},\"y_scale\":{\"type\":\"object\",\"name\":\"LinearScale\",\"id\":\"p3174\"},\"title\":{\"type\":\"object\",\"name\":\"Title\",\"id\":\"p3170\"},\"renderers\":[{\"type\":\"object\",\"name\":\"GlyphRenderer\",\"id\":\"p3209\",\"attributes\":{\"name\":\"sepal_length\",\"data_source\":{\"type\":\"object\",\"name\":\"ColumnDataSource\",\"id\":\"p3200\",\"attributes\":{\"selected\":{\"type\":\"object\",\"name\":\"Selection\",\"id\":\"p3201\",\"attributes\":{\"indices\":[],\"line_indices\":[]}},\"selection_policy\":{\"type\":\"object\",\"name\":\"UnionRenderers\",\"id\":\"p3202\"},\"data\":{\"type\":\"map\",\"entries\":[[\"index\",{\"type\":\"ndarray\",\"array\":{\"type\":\"bytes\",\"data\":\"AAAAAAEAAAACAAAAAwAAAAQAAAAFAAAABgAAAAcAAAAIAAAACQAAAAoAAAALAAAADAAAAA0AAAAOAAAADwAAABAAAAARAAAAEgAAABMAAAAUAAAAFQAAABYAAAAXAAAAGAAAABkAAAAaAAAAGwAAABwAAAAdAAAAHgAAAB8AAAAgAAAAIQAAACIAAAAjAAAAJAAAACUAAAAmAAAAJwAAACgAAAApAAAAKgAAACsAAAAsAAAALQAAAC4AAAAvAAAAMAAAADEAAAAyAAAAMwAAADQAAAA1AAAANgAAADcAAAA4AAAAOQAAADoAAAA7AAAAPAAAAD0AAAA+AAAAPwAAAEAAAABBAAAAQgAAAEMAAABEAAAARQAAAEYAAABHAAAASAAAAEkAAABKAAAASwAAAEwAAABNAAAATgAAAE8AAABQAAAAUQAAAFIAAABTAAAAVAAAAFUAAABWAAAAVwAAAFgAAABZAAAAWgAAAFsAAABcAAAAXQAAAF4AAABfAAAAYAAAAGEAAABiAAAAYwAAAGQAAABlAAAAZgAAAGcAAABoAAAAaQAAAGoAAABrAAAAbAAAAG0AAABuAAAAbwAAAHAAAABxAAAAcgAAAHMAAAB0AAAAdQAAAHYAAAB3AAAAeAAAAHkAAAB6AAAAewAAAHwAAAB9AAAAfgAAAH8AAACAAAAAgQAAAIIAAACDAAAAhAAAAIUAAACGAAAAhwAAAIgAAACJAAAAigAAAIsAAACMAAAAjQAAAI4AAACPAAAAkAAAAJEAAACSAAAAkwAAAJQAAACVAAAA\"},\"shape\":[150],\"dtype\":\"int32\",\"order\":\"little\"}],[\"sepal_length\",{\"type\":\"ndarray\",\"array\":{\"type\":\"bytes\",\"data\":\"AAAAAAAA4D8WCCPtWIHgPwAAAAAAAOA/fmejvrNR3z9gX19fX1/fPw7lNZTXUN4/nUSmYbtZ3j+YdGoe5K7fP/vRj370o98/VlVVVVVV4D8AAAAAAADgP7oehetRuN4/hBBCCCGE4D8wMDAwMDDgPyVJkiRJkuA/ZWZmZmZm3j9q37D2DWvfP1ttDE13sN8//HVJ5cO43z+xojQ+MoHePyJWlMZHJuA/sKI0PjKB3j9+Z6O+s1HfP3VITTDeyt4/hP1WG0PT3T8VvJyCl1PgP07sxE7sxN4/AQAAAAAA4D9RUFBQUFDgP2Bc/aCjAt8/IHRU4Iur3z8hVpTGRybgP4To8V04iN4/N2jyZYMm3z/xxdUPOirgP6yqqqqqquA/MQzDMAzD4D9dj8L1KFzfP/vRj370o98/AAAAAAAA4D+XdGoe5K7fP0mSJEmSJOE/IO/xHu/x3j8sSuMjE+jdP0mSJEmSJN0/sgJhpB0r4D+yojQ+MoHeP35no76zUd8/vVPXcnCz3z9/pUCtXyngP153vNgSfNs/GqRBGqRB2j/uStSuRO3aPxnRB1TH3to/TA3sHVMD2z/lgMhwr4LZP30OqQnGW9k/PY2w3NMI2z/btm3btm3bPzbZZJNNNtk/velNb3rT2z/PnTt37tzZPxhddNFFF90/z2pntbPa2T96oHJ2C7/aP8u3fMu3fNs/xIgRI0aM2D9LS0tLS0vbP+Q4juM4jts/I/qA6thb2z8lvfxpCw3YP8Zvl3oyfts/ayivobyG2j8Ppshn3WDaP4oz2j1sfds/27Zt27Zt2z8XN2F+V4vbPyZqV6J2Jdo/UpD8eZXF2T8AAAAAAIDcPwEAAAAAgNs/+77v+77v2z9LS0tLS0vbP4K9Y2pg79g/AAAAAAAA2D/GGGOMMcbYP83MzMzMzNo/CmZJOSAy3D+ZmZmZmZnZP3Wn1Z1Wd9o/n5Ppq4Sx2T/Pame1s9rZP0tLS0tLS9s/G2G5pxGW2z+fUeJnlPjZP2mjvrNR39k/Z6O+s1Hf2T/AZkctQv7aP1y+5Vu+5ds/Xgd0Y54+2j/FJA7et0bWP/OXLH/J8tc/F5M4eN8a2T/cQy4rBkrYP1h8xVd8xdc/5tKhBrsz2T8QDw8PDw/XP+SLRKmxh9k/YRiGYRiG2T8YVz/oqMDXPzIMwzAMw9g/KeLQSfsg2T8UL5BJ8QLZPwEAAAAAANg/KIfLgE8O1z/zBX1BX9DXPzAMwzAMw9g/KSgoKCgo2D9YlEVZlEXZP4jG+tBYH9o/g/etkdVl2D8XwmwXwmzXP6uqqqqqqtk/1WGUqXiu2T+BC1zgAhfYPxqVURmVUdk/+ZZv+ZZv2T9qcRPmd7XYP96+snqXPNg/Lrrooosu2j9coAVaoAXaP0Js04p7J9k/GBgYGBgY2D/WYZSpeK7ZP32PyAnC3dg/AsGQbBHN2T9Bw0ndl8fWPxiGYRiGYdg/2Imd2Imd2D/zxggm+jvZP4ELXOACF9g/qRGWexph2T/zlyx/yfLXP5h+6Zd+6dc/+HiP93iP1z884o64I+7YP9VhlKl4rtk/C19uiAHp2D9d5Zn4uO/WP8zvanET5tc/\"},\"shape\":[150],\"dtype\":\"float64\",\"order\":\"little\"}],[\"sepal_width\",{\"type\":\"ndarray\",\"array\":{\"type\":\"bytes\",\"data\":\"9vX19fX11T9eQ3kN5TXUP1cQkyuIydU/1Xc26jsb1T+XlpaWlpbWP1FeQ3kN5dU/lieRadhu1j+bB7nrZ4vVP01talOb2tQ/q6qqqqqq1D/QXkJ7Ce3VP8P1KFyPwtU/ppRSSiml1D+XlpaWlpbWP7dt27Zt29Y/d3d3d3d31z+w9g1r37DWP9oYmu5gv9U/Uvkw7tcl1T/jIxPonbrWP8zBzX4hVtQ/XcvBzX4h1j9jcgUxuYLYP4jUBOOt7NM/k/OyiE8g1T/mFLycgpfTP8VO7MRO7NQ/ntiJndiJ1T9WVVVVVVXVPxb44uoHHdU/VeCLqx901D/Lwc1+IVbUPyyBTfvJEtg/D5p82aDJ1z9V4IurH3TUP1dVVVVVVdU/VVVVVVVV1T8K16NwPQrXP1nJSlayktU/VlVVVVVV1T9qHuSuny3WP2EYhmEYhtE/F2iBFmiB1j9SGh+ZQO/UP27btm3bttU/XkN5DeU11D/kIxPonbrWP1gQkyuIydU/XsvBzX4h1j9VVVVVVVXVPyri0En7IMk/GqRBGqRByj8zOB+D8zHIP8BfxQkpecY/RRdddNFFxz9eBbOkHBDJPwnGW9nnkMo/YLmnEZZ7yj9jamDvmBrIPy666KKLLso/ZCELWchCxj/SpEmTJk3KP1ZVVVVVVcU/xVRiKjGVyD81JtIDlbPLP/mWb/mWb8k/06RJkyZNyj9qaWlpaWnJP+Q4juM4jsM/6QOqY29tyD8BS3r50xbKP6kn47dLPck/11BeQ3kNxT92gynyWTfIP7W+DRiq6cg/gr1jamDvyD9eLW7C/K7GP2tXonYlasc/tr4NGKrpyD8AAAAAAADKPwAAAAAAAMg/F4ZhGIZhyD9qaWlpaWnJPynEWfkJccY/qqqqqqqqyj8UHD3B0RPMP83MzMzMzMg/HzLcq2CWxD/btm3btm3LP/aA2QNmD8g/Ue05mb5KyD/MuGXcMm7JP3l4eHh4eMg/pxGWexphyT+RhSxkIQvJP27UdzbqO8s/aF78iYRTyj9QJq50b0DJP5y1WZu1Wcs/rCYhir/IyT8kDt63RlbHP0yWv2T5S8Y/Zzs+BCk3xT/S1Pm1h1zGPxZf8RVf8cU/7M5ktHjlwz+Ih4eHh4fHP7GHWUC+SMQ/wzAMwzAMwz8YVz/oqMDHPxqGYRiGYcg/0z5IBtQzxT97GmG5pxHGP9hQXkN5DcU/ZSELWchCxj/zBX1BX9DHP7dt27Zt28Y/2NfX19fXxz8QERERERHBP8vEle4NKMM/kHJT0Tyhxj8XwmwXwmzHP6uqqqqqqsI/SS9/2kIDxj973ete97rHPxdogRZogcY/lm/5lm/5xj+bML+rxU3IPwJnXIsENcU/0UUXXXTRxT8VO7ETO7HDP4bmc/3xMsg/FRUVFRUVxT+hAUt6+dPGP/JcszqMMsU/h2SLaM4axD+oTDsHa5bIP+h5nud5nsc/2Imd2ImdyD9kBBP9nazGP2UlK1nJSsY/o99sHfrNxj9Mlr9k+UvGPxdogRZogcY/V3M1V3M1xz+VNWVNWVPGP5mK55rVYcQ/RfWgkXf+xj+P+24p9CfJP5swv6vFTcg/\"},\"shape\":[150],\"dtype\":\"float64\",\"order\":\"little\"}],[\"petal_length\",{\"type\":\"ndarray\",\"array\":{\"type\":\"bytes\",\"data\":\"kpGRkZGRwT/PLXHq99zCP0d9Z6O+s8E/U9/ZqO9sxD+SkZGRkZHBP2cxncV0FsM/EpmG7WZ5wj9brAzfiALDP0IRilCEIsQ/AAAAAAAAxD9xHMdxHMfBP3wUrkfhesQ/RRNNNNFEwz+RkJCQkJDAP9y2bdu2bbs/////////vz9AnhLkKUG+P+ITSCXnZcE/L6l8GPfrwj+0X4gVpfHBP8zBzX4hVsQ/s1+IFaXxwT9u1Hc26ju7P04w3so+h8Q/s4hPIJWcxz86BS+n4OXEPxQ7sRM7scM/Yyd2Yid2wj+SkZGRkZHBPxb44uoHHcU/Fvji6gcdxT+zX4gVpfHBP9YZqZhbncE/Enj7IYG3vz+UyDRsN8vDPwEAAAAAAMA/IPuxH/uxvz/rUbgehevBPytZyUpWssI/09LS0tLSwj8bUWDSqXnAP/Q8z/M8z8M/kyRJkiRJwj/AECtK4yPDP27btm3btsU/zy1x6vfcwj/BECtK4yPDP02uICZXEMM/tF+IFaXxwT9vZ0jM2xnCPxdmNYo4dNI/Yid2Yid20j8gg/MxOB/TP4Zp7oK/itM/sHdMDewd0z+atsbfzSPUPz3m77UR69I/ck8jLPc00j+wd0wN7B3TP+iiiy666NI/OL3pTW960z+TJk2aNGnSP2WTTTbZZNM/oK5P16fr0z8qZ7fwqzHRP9IgDdIgDdI/njt37ty50z9LS0tLS0vTPwAAAAAAANQ/fUB17K0N0z9AuBv7HpHTP+dAohU2B9I/G8prKK+h1D8yRT7rBlPUP6GajrlEeNI/kyRJkiRJ0j/jJszvanHTP4TzMTgfg9M/Pmx9GzBU0z8AAAAAAIDRPwAAAAAAANM/sizLsizL0j9aWlpaWlrSP3vH1MDeMdU/AAAAAAAA1D+VUkoppZTSP83MzMzMzNI/FDuxEzux0z/iK77iK77SP/gz4c+EP9M/gNy6vAOO1D+c/E3+Jn/TP9PS0tLS0tI/c08jLPc00j84velNb3rTP02uICZXENM/TK4gJlcQ0z+udG9AmbjSP5EGaZAGadA/UPxFzrDg0j9nOz4EKTfVPw7V7VDdDtU/ne34EKTc1D81dX7tIZfVP8i5zy4gNtU/arA7k9Hi1T8tLS0tLS3VP23ep7hkCNY/hmEYhmEY1j90VOCLqx/UP9y2bdu2bdM/SfsgGVDP1D+brUO/2TrUP9hQXkN5DdU//CKqdfZF1D/tiDvijrjTPz3P8zzP89Q/BgUFBQUF1T9WaqVWaqXWP3GlewPKxNU/CFJuKpon1D/VKX/UKX/UP1ZVVVVVVdY/baEBS3r50z9IP/rRj37UP5VRGZVRGdU/EzuxEzux0z+yZyAqHdnTPwJnXIsENdU/F1100UUX1T83V3M1V3PVP5rP9cfLYNQ/FRUVFRUV1T/Fc83qMMrUP6EBS3r509Y/M6Z8HZZw1D/kAl5voz/UPz3P8zzP89Q/EzuxEzux0z8ub4xgor/TP0IRilCEItQ/UCMs9zTC0j8O1e1Q3Q7VP/VLv/RLv9Q/tEALtEAL1D/XlDVlTVnTP5mK55rVYdQ/PH+L05rt0z/Fx323FPrTP1DpyJ6BqNQ/\"},\"shape\":[150],\"dtype\":\"float64\",\"order\":\"little\"}],[\"petal_width\",{\"type\":\"ndarray\",\"array\":{\"type\":\"bytes\",\"data\":\"FRQUFBQUlD/tWIEw0o6VP1cQkyuIyZU/WBCTK4jJlT8VFBQUFBSUP3AfwX0E96E/HnRU4Iurnz/72WJl+EaUP3CBC1zgApc/VlVVVVVVhT9oL6G9hPaSP3wUrkfhepQ/BxZYYIEFhj8YGBgYGBiIP5MkSZIkSZI/ERERERERoT+eEuQpQZ6iP4P9VhtD050/q8FzBIq2mj8fmUDv1LWcP8AQK0rjI5M/vxArSuMjoz9YEJMriMmVP/NW9jmkJqg/A6nkvCzikz86BS+n4OWUPxQ7sRM7saM/FTuxEzuxkz8VFBQUFBSUPxb44uoHHZU/Fvji6gcdlT+/ECtK4yOjP6AsgU37yYI/efshgbcfkj8W+OLqBx2VP1dVVVVVVZU/FDiBEziBkz97FK5H4XqEP3CBC1zgApc/FRQUFBQUlD/3RhSYdGqeP5IkSZIkSaI/F2iBFmiBlj8fmUDv1LWsP5MkSZIkSaI/sgJhpB0roD/BECtK4yOTP1gQkyuIyZU/wBArSuMjkz9bv1Kg1q+UP+TFluDb/LU/2Imd2ImduD9rV6J2JWq3P/xVnJCSZ7k/gr1jamDvuD9GF1100UW3PwKh5E7Rwrk/exphuacRtj8KcVZ+Qpy1PyabbLLJJrs/ZCELWchCtj/SpEmTJk26P2WTTTbZZLM/vvBeeC+8tz8ElbNb+NW4P5Zv+ZZv+bY/06RJkyZNuj/T0tLS0tKyP6qqqqqqqro/rw3T3AV/tT9hlKl4rlm9P/ntUk/Gb7c/NZTXUF5DuT8dTJHPusG0P+BJQfLnVbY/RRdddNFFtz9eLW7C/K62P4ralahdibo/UpD8eZXFuT8AAAAAAAC0PwEAAAAAALY/FEVRFEVRtD+XlpaWlpa2P79jamDvmLo/qqqqqqqquj9tGtCmAW26PwAAAAAAALg/RhdddNFFtz9YfMVXfMW3P1yQcUHGBbk/6GT6KmFstj++8F54L7y3P5eWlpaWlrY/fBphuacRtj+CuXZgrh24P1gQkyuIybU/XvyJhFOatz+pRchfs6O2PxmBERiBEbg/6qPVJETxtz+AMYmD963BP2EfF/ZxYb8/XYa90p+zvT8gclkxUMK7P6o05NxnF8A/5FTAL9zauz8AAAAAAADAP1hHm/cpLrk/27Zt27Ztuz/RUYEvrn7AP6DneZ7neb4/kAyoZyrXvT9GWO5phOW+P3kN5TWU18A/VooJuqsUwz9G3BF3xB3BP9u2bdu2bbs/nZubm5ubuz8c4zEe4zG+P4jG+tBYH7o/V/pztuNDwD8RZrsQZrvAP6uqqqqqqro/YZSpeK5ZvT/jGc94xjO+PxqVURmVUbk/ndiJndiJvT9UOrJnICq9P4OaCtGGz78/RhdddNFFtz+cq7maq7m6P4BD87n+eLk/kZCQkJCQwD9SpuK5ZnW4P6EBS3r507Y/I5qzBsXTvj8NJ3VfHlvBP9u2bdu2bbs/ndiJndiJvT+5HoXrUbi+PxShCEUoQsE/cLYO/WbrwD9hHxf2cWG/P9ACLdACLcA/UhmVURmVwT9H3BF3xB3BPxE5Qbgb+74/XJzWbJ+ovj8sqmF2cATBP1Q6smcgKr0/\"},\"shape\":[150],\"dtype\":\"float64\",\"order\":\"little\"}]]}}},\"view\":{\"type\":\"object\",\"name\":\"CDSView\",\"id\":\"p3210\",\"attributes\":{\"filter\":{\"type\":\"object\",\"name\":\"AllIndices\",\"id\":\"p3211\"}}},\"glyph\":{\"type\":\"object\",\"name\":\"VArea\",\"id\":\"p3206\",\"attributes\":{\"x\":{\"type\":\"field\",\"field\":\"index\"},\"y1\":{\"type\":\"expr\",\"expr\":{\"type\":\"object\",\"name\":\"Stack\",\"id\":\"p3192\",\"attributes\":{\"fields\":[]}}},\"y2\":{\"type\":\"expr\",\"expr\":{\"type\":\"object\",\"name\":\"Stack\",\"id\":\"p3193\",\"attributes\":{\"fields\":[\"sepal_length\"]}}},\"fill_color\":\"#440154\",\"hatch_color\":{\"type\":\"value\",\"value\":\"#440154\"}}},\"nonselection_glyph\":{\"type\":\"object\",\"name\":\"VArea\",\"id\":\"p3207\",\"attributes\":{\"x\":{\"type\":\"field\",\"field\":\"index\"},\"y1\":{\"type\":\"expr\",\"expr\":{\"id\":\"p3192\"}},\"y2\":{\"type\":\"expr\",\"expr\":{\"id\":\"p3193\"}},\"fill_color\":\"#440154\",\"fill_alpha\":0.1,\"hatch_color\":{\"type\":\"value\",\"value\":\"#440154\"},\"hatch_alpha\":{\"type\":\"value\",\"value\":0.1}}},\"muted_glyph\":{\"type\":\"object\",\"name\":\"VArea\",\"id\":\"p3208\",\"attributes\":{\"x\":{\"type\":\"field\",\"field\":\"index\"},\"y1\":{\"type\":\"expr\",\"expr\":{\"id\":\"p3192\"}},\"y2\":{\"type\":\"expr\",\"expr\":{\"id\":\"p3193\"}},\"fill_color\":\"#440154\",\"fill_alpha\":0.2,\"hatch_color\":{\"type\":\"value\",\"value\":\"#440154\"},\"hatch_alpha\":{\"type\":\"value\",\"value\":0.2}}}}},{\"type\":\"object\",\"name\":\"GlyphRenderer\",\"id\":\"p3223\",\"attributes\":{\"name\":\"sepal_width\",\"data_source\":{\"type\":\"object\",\"name\":\"ColumnDataSource\",\"id\":\"p3214\",\"attributes\":{\"selected\":{\"type\":\"object\",\"name\":\"Selection\",\"id\":\"p3215\",\"attributes\":{\"indices\":[],\"line_indices\":[]}},\"selection_policy\":{\"type\":\"object\",\"name\":\"UnionRenderers\",\"id\":\"p3216\"},\"data\":{\"type\":\"map\",\"entries\":[[\"index\",{\"type\":\"ndarray\",\"array\":{\"type\":\"bytes\",\"data\":\"AAAAAAEAAAACAAAAAwAAAAQAAAAFAAAABgAAAAcAAAAIAAAACQAAAAoAAAALAAAADAAAAA0AAAAOAAAADwAAABAAAAARAAAAEgAAABMAAAAUAAAAFQAAABYAAAAXAAAAGAAAABkAAAAaAAAAGwAAABwAAAAdAAAAHgAAAB8AAAAgAAAAIQAAACIAAAAjAAAAJAAAACUAAAAmAAAAJwAAACgAAAApAAAAKgAAACsAAAAsAAAALQAAAC4AAAAvAAAAMAAAADEAAAAyAAAAMwAAADQAAAA1AAAANgAAADcAAAA4AAAAOQAAADoAAAA7AAAAPAAAAD0AAAA+AAAAPwAAAEAAAABBAAAAQgAAAEMAAABEAAAARQAAAEYAAABHAAAASAAAAEkAAABKAAAASwAAAEwAAABNAAAATgAAAE8AAABQAAAAUQAAAFIAAABTAAAAVAAAAFUAAABWAAAAVwAAAFgAAABZAAAAWgAAAFsAAABcAAAAXQAAAF4AAABfAAAAYAAAAGEAAABiAAAAYwAAAGQAAABlAAAAZgAAAGcAAABoAAAAaQAAAGoAAABrAAAAbAAAAG0AAABuAAAAbwAAAHAAAABxAAAAcgAAAHMAAAB0AAAAdQAAAHYAAAB3AAAAeAAAAHkAAAB6AAAAewAAAHwAAAB9AAAAfgAAAH8AAACAAAAAgQAAAIIAAACDAAAAhAAAAIUAAACGAAAAhwAAAIgAAACJAAAAigAAAIsAAACMAAAAjQAAAI4AAACPAAAAkAAAAJEAAACSAAAAkwAAAJQAAACVAAAA\"},\"shape\":[150],\"dtype\":\"int32\",\"order\":\"little\"}],[\"sepal_length\",{\"type\":\"ndarray\",\"array\":{\"type\":\"bytes\",\"data\":\"AAAAAAAA4D8WCCPtWIHgPwAAAAAAAOA/fmejvrNR3z9gX19fX1/fPw7lNZTXUN4/nUSmYbtZ3j+YdGoe5K7fP/vRj370o98/VlVVVVVV4D8AAAAAAADgP7oehetRuN4/hBBCCCGE4D8wMDAwMDDgPyVJkiRJkuA/ZWZmZmZm3j9q37D2DWvfP1ttDE13sN8//HVJ5cO43z+xojQ+MoHePyJWlMZHJuA/sKI0PjKB3j9+Z6O+s1HfP3VITTDeyt4/hP1WG0PT3T8VvJyCl1PgP07sxE7sxN4/AQAAAAAA4D9RUFBQUFDgP2Bc/aCjAt8/IHRU4Iur3z8hVpTGRybgP4To8V04iN4/N2jyZYMm3z/xxdUPOirgP6yqqqqqquA/MQzDMAzD4D9dj8L1KFzfP/vRj370o98/AAAAAAAA4D+XdGoe5K7fP0mSJEmSJOE/IO/xHu/x3j8sSuMjE+jdP0mSJEmSJN0/sgJhpB0r4D+yojQ+MoHeP35no76zUd8/vVPXcnCz3z9/pUCtXyngP153vNgSfNs/GqRBGqRB2j/uStSuRO3aPxnRB1TH3to/TA3sHVMD2z/lgMhwr4LZP30OqQnGW9k/PY2w3NMI2z/btm3btm3bPzbZZJNNNtk/velNb3rT2z/PnTt37tzZPxhddNFFF90/z2pntbPa2T96oHJ2C7/aP8u3fMu3fNs/xIgRI0aM2D9LS0tLS0vbP+Q4juM4jts/I/qA6thb2z8lvfxpCw3YP8Zvl3oyfts/ayivobyG2j8Ppshn3WDaP4oz2j1sfds/27Zt27Zt2z8XN2F+V4vbPyZqV6J2Jdo/UpD8eZXF2T8AAAAAAIDcPwEAAAAAgNs/+77v+77v2z9LS0tLS0vbP4K9Y2pg79g/AAAAAAAA2D/GGGOMMcbYP83MzMzMzNo/CmZJOSAy3D+ZmZmZmZnZP3Wn1Z1Wd9o/n5Ppq4Sx2T/Pame1s9rZP0tLS0tLS9s/G2G5pxGW2z+fUeJnlPjZP2mjvrNR39k/Z6O+s1Hf2T/AZkctQv7aP1y+5Vu+5ds/Xgd0Y54+2j/FJA7et0bWP/OXLH/J8tc/F5M4eN8a2T/cQy4rBkrYP1h8xVd8xdc/5tKhBrsz2T8QDw8PDw/XP+SLRKmxh9k/YRiGYRiG2T8YVz/oqMDXPzIMwzAMw9g/KeLQSfsg2T8UL5BJ8QLZPwEAAAAAANg/KIfLgE8O1z/zBX1BX9DXPzAMwzAMw9g/KSgoKCgo2D9YlEVZlEXZP4jG+tBYH9o/g/etkdVl2D8XwmwXwmzXP6uqqqqqqtk/1WGUqXiu2T+BC1zgAhfYPxqVURmVUdk/+ZZv+ZZv2T9qcRPmd7XYP96+snqXPNg/Lrrooosu2j9coAVaoAXaP0Js04p7J9k/GBgYGBgY2D/WYZSpeK7ZP32PyAnC3dg/AsGQbBHN2T9Bw0ndl8fWPxiGYRiGYdg/2Imd2Imd2D/zxggm+jvZP4ELXOACF9g/qRGWexph2T/zlyx/yfLXP5h+6Zd+6dc/+HiP93iP1z884o64I+7YP9VhlKl4rtk/C19uiAHp2D9d5Zn4uO/WP8zvanET5tc/\"},\"shape\":[150],\"dtype\":\"float64\",\"order\":\"little\"}],[\"sepal_width\",{\"type\":\"ndarray\",\"array\":{\"type\":\"bytes\",\"data\":\"9vX19fX11T9eQ3kN5TXUP1cQkyuIydU/1Xc26jsb1T+XlpaWlpbWP1FeQ3kN5dU/lieRadhu1j+bB7nrZ4vVP01talOb2tQ/q6qqqqqq1D/QXkJ7Ce3VP8P1KFyPwtU/ppRSSiml1D+XlpaWlpbWP7dt27Zt29Y/d3d3d3d31z+w9g1r37DWP9oYmu5gv9U/Uvkw7tcl1T/jIxPonbrWP8zBzX4hVtQ/XcvBzX4h1j9jcgUxuYLYP4jUBOOt7NM/k/OyiE8g1T/mFLycgpfTP8VO7MRO7NQ/ntiJndiJ1T9WVVVVVVXVPxb44uoHHdU/VeCLqx901D/Lwc1+IVbUPyyBTfvJEtg/D5p82aDJ1z9V4IurH3TUP1dVVVVVVdU/VVVVVVVV1T8K16NwPQrXP1nJSlayktU/VlVVVVVV1T9qHuSuny3WP2EYhmEYhtE/F2iBFmiB1j9SGh+ZQO/UP27btm3bttU/XkN5DeU11D/kIxPonbrWP1gQkyuIydU/XsvBzX4h1j9VVVVVVVXVPyri0En7IMk/GqRBGqRByj8zOB+D8zHIP8BfxQkpecY/RRdddNFFxz9eBbOkHBDJPwnGW9nnkMo/YLmnEZZ7yj9jamDvmBrIPy666KKLLso/ZCELWchCxj/SpEmTJk3KP1ZVVVVVVcU/xVRiKjGVyD81JtIDlbPLP/mWb/mWb8k/06RJkyZNyj9qaWlpaWnJP+Q4juM4jsM/6QOqY29tyD8BS3r50xbKP6kn47dLPck/11BeQ3kNxT92gynyWTfIP7W+DRiq6cg/gr1jamDvyD9eLW7C/K7GP2tXonYlasc/tr4NGKrpyD8AAAAAAADKPwAAAAAAAMg/F4ZhGIZhyD9qaWlpaWnJPynEWfkJccY/qqqqqqqqyj8UHD3B0RPMP83MzMzMzMg/HzLcq2CWxD/btm3btm3LP/aA2QNmD8g/Ue05mb5KyD/MuGXcMm7JP3l4eHh4eMg/pxGWexphyT+RhSxkIQvJP27UdzbqO8s/aF78iYRTyj9QJq50b0DJP5y1WZu1Wcs/rCYhir/IyT8kDt63RlbHP0yWv2T5S8Y/Zzs+BCk3xT/S1Pm1h1zGPxZf8RVf8cU/7M5ktHjlwz+Ih4eHh4fHP7GHWUC+SMQ/wzAMwzAMwz8YVz/oqMDHPxqGYRiGYcg/0z5IBtQzxT97GmG5pxHGP9hQXkN5DcU/ZSELWchCxj/zBX1BX9DHP7dt27Zt28Y/2NfX19fXxz8QERERERHBP8vEle4NKMM/kHJT0Tyhxj8XwmwXwmzHP6uqqqqqqsI/SS9/2kIDxj973ete97rHPxdogRZogcY/lm/5lm/5xj+bML+rxU3IPwJnXIsENcU/0UUXXXTRxT8VO7ETO7HDP4bmc/3xMsg/FRUVFRUVxT+hAUt6+dPGP/JcszqMMsU/h2SLaM4axD+oTDsHa5bIP+h5nud5nsc/2Imd2ImdyD9kBBP9nazGP2UlK1nJSsY/o99sHfrNxj9Mlr9k+UvGPxdogRZogcY/V3M1V3M1xz+VNWVNWVPGP5mK55rVYcQ/RfWgkXf+xj+P+24p9CfJP5swv6vFTcg/\"},\"shape\":[150],\"dtype\":\"float64\",\"order\":\"little\"}],[\"petal_length\",{\"type\":\"ndarray\",\"array\":{\"type\":\"bytes\",\"data\":\"kpGRkZGRwT/PLXHq99zCP0d9Z6O+s8E/U9/ZqO9sxD+SkZGRkZHBP2cxncV0FsM/EpmG7WZ5wj9brAzfiALDP0IRilCEIsQ/AAAAAAAAxD9xHMdxHMfBP3wUrkfhesQ/RRNNNNFEwz+RkJCQkJDAP9y2bdu2bbs/////////vz9AnhLkKUG+P+ITSCXnZcE/L6l8GPfrwj+0X4gVpfHBP8zBzX4hVsQ/s1+IFaXxwT9u1Hc26ju7P04w3so+h8Q/s4hPIJWcxz86BS+n4OXEPxQ7sRM7scM/Yyd2Yid2wj+SkZGRkZHBPxb44uoHHcU/Fvji6gcdxT+zX4gVpfHBP9YZqZhbncE/Enj7IYG3vz+UyDRsN8vDPwEAAAAAAMA/IPuxH/uxvz/rUbgehevBPytZyUpWssI/09LS0tLSwj8bUWDSqXnAP/Q8z/M8z8M/kyRJkiRJwj/AECtK4yPDP27btm3btsU/zy1x6vfcwj/BECtK4yPDP02uICZXEMM/tF+IFaXxwT9vZ0jM2xnCPxdmNYo4dNI/Yid2Yid20j8gg/MxOB/TP4Zp7oK/itM/sHdMDewd0z+atsbfzSPUPz3m77UR69I/ck8jLPc00j+wd0wN7B3TP+iiiy666NI/OL3pTW960z+TJk2aNGnSP2WTTTbZZNM/oK5P16fr0z8qZ7fwqzHRP9IgDdIgDdI/njt37ty50z9LS0tLS0vTPwAAAAAAANQ/fUB17K0N0z9AuBv7HpHTP+dAohU2B9I/G8prKK+h1D8yRT7rBlPUP6GajrlEeNI/kyRJkiRJ0j/jJszvanHTP4TzMTgfg9M/Pmx9GzBU0z8AAAAAAIDRPwAAAAAAANM/sizLsizL0j9aWlpaWlrSP3vH1MDeMdU/AAAAAAAA1D+VUkoppZTSP83MzMzMzNI/FDuxEzux0z/iK77iK77SP/gz4c+EP9M/gNy6vAOO1D+c/E3+Jn/TP9PS0tLS0tI/c08jLPc00j84velNb3rTP02uICZXENM/TK4gJlcQ0z+udG9AmbjSP5EGaZAGadA/UPxFzrDg0j9nOz4EKTfVPw7V7VDdDtU/ne34EKTc1D81dX7tIZfVP8i5zy4gNtU/arA7k9Hi1T8tLS0tLS3VP23ep7hkCNY/hmEYhmEY1j90VOCLqx/UP9y2bdu2bdM/SfsgGVDP1D+brUO/2TrUP9hQXkN5DdU//CKqdfZF1D/tiDvijrjTPz3P8zzP89Q/BgUFBQUF1T9WaqVWaqXWP3GlewPKxNU/CFJuKpon1D/VKX/UKX/UP1ZVVVVVVdY/baEBS3r50z9IP/rRj37UP5VRGZVRGdU/EzuxEzux0z+yZyAqHdnTPwJnXIsENdU/F1100UUX1T83V3M1V3PVP5rP9cfLYNQ/FRUVFRUV1T/Fc83qMMrUP6EBS3r509Y/M6Z8HZZw1D/kAl5voz/UPz3P8zzP89Q/EzuxEzux0z8ub4xgor/TP0IRilCEItQ/UCMs9zTC0j8O1e1Q3Q7VP/VLv/RLv9Q/tEALtEAL1D/XlDVlTVnTP5mK55rVYdQ/PH+L05rt0z/Fx323FPrTP1DpyJ6BqNQ/\"},\"shape\":[150],\"dtype\":\"float64\",\"order\":\"little\"}],[\"petal_width\",{\"type\":\"ndarray\",\"array\":{\"type\":\"bytes\",\"data\":\"FRQUFBQUlD/tWIEw0o6VP1cQkyuIyZU/WBCTK4jJlT8VFBQUFBSUP3AfwX0E96E/HnRU4Iurnz/72WJl+EaUP3CBC1zgApc/VlVVVVVVhT9oL6G9hPaSP3wUrkfhepQ/BxZYYIEFhj8YGBgYGBiIP5MkSZIkSZI/ERERERERoT+eEuQpQZ6iP4P9VhtD050/q8FzBIq2mj8fmUDv1LWcP8AQK0rjI5M/vxArSuMjoz9YEJMriMmVP/NW9jmkJqg/A6nkvCzikz86BS+n4OWUPxQ7sRM7saM/FTuxEzuxkz8VFBQUFBSUPxb44uoHHZU/Fvji6gcdlT+/ECtK4yOjP6AsgU37yYI/efshgbcfkj8W+OLqBx2VP1dVVVVVVZU/FDiBEziBkz97FK5H4XqEP3CBC1zgApc/FRQUFBQUlD/3RhSYdGqeP5IkSZIkSaI/F2iBFmiBlj8fmUDv1LWsP5MkSZIkSaI/sgJhpB0roD/BECtK4yOTP1gQkyuIyZU/wBArSuMjkz9bv1Kg1q+UP+TFluDb/LU/2Imd2ImduD9rV6J2JWq3P/xVnJCSZ7k/gr1jamDvuD9GF1100UW3PwKh5E7Rwrk/exphuacRtj8KcVZ+Qpy1PyabbLLJJrs/ZCELWchCtj/SpEmTJk26P2WTTTbZZLM/vvBeeC+8tz8ElbNb+NW4P5Zv+ZZv+bY/06RJkyZNuj/T0tLS0tKyP6qqqqqqqro/rw3T3AV/tT9hlKl4rlm9P/ntUk/Gb7c/NZTXUF5DuT8dTJHPusG0P+BJQfLnVbY/RRdddNFFtz9eLW7C/K62P4ralahdibo/UpD8eZXFuT8AAAAAAAC0PwEAAAAAALY/FEVRFEVRtD+XlpaWlpa2P79jamDvmLo/qqqqqqqquj9tGtCmAW26PwAAAAAAALg/RhdddNFFtz9YfMVXfMW3P1yQcUHGBbk/6GT6KmFstj++8F54L7y3P5eWlpaWlrY/fBphuacRtj+CuXZgrh24P1gQkyuIybU/XvyJhFOatz+pRchfs6O2PxmBERiBEbg/6qPVJETxtz+AMYmD963BP2EfF/ZxYb8/XYa90p+zvT8gclkxUMK7P6o05NxnF8A/5FTAL9zauz8AAAAAAADAP1hHm/cpLrk/27Zt27Ztuz/RUYEvrn7AP6DneZ7neb4/kAyoZyrXvT9GWO5phOW+P3kN5TWU18A/VooJuqsUwz9G3BF3xB3BP9u2bdu2bbs/nZubm5ubuz8c4zEe4zG+P4jG+tBYH7o/V/pztuNDwD8RZrsQZrvAP6uqqqqqqro/YZSpeK5ZvT/jGc94xjO+PxqVURmVUbk/ndiJndiJvT9UOrJnICq9P4OaCtGGz78/RhdddNFFtz+cq7maq7m6P4BD87n+eLk/kZCQkJCQwD9SpuK5ZnW4P6EBS3r507Y/I5qzBsXTvj8NJ3VfHlvBP9u2bdu2bbs/ndiJndiJvT+5HoXrUbi+PxShCEUoQsE/cLYO/WbrwD9hHxf2cWG/P9ACLdACLcA/UhmVURmVwT9H3BF3xB3BPxE5Qbgb+74/XJzWbJ+ovj8sqmF2cATBP1Q6smcgKr0/\"},\"shape\":[150],\"dtype\":\"float64\",\"order\":\"little\"}]]}}},\"view\":{\"type\":\"object\",\"name\":\"CDSView\",\"id\":\"p3224\",\"attributes\":{\"filter\":{\"type\":\"object\",\"name\":\"AllIndices\",\"id\":\"p3225\"}}},\"glyph\":{\"type\":\"object\",\"name\":\"VArea\",\"id\":\"p3220\",\"attributes\":{\"x\":{\"type\":\"field\",\"field\":\"index\"},\"y1\":{\"type\":\"expr\",\"expr\":{\"type\":\"object\",\"name\":\"Stack\",\"id\":\"p3194\",\"attributes\":{\"fields\":[\"sepal_length\"]}}},\"y2\":{\"type\":\"expr\",\"expr\":{\"type\":\"object\",\"name\":\"Stack\",\"id\":\"p3195\",\"attributes\":{\"fields\":[\"sepal_length\",\"sepal_width\"]}}},\"fill_color\":\"#30678D\",\"hatch_color\":{\"type\":\"value\",\"value\":\"#30678D\"}}},\"nonselection_glyph\":{\"type\":\"object\",\"name\":\"VArea\",\"id\":\"p3221\",\"attributes\":{\"x\":{\"type\":\"field\",\"field\":\"index\"},\"y1\":{\"type\":\"expr\",\"expr\":{\"id\":\"p3194\"}},\"y2\":{\"type\":\"expr\",\"expr\":{\"id\":\"p3195\"}},\"fill_color\":\"#30678D\",\"fill_alpha\":0.1,\"hatch_color\":{\"type\":\"value\",\"value\":\"#30678D\"},\"hatch_alpha\":{\"type\":\"value\",\"value\":0.1}}},\"muted_glyph\":{\"type\":\"object\",\"name\":\"VArea\",\"id\":\"p3222\",\"attributes\":{\"x\":{\"type\":\"field\",\"field\":\"index\"},\"y1\":{\"type\":\"expr\",\"expr\":{\"id\":\"p3194\"}},\"y2\":{\"type\":\"expr\",\"expr\":{\"id\":\"p3195\"}},\"fill_color\":\"#30678D\",\"fill_alpha\":0.2,\"hatch_color\":{\"type\":\"value\",\"value\":\"#30678D\"},\"hatch_alpha\":{\"type\":\"value\",\"value\":0.2}}}}},{\"type\":\"object\",\"name\":\"GlyphRenderer\",\"id\":\"p3236\",\"attributes\":{\"name\":\"petal_length\",\"data_source\":{\"type\":\"object\",\"name\":\"ColumnDataSource\",\"id\":\"p3227\",\"attributes\":{\"selected\":{\"type\":\"object\",\"name\":\"Selection\",\"id\":\"p3228\",\"attributes\":{\"indices\":[],\"line_indices\":[]}},\"selection_policy\":{\"type\":\"object\",\"name\":\"UnionRenderers\",\"id\":\"p3229\"},\"data\":{\"type\":\"map\",\"entries\":[[\"index\",{\"type\":\"ndarray\",\"array\":{\"type\":\"bytes\",\"data\":\"AAAAAAEAAAACAAAAAwAAAAQAAAAFAAAABgAAAAcAAAAIAAAACQAAAAoAAAALAAAADAAAAA0AAAAOAAAADwAAABAAAAARAAAAEgAAABMAAAAUAAAAFQAAABYAAAAXAAAAGAAAABkAAAAaAAAAGwAAABwAAAAdAAAAHgAAAB8AAAAgAAAAIQAAACIAAAAjAAAAJAAAACUAAAAmAAAAJwAAACgAAAApAAAAKgAAACsAAAAsAAAALQAAAC4AAAAvAAAAMAAAADEAAAAyAAAAMwAAADQAAAA1AAAANgAAADcAAAA4AAAAOQAAADoAAAA7AAAAPAAAAD0AAAA+AAAAPwAAAEAAAABBAAAAQgAAAEMAAABEAAAARQAAAEYAAABHAAAASAAAAEkAAABKAAAASwAAAEwAAABNAAAATgAAAE8AAABQAAAAUQAAAFIAAABTAAAAVAAAAFUAAABWAAAAVwAAAFgAAABZAAAAWgAAAFsAAABcAAAAXQAAAF4AAABfAAAAYAAAAGEAAABiAAAAYwAAAGQAAABlAAAAZgAAAGcAAABoAAAAaQAAAGoAAABrAAAAbAAAAG0AAABuAAAAbwAAAHAAAABxAAAAcgAAAHMAAAB0AAAAdQAAAHYAAAB3AAAAeAAAAHkAAAB6AAAAewAAAHwAAAB9AAAAfgAAAH8AAACAAAAAgQAAAIIAAACDAAAAhAAAAIUAAACGAAAAhwAAAIgAAACJAAAAigAAAIsAAACMAAAAjQAAAI4AAACPAAAAkAAAAJEAAACSAAAAkwAAAJQAAACVAAAA\"},\"shape\":[150],\"dtype\":\"int32\",\"order\":\"little\"}],[\"sepal_length\",{\"type\":\"ndarray\",\"array\":{\"type\":\"bytes\",\"data\":\"AAAAAAAA4D8WCCPtWIHgPwAAAAAAAOA/fmejvrNR3z9gX19fX1/fPw7lNZTXUN4/nUSmYbtZ3j+YdGoe5K7fP/vRj370o98/VlVVVVVV4D8AAAAAAADgP7oehetRuN4/hBBCCCGE4D8wMDAwMDDgPyVJkiRJkuA/ZWZmZmZm3j9q37D2DWvfP1ttDE13sN8//HVJ5cO43z+xojQ+MoHePyJWlMZHJuA/sKI0PjKB3j9+Z6O+s1HfP3VITTDeyt4/hP1WG0PT3T8VvJyCl1PgP07sxE7sxN4/AQAAAAAA4D9RUFBQUFDgP2Bc/aCjAt8/IHRU4Iur3z8hVpTGRybgP4To8V04iN4/N2jyZYMm3z/xxdUPOirgP6yqqqqqquA/MQzDMAzD4D9dj8L1KFzfP/vRj370o98/AAAAAAAA4D+XdGoe5K7fP0mSJEmSJOE/IO/xHu/x3j8sSuMjE+jdP0mSJEmSJN0/sgJhpB0r4D+yojQ+MoHeP35no76zUd8/vVPXcnCz3z9/pUCtXyngP153vNgSfNs/GqRBGqRB2j/uStSuRO3aPxnRB1TH3to/TA3sHVMD2z/lgMhwr4LZP30OqQnGW9k/PY2w3NMI2z/btm3btm3bPzbZZJNNNtk/velNb3rT2z/PnTt37tzZPxhddNFFF90/z2pntbPa2T96oHJ2C7/aP8u3fMu3fNs/xIgRI0aM2D9LS0tLS0vbP+Q4juM4jts/I/qA6thb2z8lvfxpCw3YP8Zvl3oyfts/ayivobyG2j8Ppshn3WDaP4oz2j1sfds/27Zt27Zt2z8XN2F+V4vbPyZqV6J2Jdo/UpD8eZXF2T8AAAAAAIDcPwEAAAAAgNs/+77v+77v2z9LS0tLS0vbP4K9Y2pg79g/AAAAAAAA2D/GGGOMMcbYP83MzMzMzNo/CmZJOSAy3D+ZmZmZmZnZP3Wn1Z1Wd9o/n5Ppq4Sx2T/Pame1s9rZP0tLS0tLS9s/G2G5pxGW2z+fUeJnlPjZP2mjvrNR39k/Z6O+s1Hf2T/AZkctQv7aP1y+5Vu+5ds/Xgd0Y54+2j/FJA7et0bWP/OXLH/J8tc/F5M4eN8a2T/cQy4rBkrYP1h8xVd8xdc/5tKhBrsz2T8QDw8PDw/XP+SLRKmxh9k/YRiGYRiG2T8YVz/oqMDXPzIMwzAMw9g/KeLQSfsg2T8UL5BJ8QLZPwEAAAAAANg/KIfLgE8O1z/zBX1BX9DXPzAMwzAMw9g/KSgoKCgo2D9YlEVZlEXZP4jG+tBYH9o/g/etkdVl2D8XwmwXwmzXP6uqqqqqqtk/1WGUqXiu2T+BC1zgAhfYPxqVURmVUdk/+ZZv+ZZv2T9qcRPmd7XYP96+snqXPNg/Lrrooosu2j9coAVaoAXaP0Js04p7J9k/GBgYGBgY2D/WYZSpeK7ZP32PyAnC3dg/AsGQbBHN2T9Bw0ndl8fWPxiGYRiGYdg/2Imd2Imd2D/zxggm+jvZP4ELXOACF9g/qRGWexph2T/zlyx/yfLXP5h+6Zd+6dc/+HiP93iP1z884o64I+7YP9VhlKl4rtk/C19uiAHp2D9d5Zn4uO/WP8zvanET5tc/\"},\"shape\":[150],\"dtype\":\"float64\",\"order\":\"little\"}],[\"sepal_width\",{\"type\":\"ndarray\",\"array\":{\"type\":\"bytes\",\"data\":\"9vX19fX11T9eQ3kN5TXUP1cQkyuIydU/1Xc26jsb1T+XlpaWlpbWP1FeQ3kN5dU/lieRadhu1j+bB7nrZ4vVP01talOb2tQ/q6qqqqqq1D/QXkJ7Ce3VP8P1KFyPwtU/ppRSSiml1D+XlpaWlpbWP7dt27Zt29Y/d3d3d3d31z+w9g1r37DWP9oYmu5gv9U/Uvkw7tcl1T/jIxPonbrWP8zBzX4hVtQ/XcvBzX4h1j9jcgUxuYLYP4jUBOOt7NM/k/OyiE8g1T/mFLycgpfTP8VO7MRO7NQ/ntiJndiJ1T9WVVVVVVXVPxb44uoHHdU/VeCLqx901D/Lwc1+IVbUPyyBTfvJEtg/D5p82aDJ1z9V4IurH3TUP1dVVVVVVdU/VVVVVVVV1T8K16NwPQrXP1nJSlayktU/VlVVVVVV1T9qHuSuny3WP2EYhmEYhtE/F2iBFmiB1j9SGh+ZQO/UP27btm3bttU/XkN5DeU11D/kIxPonbrWP1gQkyuIydU/XsvBzX4h1j9VVVVVVVXVPyri0En7IMk/GqRBGqRByj8zOB+D8zHIP8BfxQkpecY/RRdddNFFxz9eBbOkHBDJPwnGW9nnkMo/YLmnEZZ7yj9jamDvmBrIPy666KKLLso/ZCELWchCxj/SpEmTJk3KP1ZVVVVVVcU/xVRiKjGVyD81JtIDlbPLP/mWb/mWb8k/06RJkyZNyj9qaWlpaWnJP+Q4juM4jsM/6QOqY29tyD8BS3r50xbKP6kn47dLPck/11BeQ3kNxT92gynyWTfIP7W+DRiq6cg/gr1jamDvyD9eLW7C/K7GP2tXonYlasc/tr4NGKrpyD8AAAAAAADKPwAAAAAAAMg/F4ZhGIZhyD9qaWlpaWnJPynEWfkJccY/qqqqqqqqyj8UHD3B0RPMP83MzMzMzMg/HzLcq2CWxD/btm3btm3LP/aA2QNmD8g/Ue05mb5KyD/MuGXcMm7JP3l4eHh4eMg/pxGWexphyT+RhSxkIQvJP27UdzbqO8s/aF78iYRTyj9QJq50b0DJP5y1WZu1Wcs/rCYhir/IyT8kDt63RlbHP0yWv2T5S8Y/Zzs+BCk3xT/S1Pm1h1zGPxZf8RVf8cU/7M5ktHjlwz+Ih4eHh4fHP7GHWUC+SMQ/wzAMwzAMwz8YVz/oqMDHPxqGYRiGYcg/0z5IBtQzxT97GmG5pxHGP9hQXkN5DcU/ZSELWchCxj/zBX1BX9DHP7dt27Zt28Y/2NfX19fXxz8QERERERHBP8vEle4NKMM/kHJT0Tyhxj8XwmwXwmzHP6uqqqqqqsI/SS9/2kIDxj973ete97rHPxdogRZogcY/lm/5lm/5xj+bML+rxU3IPwJnXIsENcU/0UUXXXTRxT8VO7ETO7HDP4bmc/3xMsg/FRUVFRUVxT+hAUt6+dPGP/JcszqMMsU/h2SLaM4axD+oTDsHa5bIP+h5nud5nsc/2Imd2ImdyD9kBBP9nazGP2UlK1nJSsY/o99sHfrNxj9Mlr9k+UvGPxdogRZogcY/V3M1V3M1xz+VNWVNWVPGP5mK55rVYcQ/RfWgkXf+xj+P+24p9CfJP5swv6vFTcg/\"},\"shape\":[150],\"dtype\":\"float64\",\"order\":\"little\"}],[\"petal_length\",{\"type\":\"ndarray\",\"array\":{\"type\":\"bytes\",\"data\":\"kpGRkZGRwT/PLXHq99zCP0d9Z6O+s8E/U9/ZqO9sxD+SkZGRkZHBP2cxncV0FsM/EpmG7WZ5wj9brAzfiALDP0IRilCEIsQ/AAAAAAAAxD9xHMdxHMfBP3wUrkfhesQ/RRNNNNFEwz+RkJCQkJDAP9y2bdu2bbs/////////vz9AnhLkKUG+P+ITSCXnZcE/L6l8GPfrwj+0X4gVpfHBP8zBzX4hVsQ/s1+IFaXxwT9u1Hc26ju7P04w3so+h8Q/s4hPIJWcxz86BS+n4OXEPxQ7sRM7scM/Yyd2Yid2wj+SkZGRkZHBPxb44uoHHcU/Fvji6gcdxT+zX4gVpfHBP9YZqZhbncE/Enj7IYG3vz+UyDRsN8vDPwEAAAAAAMA/IPuxH/uxvz/rUbgehevBPytZyUpWssI/09LS0tLSwj8bUWDSqXnAP/Q8z/M8z8M/kyRJkiRJwj/AECtK4yPDP27btm3btsU/zy1x6vfcwj/BECtK4yPDP02uICZXEMM/tF+IFaXxwT9vZ0jM2xnCPxdmNYo4dNI/Yid2Yid20j8gg/MxOB/TP4Zp7oK/itM/sHdMDewd0z+atsbfzSPUPz3m77UR69I/ck8jLPc00j+wd0wN7B3TP+iiiy666NI/OL3pTW960z+TJk2aNGnSP2WTTTbZZNM/oK5P16fr0z8qZ7fwqzHRP9IgDdIgDdI/njt37ty50z9LS0tLS0vTPwAAAAAAANQ/fUB17K0N0z9AuBv7HpHTP+dAohU2B9I/G8prKK+h1D8yRT7rBlPUP6GajrlEeNI/kyRJkiRJ0j/jJszvanHTP4TzMTgfg9M/Pmx9GzBU0z8AAAAAAIDRPwAAAAAAANM/sizLsizL0j9aWlpaWlrSP3vH1MDeMdU/AAAAAAAA1D+VUkoppZTSP83MzMzMzNI/FDuxEzux0z/iK77iK77SP/gz4c+EP9M/gNy6vAOO1D+c/E3+Jn/TP9PS0tLS0tI/c08jLPc00j84velNb3rTP02uICZXENM/TK4gJlcQ0z+udG9AmbjSP5EGaZAGadA/UPxFzrDg0j9nOz4EKTfVPw7V7VDdDtU/ne34EKTc1D81dX7tIZfVP8i5zy4gNtU/arA7k9Hi1T8tLS0tLS3VP23ep7hkCNY/hmEYhmEY1j90VOCLqx/UP9y2bdu2bdM/SfsgGVDP1D+brUO/2TrUP9hQXkN5DdU//CKqdfZF1D/tiDvijrjTPz3P8zzP89Q/BgUFBQUF1T9WaqVWaqXWP3GlewPKxNU/CFJuKpon1D/VKX/UKX/UP1ZVVVVVVdY/baEBS3r50z9IP/rRj37UP5VRGZVRGdU/EzuxEzux0z+yZyAqHdnTPwJnXIsENdU/F1100UUX1T83V3M1V3PVP5rP9cfLYNQ/FRUVFRUV1T/Fc83qMMrUP6EBS3r509Y/M6Z8HZZw1D/kAl5voz/UPz3P8zzP89Q/EzuxEzux0z8ub4xgor/TP0IRilCEItQ/UCMs9zTC0j8O1e1Q3Q7VP/VLv/RLv9Q/tEALtEAL1D/XlDVlTVnTP5mK55rVYdQ/PH+L05rt0z/Fx323FPrTP1DpyJ6BqNQ/\"},\"shape\":[150],\"dtype\":\"float64\",\"order\":\"little\"}],[\"petal_width\",{\"type\":\"ndarray\",\"array\":{\"type\":\"bytes\",\"data\":\"FRQUFBQUlD/tWIEw0o6VP1cQkyuIyZU/WBCTK4jJlT8VFBQUFBSUP3AfwX0E96E/HnRU4Iurnz/72WJl+EaUP3CBC1zgApc/VlVVVVVVhT9oL6G9hPaSP3wUrkfhepQ/BxZYYIEFhj8YGBgYGBiIP5MkSZIkSZI/ERERERERoT+eEuQpQZ6iP4P9VhtD050/q8FzBIq2mj8fmUDv1LWcP8AQK0rjI5M/vxArSuMjoz9YEJMriMmVP/NW9jmkJqg/A6nkvCzikz86BS+n4OWUPxQ7sRM7saM/FTuxEzuxkz8VFBQUFBSUPxb44uoHHZU/Fvji6gcdlT+/ECtK4yOjP6AsgU37yYI/efshgbcfkj8W+OLqBx2VP1dVVVVVVZU/FDiBEziBkz97FK5H4XqEP3CBC1zgApc/FRQUFBQUlD/3RhSYdGqeP5IkSZIkSaI/F2iBFmiBlj8fmUDv1LWsP5MkSZIkSaI/sgJhpB0roD/BECtK4yOTP1gQkyuIyZU/wBArSuMjkz9bv1Kg1q+UP+TFluDb/LU/2Imd2ImduD9rV6J2JWq3P/xVnJCSZ7k/gr1jamDvuD9GF1100UW3PwKh5E7Rwrk/exphuacRtj8KcVZ+Qpy1PyabbLLJJrs/ZCELWchCtj/SpEmTJk26P2WTTTbZZLM/vvBeeC+8tz8ElbNb+NW4P5Zv+ZZv+bY/06RJkyZNuj/T0tLS0tKyP6qqqqqqqro/rw3T3AV/tT9hlKl4rlm9P/ntUk/Gb7c/NZTXUF5DuT8dTJHPusG0P+BJQfLnVbY/RRdddNFFtz9eLW7C/K62P4ralahdibo/UpD8eZXFuT8AAAAAAAC0PwEAAAAAALY/FEVRFEVRtD+XlpaWlpa2P79jamDvmLo/qqqqqqqquj9tGtCmAW26PwAAAAAAALg/RhdddNFFtz9YfMVXfMW3P1yQcUHGBbk/6GT6KmFstj++8F54L7y3P5eWlpaWlrY/fBphuacRtj+CuXZgrh24P1gQkyuIybU/XvyJhFOatz+pRchfs6O2PxmBERiBEbg/6qPVJETxtz+AMYmD963BP2EfF/ZxYb8/XYa90p+zvT8gclkxUMK7P6o05NxnF8A/5FTAL9zauz8AAAAAAADAP1hHm/cpLrk/27Zt27Ztuz/RUYEvrn7AP6DneZ7neb4/kAyoZyrXvT9GWO5phOW+P3kN5TWU18A/VooJuqsUwz9G3BF3xB3BP9u2bdu2bbs/nZubm5ubuz8c4zEe4zG+P4jG+tBYH7o/V/pztuNDwD8RZrsQZrvAP6uqqqqqqro/YZSpeK5ZvT/jGc94xjO+PxqVURmVUbk/ndiJndiJvT9UOrJnICq9P4OaCtGGz78/RhdddNFFtz+cq7maq7m6P4BD87n+eLk/kZCQkJCQwD9SpuK5ZnW4P6EBS3r507Y/I5qzBsXTvj8NJ3VfHlvBP9u2bdu2bbs/ndiJndiJvT+5HoXrUbi+PxShCEUoQsE/cLYO/WbrwD9hHxf2cWG/P9ACLdACLcA/UhmVURmVwT9H3BF3xB3BPxE5Qbgb+74/XJzWbJ+ovj8sqmF2cATBP1Q6smcgKr0/\"},\"shape\":[150],\"dtype\":\"float64\",\"order\":\"little\"}]]}}},\"view\":{\"type\":\"object\",\"name\":\"CDSView\",\"id\":\"p3237\",\"attributes\":{\"filter\":{\"type\":\"object\",\"name\":\"AllIndices\",\"id\":\"p3238\"}}},\"glyph\":{\"type\":\"object\",\"name\":\"VArea\",\"id\":\"p3233\",\"attributes\":{\"x\":{\"type\":\"field\",\"field\":\"index\"},\"y1\":{\"type\":\"expr\",\"expr\":{\"type\":\"object\",\"name\":\"Stack\",\"id\":\"p3196\",\"attributes\":{\"fields\":[\"sepal_length\",\"sepal_width\"]}}},\"y2\":{\"type\":\"expr\",\"expr\":{\"type\":\"object\",\"name\":\"Stack\",\"id\":\"p3197\",\"attributes\":{\"fields\":[\"sepal_length\",\"sepal_width\",\"petal_length\"]}}},\"fill_color\":\"#35B778\",\"hatch_color\":{\"type\":\"value\",\"value\":\"#35B778\"}}},\"nonselection_glyph\":{\"type\":\"object\",\"name\":\"VArea\",\"id\":\"p3234\",\"attributes\":{\"x\":{\"type\":\"field\",\"field\":\"index\"},\"y1\":{\"type\":\"expr\",\"expr\":{\"id\":\"p3196\"}},\"y2\":{\"type\":\"expr\",\"expr\":{\"id\":\"p3197\"}},\"fill_color\":\"#35B778\",\"fill_alpha\":0.1,\"hatch_color\":{\"type\":\"value\",\"value\":\"#35B778\"},\"hatch_alpha\":{\"type\":\"value\",\"value\":0.1}}},\"muted_glyph\":{\"type\":\"object\",\"name\":\"VArea\",\"id\":\"p3235\",\"attributes\":{\"x\":{\"type\":\"field\",\"field\":\"index\"},\"y1\":{\"type\":\"expr\",\"expr\":{\"id\":\"p3196\"}},\"y2\":{\"type\":\"expr\",\"expr\":{\"id\":\"p3197\"}},\"fill_color\":\"#35B778\",\"fill_alpha\":0.2,\"hatch_color\":{\"type\":\"value\",\"value\":\"#35B778\"},\"hatch_alpha\":{\"type\":\"value\",\"value\":0.2}}}}},{\"type\":\"object\",\"name\":\"GlyphRenderer\",\"id\":\"p3249\",\"attributes\":{\"name\":\"petal_width\",\"data_source\":{\"type\":\"object\",\"name\":\"ColumnDataSource\",\"id\":\"p3240\",\"attributes\":{\"selected\":{\"type\":\"object\",\"name\":\"Selection\",\"id\":\"p3241\",\"attributes\":{\"indices\":[],\"line_indices\":[]}},\"selection_policy\":{\"type\":\"object\",\"name\":\"UnionRenderers\",\"id\":\"p3242\"},\"data\":{\"type\":\"map\",\"entries\":[[\"index\",{\"type\":\"ndarray\",\"array\":{\"type\":\"bytes\",\"data\":\"AAAAAAEAAAACAAAAAwAAAAQAAAAFAAAABgAAAAcAAAAIAAAACQAAAAoAAAALAAAADAAAAA0AAAAOAAAADwAAABAAAAARAAAAEgAAABMAAAAUAAAAFQAAABYAAAAXAAAAGAAAABkAAAAaAAAAGwAAABwAAAAdAAAAHgAAAB8AAAAgAAAAIQAAACIAAAAjAAAAJAAAACUAAAAmAAAAJwAAACgAAAApAAAAKgAAACsAAAAsAAAALQAAAC4AAAAvAAAAMAAAADEAAAAyAAAAMwAAADQAAAA1AAAANgAAADcAAAA4AAAAOQAAADoAAAA7AAAAPAAAAD0AAAA+AAAAPwAAAEAAAABBAAAAQgAAAEMAAABEAAAARQAAAEYAAABHAAAASAAAAEkAAABKAAAASwAAAEwAAABNAAAATgAAAE8AAABQAAAAUQAAAFIAAABTAAAAVAAAAFUAAABWAAAAVwAAAFgAAABZAAAAWgAAAFsAAABcAAAAXQAAAF4AAABfAAAAYAAAAGEAAABiAAAAYwAAAGQAAABlAAAAZgAAAGcAAABoAAAAaQAAAGoAAABrAAAAbAAAAG0AAABuAAAAbwAAAHAAAABxAAAAcgAAAHMAAAB0AAAAdQAAAHYAAAB3AAAAeAAAAHkAAAB6AAAAewAAAHwAAAB9AAAAfgAAAH8AAACAAAAAgQAAAIIAAACDAAAAhAAAAIUAAACGAAAAhwAAAIgAAACJAAAAigAAAIsAAACMAAAAjQAAAI4AAACPAAAAkAAAAJEAAACSAAAAkwAAAJQAAACVAAAA\"},\"shape\":[150],\"dtype\":\"int32\",\"order\":\"little\"}],[\"sepal_length\",{\"type\":\"ndarray\",\"array\":{\"type\":\"bytes\",\"data\":\"AAAAAAAA4D8WCCPtWIHgPwAAAAAAAOA/fmejvrNR3z9gX19fX1/fPw7lNZTXUN4/nUSmYbtZ3j+YdGoe5K7fP/vRj370o98/VlVVVVVV4D8AAAAAAADgP7oehetRuN4/hBBCCCGE4D8wMDAwMDDgPyVJkiRJkuA/ZWZmZmZm3j9q37D2DWvfP1ttDE13sN8//HVJ5cO43z+xojQ+MoHePyJWlMZHJuA/sKI0PjKB3j9+Z6O+s1HfP3VITTDeyt4/hP1WG0PT3T8VvJyCl1PgP07sxE7sxN4/AQAAAAAA4D9RUFBQUFDgP2Bc/aCjAt8/IHRU4Iur3z8hVpTGRybgP4To8V04iN4/N2jyZYMm3z/xxdUPOirgP6yqqqqqquA/MQzDMAzD4D9dj8L1KFzfP/vRj370o98/AAAAAAAA4D+XdGoe5K7fP0mSJEmSJOE/IO/xHu/x3j8sSuMjE+jdP0mSJEmSJN0/sgJhpB0r4D+yojQ+MoHeP35no76zUd8/vVPXcnCz3z9/pUCtXyngP153vNgSfNs/GqRBGqRB2j/uStSuRO3aPxnRB1TH3to/TA3sHVMD2z/lgMhwr4LZP30OqQnGW9k/PY2w3NMI2z/btm3btm3bPzbZZJNNNtk/velNb3rT2z/PnTt37tzZPxhddNFFF90/z2pntbPa2T96oHJ2C7/aP8u3fMu3fNs/xIgRI0aM2D9LS0tLS0vbP+Q4juM4jts/I/qA6thb2z8lvfxpCw3YP8Zvl3oyfts/ayivobyG2j8Ppshn3WDaP4oz2j1sfds/27Zt27Zt2z8XN2F+V4vbPyZqV6J2Jdo/UpD8eZXF2T8AAAAAAIDcPwEAAAAAgNs/+77v+77v2z9LS0tLS0vbP4K9Y2pg79g/AAAAAAAA2D/GGGOMMcbYP83MzMzMzNo/CmZJOSAy3D+ZmZmZmZnZP3Wn1Z1Wd9o/n5Ppq4Sx2T/Pame1s9rZP0tLS0tLS9s/G2G5pxGW2z+fUeJnlPjZP2mjvrNR39k/Z6O+s1Hf2T/AZkctQv7aP1y+5Vu+5ds/Xgd0Y54+2j/FJA7et0bWP/OXLH/J8tc/F5M4eN8a2T/cQy4rBkrYP1h8xVd8xdc/5tKhBrsz2T8QDw8PDw/XP+SLRKmxh9k/YRiGYRiG2T8YVz/oqMDXPzIMwzAMw9g/KeLQSfsg2T8UL5BJ8QLZPwEAAAAAANg/KIfLgE8O1z/zBX1BX9DXPzAMwzAMw9g/KSgoKCgo2D9YlEVZlEXZP4jG+tBYH9o/g/etkdVl2D8XwmwXwmzXP6uqqqqqqtk/1WGUqXiu2T+BC1zgAhfYPxqVURmVUdk/+ZZv+ZZv2T9qcRPmd7XYP96+snqXPNg/Lrrooosu2j9coAVaoAXaP0Js04p7J9k/GBgYGBgY2D/WYZSpeK7ZP32PyAnC3dg/AsGQbBHN2T9Bw0ndl8fWPxiGYRiGYdg/2Imd2Imd2D/zxggm+jvZP4ELXOACF9g/qRGWexph2T/zlyx/yfLXP5h+6Zd+6dc/+HiP93iP1z884o64I+7YP9VhlKl4rtk/C19uiAHp2D9d5Zn4uO/WP8zvanET5tc/\"},\"shape\":[150],\"dtype\":\"float64\",\"order\":\"little\"}],[\"sepal_width\",{\"type\":\"ndarray\",\"array\":{\"type\":\"bytes\",\"data\":\"9vX19fX11T9eQ3kN5TXUP1cQkyuIydU/1Xc26jsb1T+XlpaWlpbWP1FeQ3kN5dU/lieRadhu1j+bB7nrZ4vVP01talOb2tQ/q6qqqqqq1D/QXkJ7Ce3VP8P1KFyPwtU/ppRSSiml1D+XlpaWlpbWP7dt27Zt29Y/d3d3d3d31z+w9g1r37DWP9oYmu5gv9U/Uvkw7tcl1T/jIxPonbrWP8zBzX4hVtQ/XcvBzX4h1j9jcgUxuYLYP4jUBOOt7NM/k/OyiE8g1T/mFLycgpfTP8VO7MRO7NQ/ntiJndiJ1T9WVVVVVVXVPxb44uoHHdU/VeCLqx901D/Lwc1+IVbUPyyBTfvJEtg/D5p82aDJ1z9V4IurH3TUP1dVVVVVVdU/VVVVVVVV1T8K16NwPQrXP1nJSlayktU/VlVVVVVV1T9qHuSuny3WP2EYhmEYhtE/F2iBFmiB1j9SGh+ZQO/UP27btm3bttU/XkN5DeU11D/kIxPonbrWP1gQkyuIydU/XsvBzX4h1j9VVVVVVVXVPyri0En7IMk/GqRBGqRByj8zOB+D8zHIP8BfxQkpecY/RRdddNFFxz9eBbOkHBDJPwnGW9nnkMo/YLmnEZZ7yj9jamDvmBrIPy666KKLLso/ZCELWchCxj/SpEmTJk3KP1ZVVVVVVcU/xVRiKjGVyD81JtIDlbPLP/mWb/mWb8k/06RJkyZNyj9qaWlpaWnJP+Q4juM4jsM/6QOqY29tyD8BS3r50xbKP6kn47dLPck/11BeQ3kNxT92gynyWTfIP7W+DRiq6cg/gr1jamDvyD9eLW7C/K7GP2tXonYlasc/tr4NGKrpyD8AAAAAAADKPwAAAAAAAMg/F4ZhGIZhyD9qaWlpaWnJPynEWfkJccY/qqqqqqqqyj8UHD3B0RPMP83MzMzMzMg/HzLcq2CWxD/btm3btm3LP/aA2QNmD8g/Ue05mb5KyD/MuGXcMm7JP3l4eHh4eMg/pxGWexphyT+RhSxkIQvJP27UdzbqO8s/aF78iYRTyj9QJq50b0DJP5y1WZu1Wcs/rCYhir/IyT8kDt63RlbHP0yWv2T5S8Y/Zzs+BCk3xT/S1Pm1h1zGPxZf8RVf8cU/7M5ktHjlwz+Ih4eHh4fHP7GHWUC+SMQ/wzAMwzAMwz8YVz/oqMDHPxqGYRiGYcg/0z5IBtQzxT97GmG5pxHGP9hQXkN5DcU/ZSELWchCxj/zBX1BX9DHP7dt27Zt28Y/2NfX19fXxz8QERERERHBP8vEle4NKMM/kHJT0Tyhxj8XwmwXwmzHP6uqqqqqqsI/SS9/2kIDxj973ete97rHPxdogRZogcY/lm/5lm/5xj+bML+rxU3IPwJnXIsENcU/0UUXXXTRxT8VO7ETO7HDP4bmc/3xMsg/FRUVFRUVxT+hAUt6+dPGP/JcszqMMsU/h2SLaM4axD+oTDsHa5bIP+h5nud5nsc/2Imd2ImdyD9kBBP9nazGP2UlK1nJSsY/o99sHfrNxj9Mlr9k+UvGPxdogRZogcY/V3M1V3M1xz+VNWVNWVPGP5mK55rVYcQ/RfWgkXf+xj+P+24p9CfJP5swv6vFTcg/\"},\"shape\":[150],\"dtype\":\"float64\",\"order\":\"little\"}],[\"petal_length\",{\"type\":\"ndarray\",\"array\":{\"type\":\"bytes\",\"data\":\"kpGRkZGRwT/PLXHq99zCP0d9Z6O+s8E/U9/ZqO9sxD+SkZGRkZHBP2cxncV0FsM/EpmG7WZ5wj9brAzfiALDP0IRilCEIsQ/AAAAAAAAxD9xHMdxHMfBP3wUrkfhesQ/RRNNNNFEwz+RkJCQkJDAP9y2bdu2bbs/////////vz9AnhLkKUG+P+ITSCXnZcE/L6l8GPfrwj+0X4gVpfHBP8zBzX4hVsQ/s1+IFaXxwT9u1Hc26ju7P04w3so+h8Q/s4hPIJWcxz86BS+n4OXEPxQ7sRM7scM/Yyd2Yid2wj+SkZGRkZHBPxb44uoHHcU/Fvji6gcdxT+zX4gVpfHBP9YZqZhbncE/Enj7IYG3vz+UyDRsN8vDPwEAAAAAAMA/IPuxH/uxvz/rUbgehevBPytZyUpWssI/09LS0tLSwj8bUWDSqXnAP/Q8z/M8z8M/kyRJkiRJwj/AECtK4yPDP27btm3btsU/zy1x6vfcwj/BECtK4yPDP02uICZXEMM/tF+IFaXxwT9vZ0jM2xnCPxdmNYo4dNI/Yid2Yid20j8gg/MxOB/TP4Zp7oK/itM/sHdMDewd0z+atsbfzSPUPz3m77UR69I/ck8jLPc00j+wd0wN7B3TP+iiiy666NI/OL3pTW960z+TJk2aNGnSP2WTTTbZZNM/oK5P16fr0z8qZ7fwqzHRP9IgDdIgDdI/njt37ty50z9LS0tLS0vTPwAAAAAAANQ/fUB17K0N0z9AuBv7HpHTP+dAohU2B9I/G8prKK+h1D8yRT7rBlPUP6GajrlEeNI/kyRJkiRJ0j/jJszvanHTP4TzMTgfg9M/Pmx9GzBU0z8AAAAAAIDRPwAAAAAAANM/sizLsizL0j9aWlpaWlrSP3vH1MDeMdU/AAAAAAAA1D+VUkoppZTSP83MzMzMzNI/FDuxEzux0z/iK77iK77SP/gz4c+EP9M/gNy6vAOO1D+c/E3+Jn/TP9PS0tLS0tI/c08jLPc00j84velNb3rTP02uICZXENM/TK4gJlcQ0z+udG9AmbjSP5EGaZAGadA/UPxFzrDg0j9nOz4EKTfVPw7V7VDdDtU/ne34EKTc1D81dX7tIZfVP8i5zy4gNtU/arA7k9Hi1T8tLS0tLS3VP23ep7hkCNY/hmEYhmEY1j90VOCLqx/UP9y2bdu2bdM/SfsgGVDP1D+brUO/2TrUP9hQXkN5DdU//CKqdfZF1D/tiDvijrjTPz3P8zzP89Q/BgUFBQUF1T9WaqVWaqXWP3GlewPKxNU/CFJuKpon1D/VKX/UKX/UP1ZVVVVVVdY/baEBS3r50z9IP/rRj37UP5VRGZVRGdU/EzuxEzux0z+yZyAqHdnTPwJnXIsENdU/F1100UUX1T83V3M1V3PVP5rP9cfLYNQ/FRUVFRUV1T/Fc83qMMrUP6EBS3r509Y/M6Z8HZZw1D/kAl5voz/UPz3P8zzP89Q/EzuxEzux0z8ub4xgor/TP0IRilCEItQ/UCMs9zTC0j8O1e1Q3Q7VP/VLv/RLv9Q/tEALtEAL1D/XlDVlTVnTP5mK55rVYdQ/PH+L05rt0z/Fx323FPrTP1DpyJ6BqNQ/\"},\"shape\":[150],\"dtype\":\"float64\",\"order\":\"little\"}],[\"petal_width\",{\"type\":\"ndarray\",\"array\":{\"type\":\"bytes\",\"data\":\"FRQUFBQUlD/tWIEw0o6VP1cQkyuIyZU/WBCTK4jJlT8VFBQUFBSUP3AfwX0E96E/HnRU4Iurnz/72WJl+EaUP3CBC1zgApc/VlVVVVVVhT9oL6G9hPaSP3wUrkfhepQ/BxZYYIEFhj8YGBgYGBiIP5MkSZIkSZI/ERERERERoT+eEuQpQZ6iP4P9VhtD050/q8FzBIq2mj8fmUDv1LWcP8AQK0rjI5M/vxArSuMjoz9YEJMriMmVP/NW9jmkJqg/A6nkvCzikz86BS+n4OWUPxQ7sRM7saM/FTuxEzuxkz8VFBQUFBSUPxb44uoHHZU/Fvji6gcdlT+/ECtK4yOjP6AsgU37yYI/efshgbcfkj8W+OLqBx2VP1dVVVVVVZU/FDiBEziBkz97FK5H4XqEP3CBC1zgApc/FRQUFBQUlD/3RhSYdGqeP5IkSZIkSaI/F2iBFmiBlj8fmUDv1LWsP5MkSZIkSaI/sgJhpB0roD/BECtK4yOTP1gQkyuIyZU/wBArSuMjkz9bv1Kg1q+UP+TFluDb/LU/2Imd2ImduD9rV6J2JWq3P/xVnJCSZ7k/gr1jamDvuD9GF1100UW3PwKh5E7Rwrk/exphuacRtj8KcVZ+Qpy1PyabbLLJJrs/ZCELWchCtj/SpEmTJk26P2WTTTbZZLM/vvBeeC+8tz8ElbNb+NW4P5Zv+ZZv+bY/06RJkyZNuj/T0tLS0tKyP6qqqqqqqro/rw3T3AV/tT9hlKl4rlm9P/ntUk/Gb7c/NZTXUF5DuT8dTJHPusG0P+BJQfLnVbY/RRdddNFFtz9eLW7C/K62P4ralahdibo/UpD8eZXFuT8AAAAAAAC0PwEAAAAAALY/FEVRFEVRtD+XlpaWlpa2P79jamDvmLo/qqqqqqqquj9tGtCmAW26PwAAAAAAALg/RhdddNFFtz9YfMVXfMW3P1yQcUHGBbk/6GT6KmFstj++8F54L7y3P5eWlpaWlrY/fBphuacRtj+CuXZgrh24P1gQkyuIybU/XvyJhFOatz+pRchfs6O2PxmBERiBEbg/6qPVJETxtz+AMYmD963BP2EfF/ZxYb8/XYa90p+zvT8gclkxUMK7P6o05NxnF8A/5FTAL9zauz8AAAAAAADAP1hHm/cpLrk/27Zt27Ztuz/RUYEvrn7AP6DneZ7neb4/kAyoZyrXvT9GWO5phOW+P3kN5TWU18A/VooJuqsUwz9G3BF3xB3BP9u2bdu2bbs/nZubm5ubuz8c4zEe4zG+P4jG+tBYH7o/V/pztuNDwD8RZrsQZrvAP6uqqqqqqro/YZSpeK5ZvT/jGc94xjO+PxqVURmVUbk/ndiJndiJvT9UOrJnICq9P4OaCtGGz78/RhdddNFFtz+cq7maq7m6P4BD87n+eLk/kZCQkJCQwD9SpuK5ZnW4P6EBS3r507Y/I5qzBsXTvj8NJ3VfHlvBP9u2bdu2bbs/ndiJndiJvT+5HoXrUbi+PxShCEUoQsE/cLYO/WbrwD9hHxf2cWG/P9ACLdACLcA/UhmVURmVwT9H3BF3xB3BPxE5Qbgb+74/XJzWbJ+ovj8sqmF2cATBP1Q6smcgKr0/\"},\"shape\":[150],\"dtype\":\"float64\",\"order\":\"little\"}]]}}},\"view\":{\"type\":\"object\",\"name\":\"CDSView\",\"id\":\"p3250\",\"attributes\":{\"filter\":{\"type\":\"object\",\"name\":\"AllIndices\",\"id\":\"p3251\"}}},\"glyph\":{\"type\":\"object\",\"name\":\"VArea\",\"id\":\"p3246\",\"attributes\":{\"x\":{\"type\":\"field\",\"field\":\"index\"},\"y1\":{\"type\":\"expr\",\"expr\":{\"type\":\"object\",\"name\":\"Stack\",\"id\":\"p3198\",\"attributes\":{\"fields\":[\"sepal_length\",\"sepal_width\",\"petal_length\"]}}},\"y2\":{\"type\":\"expr\",\"expr\":{\"type\":\"object\",\"name\":\"Stack\",\"id\":\"p3199\",\"attributes\":{\"fields\":[\"sepal_length\",\"sepal_width\",\"petal_length\",\"petal_width\"]}}},\"fill_color\":\"#FDE724\",\"hatch_color\":{\"type\":\"value\",\"value\":\"#FDE724\"}}},\"nonselection_glyph\":{\"type\":\"object\",\"name\":\"VArea\",\"id\":\"p3247\",\"attributes\":{\"x\":{\"type\":\"field\",\"field\":\"index\"},\"y1\":{\"type\":\"expr\",\"expr\":{\"id\":\"p3198\"}},\"y2\":{\"type\":\"expr\",\"expr\":{\"id\":\"p3199\"}},\"fill_color\":\"#FDE724\",\"fill_alpha\":0.1,\"hatch_color\":{\"type\":\"value\",\"value\":\"#FDE724\"},\"hatch_alpha\":{\"type\":\"value\",\"value\":0.1}}},\"muted_glyph\":{\"type\":\"object\",\"name\":\"VArea\",\"id\":\"p3248\",\"attributes\":{\"x\":{\"type\":\"field\",\"field\":\"index\"},\"y1\":{\"type\":\"expr\",\"expr\":{\"id\":\"p3198\"}},\"y2\":{\"type\":\"expr\",\"expr\":{\"id\":\"p3199\"}},\"fill_color\":\"#FDE724\",\"fill_alpha\":0.2,\"hatch_color\":{\"type\":\"value\",\"value\":\"#FDE724\"},\"hatch_alpha\":{\"type\":\"value\",\"value\":0.2}}}}}],\"toolbar\":{\"type\":\"object\",\"name\":\"Toolbar\",\"id\":\"p3171\",\"attributes\":{\"tools\":[{\"type\":\"object\",\"name\":\"PanTool\",\"id\":\"p3185\"},{\"type\":\"object\",\"name\":\"WheelZoomTool\",\"id\":\"p3186\",\"attributes\":{\"renderers\":\"auto\"}},{\"type\":\"object\",\"name\":\"BoxZoomTool\",\"id\":\"p3187\",\"attributes\":{\"overlay\":{\"type\":\"object\",\"name\":\"BoxAnnotation\",\"id\":\"p3188\",\"attributes\":{\"syncable\":false,\"level\":\"overlay\",\"visible\":false,\"left_units\":\"canvas\",\"right_units\":\"canvas\",\"top_units\":\"canvas\",\"bottom_units\":\"canvas\",\"line_color\":\"black\",\"line_alpha\":1.0,\"line_width\":2,\"line_dash\":[4,4],\"fill_color\":\"lightgrey\",\"fill_alpha\":0.5}}}},{\"type\":\"object\",\"name\":\"SaveTool\",\"id\":\"p3189\"},{\"type\":\"object\",\"name\":\"ResetTool\",\"id\":\"p3190\"},{\"type\":\"object\",\"name\":\"HelpTool\",\"id\":\"p3191\"}]}},\"left\":[{\"type\":\"object\",\"name\":\"LinearAxis\",\"id\":\"p3180\",\"attributes\":{\"ticker\":{\"type\":\"object\",\"name\":\"BasicTicker\",\"id\":\"p3181\",\"attributes\":{\"mantissas\":[1,2,5]}},\"formatter\":{\"type\":\"object\",\"name\":\"BasicTickFormatter\",\"id\":\"p3182\"},\"major_label_policy\":{\"type\":\"object\",\"name\":\"AllLabels\",\"id\":\"p3183\"}}}],\"below\":[{\"type\":\"object\",\"name\":\"LinearAxis\",\"id\":\"p3175\",\"attributes\":{\"ticker\":{\"type\":\"object\",\"name\":\"BasicTicker\",\"id\":\"p3176\",\"attributes\":{\"mantissas\":[1,2,5]}},\"formatter\":{\"type\":\"object\",\"name\":\"BasicTickFormatter\",\"id\":\"p3177\"},\"major_label_policy\":{\"type\":\"object\",\"name\":\"AllLabels\",\"id\":\"p3178\"}}}],\"center\":[{\"type\":\"object\",\"name\":\"Grid\",\"id\":\"p3179\",\"attributes\":{\"axis\":{\"id\":\"p3175\"},\"minor_grid_line_color\":\"#eeeeee\"}},{\"type\":\"object\",\"name\":\"Grid\",\"id\":\"p3184\",\"attributes\":{\"dimension\":1,\"axis\":{\"id\":\"p3180\"},\"minor_grid_line_color\":\"#eeeeee\"}},{\"type\":\"object\",\"name\":\"Legend\",\"id\":\"p3212\",\"attributes\":{\"background_fill_color\":\"#fafafa\",\"items\":[{\"type\":\"object\",\"name\":\"LegendItem\",\"id\":\"p3213\",\"attributes\":{\"label\":{\"type\":\"value\",\"value\":\"sepal_length\"},\"renderers\":[{\"id\":\"p3209\"}]}},{\"type\":\"object\",\"name\":\"LegendItem\",\"id\":\"p3226\",\"attributes\":{\"label\":{\"type\":\"value\",\"value\":\"sepal_width\"},\"renderers\":[{\"id\":\"p3223\"}]}},{\"type\":\"object\",\"name\":\"LegendItem\",\"id\":\"p3239\",\"attributes\":{\"label\":{\"type\":\"value\",\"value\":\"petal_length\"},\"renderers\":[{\"id\":\"p3236\"}]}},{\"type\":\"object\",\"name\":\"LegendItem\",\"id\":\"p3252\",\"attributes\":{\"label\":{\"type\":\"value\",\"value\":\"petal_width\"},\"renderers\":[{\"id\":\"p3249\"}]}}]}}]}}]}};\n  const render_items = [{\"docid\":\"1b84022d-5ad7-4feb-a4ab-ffb57655d678\",\"roots\":{\"p3163\":\"c8c7bef5-6d2b-4ddb-993b-f075f8b76d87\"},\"root_ids\":[\"p3163\"]}];\n  root.Bokeh.embed.embed_items_notebook(docs_json, render_items);\n  }\n  if (root.Bokeh !== undefined) {\n    embed_document(root);\n  } else {\n    let attempts = 0;\n    const timer = setInterval(function(root) {\n      if (root.Bokeh !== undefined) {\n        clearInterval(timer);\n        embed_document(root);\n      } else {\n        attempts++;\n        if (attempts > 100) {\n          clearInterval(timer);\n          console.log(\"Bokeh: ERROR: Unable to run BokehJS code because BokehJS library is missing\");\n        }\n      }\n    }, 10, root)\n  }\n})(window);",
      "application/vnd.bokehjs_exec.v0+json": ""
     },
     "metadata": {
      "application/vnd.bokehjs_exec.v0+json": {
       "id": "p3163"
      }
     },
     "output_type": "display_data"
    }
   ],
   "source": [
    "\n",
    "from bokeh.palettes import viridis\n",
    "from bokeh.plotting import figure, show\n",
    "\n",
    "import warnings\n",
    "\n",
    "warnings.filterwarnings('ignore')\n",
    "num_list = ['sepal_length', 'sepal_width', 'petal_length','petal_width']\n",
    "data = iris\n",
    "def percent(data):\n",
    "    N = len(data.columns)\n",
    "\n",
    "    p = figure(x_range=(0, len(data)-1))\n",
    "    p.grid.minor_grid_line_color = '#eeeeee'\n",
    "\n",
    "    # names = data.keys().to_list()\n",
    "    names = num_list\n",
    "    p.varea_stack(stackers=names, x='index', color=viridis(N), legend_label=names,  source=data)\n",
    "\n",
    "    p.legend.orientation = \"vertical\"\n",
    "    p.legend.background_fill_color = \"#fafafa\"\n",
    "\n",
    "    show(p)\n",
    "perc = True\n",
    "\n",
    "if perc ==True:\n",
    "    data_01 = data[num_list]\n",
    "    for i in range(len(data_01)):\n",
    "\n",
    "        data_01.loc[i]=data_01.loc[i] / data_01.sum(axis=1).to_list()[i]\n",
    "    percent(data_01)\n",
    "else:\n",
    "    percent(data)\n"
   ]
  },
  {
   "cell_type": "code",
   "execution_count": 75,
   "metadata": {},
   "outputs": [
    {
     "data": {
      "text/html": [
       "\n",
       "  <div id=\"f4cce2c7-cccb-4a72-9a33-c10643a9ba98\" data-root-id=\"p2929\" style=\"display: contents;\"></div>\n"
      ]
     },
     "metadata": {},
     "output_type": "display_data"
    },
    {
     "data": {
      "application/javascript": "(function(root) {\n  function embed_document(root) {\n  const docs_json = {\"b09cb8e9-a09b-4915-b677-b7ffd80743f2\":{\"version\":\"3.3.0\",\"title\":\"Bokeh Application\",\"roots\":[{\"type\":\"object\",\"name\":\"Figure\",\"id\":\"p2929\",\"attributes\":{\"width\":500,\"height\":500,\"x_range\":{\"type\":\"object\",\"name\":\"DataRange1d\",\"id\":\"p2930\"},\"y_range\":{\"type\":\"object\",\"name\":\"DataRange1d\",\"id\":\"p2931\"},\"x_scale\":{\"type\":\"object\",\"name\":\"LinearScale\",\"id\":\"p2938\"},\"y_scale\":{\"type\":\"object\",\"name\":\"LinearScale\",\"id\":\"p2939\"},\"title\":null,\"renderers\":[{\"type\":\"object\",\"name\":\"GlyphRenderer\",\"id\":\"p2971\",\"attributes\":{\"data_source\":{\"type\":\"object\",\"name\":\"ColumnDataSource\",\"id\":\"p2965\",\"attributes\":{\"selected\":{\"type\":\"object\",\"name\":\"Selection\",\"id\":\"p2966\",\"attributes\":{\"indices\":[],\"line_indices\":[]}},\"selection_policy\":{\"type\":\"object\",\"name\":\"UnionRenderers\",\"id\":\"p2967\"},\"data\":{\"type\":\"map\",\"entries\":[[\"top\",{\"type\":\"ndarray\",\"array\":{\"type\":\"bytes\",\"data\":\"AAAAAAAAAAAAAAAAAAAAAAEAAAAAAAAAAwAAAAAAAAABAAAABAAAAAAAAAACAAAAAAAAAAUAAAAGAAAAAAAAAAoAAAAJAAAAAAAAAAQAAAAAAAAAAQAAAAYAAAAAAAAABwAAAAAAAAAGAAAACAAAAAAAAAAHAAAAAAAAAAMAAAAGAAAAAAAAAAYAAAAEAAAAAAAAAAkAAAAAAAAABwAAAAUAAAAAAAAAAgAAAAAAAAAIAAAAAwAAAAAAAAAEAAAAAQAAAA==\"},\"shape\":[49],\"dtype\":\"int32\",\"order\":\"little\"}],[\"left\",{\"type\":\"ndarray\",\"array\":{\"type\":\"bytes\",\"data\":\"AAAAAAAAEEAQjfWhsT4QQB8a60NjfRBAL6fg5RS8EEA/NNaHxvoQQE7Byyl4ORFAXk7Byyl4EUBu27Zt27YRQH1orA+N9RFAjfWhsT40EkCdgpdT8HISQKwPjfWhsRJAvJyCl1PwEkDMKXg5BS8TQNu2bdu2bRNA60NjfWisE0D70FgfGusTQApeTsHLKRRAGutDY31oFEAqeDkFL6cUQDoFL6fg5RRASZIkSZIkFUBZHxrrQ2MVQGisD431oRVAeDkFL6fgFUCIxvrQWB8WQJhT8HIKXhZAp+DlFLycFkC3bdu2bdsWQMb60FgfGhdA1ofG+tBYF0DmFLycgpcXQPahsT401hdABS+n4OUUGEAVvJyCl1MYQCRJkiRJkhhANNaHxvrQGEBEY31orA8ZQFTwcgpeThlAY31orA+NGUBzCl5OwcsZQIKXU/ByChpAkiRJkiRJGkCisT401ocaQLI+NNaHxhpAwcspeDkFG0DRWB8a60MbQODlFLycghtA8HIKXk7BG0A=\"},\"shape\":[49],\"dtype\":\"float64\",\"order\":\"little\"}],[\"right\",{\"type\":\"ndarray\",\"array\":{\"type\":\"bytes\",\"data\":\"EI31obE+EEAfGutDY30QQC+n4OUUvBBAPzTWh8b6EEBOwcspeDkRQF5OwcspeBFAbtu2bdu2EUB9aKwPjfURQI31obE+NBJAnYKXU/ByEkCsD431obESQLycgpdT8BJAzCl4OQUvE0Dbtm3btm0TQOtDY31orBNA+9BYHxrrE0AKXk7ByykUQBrrQ2N9aBRAKng5BS+nFEA6BS+n4OUUQEmSJEmSJBVAWR8a60NjFUBorA+N9aEVQHg5BS+n4BVAiMb60FgfFkCYU/ByCl4WQKfg5RS8nBZAt23btm3bFkDG+tBYHxoXQNaHxvrQWBdA5hS8nIKXF0D2obE+NNYXQAUvp+DlFBhAFbycgpdTGEAkSZIkSZIYQDTWh8b60BhARGN9aKwPGUBU8HIKXk4ZQGN9aKwPjRlAcwpeTsHLGUCCl1PwcgoaQJIkSZIkSRpAorE+NNaHGkCyPjTWh8YaQMHLKXg5BRtA0VgfGutDG0Dg5RS8nIIbQPByCl5OwRtAAAAAAAAAHEA=\"},\"shape\":[49],\"dtype\":\"float64\",\"order\":\"little\"}]]}}},\"view\":{\"type\":\"object\",\"name\":\"CDSView\",\"id\":\"p2972\",\"attributes\":{\"filter\":{\"type\":\"object\",\"name\":\"AllIndices\",\"id\":\"p2973\"}}},\"glyph\":{\"type\":\"object\",\"name\":\"Quad\",\"id\":\"p2968\",\"attributes\":{\"left\":{\"type\":\"field\",\"field\":\"left\"},\"right\":{\"type\":\"field\",\"field\":\"right\"},\"bottom\":{\"type\":\"value\",\"value\":0},\"top\":{\"type\":\"field\",\"field\":\"top\"},\"line_color\":{\"type\":\"value\",\"value\":\"white\"},\"fill_color\":{\"type\":\"value\",\"value\":\"skyblue\"}}},\"nonselection_glyph\":{\"type\":\"object\",\"name\":\"Quad\",\"id\":\"p2969\",\"attributes\":{\"left\":{\"type\":\"field\",\"field\":\"left\"},\"right\":{\"type\":\"field\",\"field\":\"right\"},\"bottom\":{\"type\":\"value\",\"value\":0},\"top\":{\"type\":\"field\",\"field\":\"top\"},\"line_color\":{\"type\":\"value\",\"value\":\"white\"},\"line_alpha\":{\"type\":\"value\",\"value\":0.1},\"fill_color\":{\"type\":\"value\",\"value\":\"skyblue\"},\"fill_alpha\":{\"type\":\"value\",\"value\":0.1},\"hatch_alpha\":{\"type\":\"value\",\"value\":0.1}}},\"muted_glyph\":{\"type\":\"object\",\"name\":\"Quad\",\"id\":\"p2970\",\"attributes\":{\"left\":{\"type\":\"field\",\"field\":\"left\"},\"right\":{\"type\":\"field\",\"field\":\"right\"},\"bottom\":{\"type\":\"value\",\"value\":0},\"top\":{\"type\":\"field\",\"field\":\"top\"},\"line_color\":{\"type\":\"value\",\"value\":\"white\"},\"line_alpha\":{\"type\":\"value\",\"value\":0.2},\"fill_color\":{\"type\":\"value\",\"value\":\"skyblue\"},\"fill_alpha\":{\"type\":\"value\",\"value\":0.2},\"hatch_alpha\":{\"type\":\"value\",\"value\":0.2}}}}},{\"type\":\"object\",\"name\":\"GlyphRenderer\",\"id\":\"p2980\",\"attributes\":{\"data_source\":{\"type\":\"object\",\"name\":\"ColumnDataSource\",\"id\":\"p2974\",\"attributes\":{\"selected\":{\"type\":\"object\",\"name\":\"Selection\",\"id\":\"p2975\",\"attributes\":{\"indices\":[],\"line_indices\":[]}},\"selection_policy\":{\"type\":\"object\",\"name\":\"UnionRenderers\",\"id\":\"p2976\"},\"data\":{\"type\":\"map\",\"entries\":[[\"bottom\",{\"type\":\"ndarray\",\"array\":{\"type\":\"bytes\",\"data\":\"/////wAAAAAAAAAAAAAAAP3///8AAAAAAAAAAPz///8AAAAA/f///wAAAAAAAAAA+P///wAAAAD7////AAAAAAAAAAD3////AAAAAPL///8AAAAAAAAAAPb///8AAAAA5v///wAAAAD1////AAAAAAAAAADz////AAAAAPr///8AAAAAAAAAAPT///8AAAAA+v///wAAAAAAAAAA/P///wAAAAD9////AAAAAAAAAAD6////AAAAAP7///8AAAAA/////w==\"},\"shape\":[49],\"dtype\":\"int32\",\"order\":\"little\"}],[\"left\",{\"type\":\"ndarray\",\"array\":{\"type\":\"bytes\",\"data\":\"AAAAAAAAAEAVvJyCl1MAQCp4OQUvpwBAPzTWh8b6AEBU8HIKXk4BQGisD431oQFAfWisD431AUCSJEmSJEkCQKfg5RS8nAJAvJyCl1PwAkDRWB8a60MDQOYUvJyClwNA+9BYHxrrA0AQjfWhsT4EQCRJkiRJkgRAOQUvp+DlBEBOwcspeDkFQGN9aKwPjQVAeDkFL6fgBUCN9aGxPjQGQKKxPjTWhwZAt23btm3bBkDMKXg5BS8HQODlFLycggdA9qGxPjTWB0AKXk7ByykIQB8a60NjfQhANNaHxvrQCEBJkiRJkiQJQF5OwcspeAlAcgpeTsHLCUCIxvrQWB8KQJyCl1PwcgpAsj401ofGCkDG+tBYHxoLQNu2bdu2bQtA8HIKXk7BC0AFL6fg5RQMQBrrQ2N9aAxALqfg5RS8DEBEY31orA8NQFgfGutDYw1Abtu2bdu2DUCCl1PwcgoOQJdT8HIKXg5ArA+N9aGxDkDByyl4OQUPQNaHxvrQWA9A60NjfWisD0A=\"},\"shape\":[49],\"dtype\":\"float64\",\"order\":\"little\"}],[\"right\",{\"type\":\"ndarray\",\"array\":{\"type\":\"bytes\",\"data\":\"FbycgpdTAEAqeDkFL6cAQD801ofG+gBAVPByCl5OAUBorA+N9aEBQH1orA+N9QFAkiRJkiRJAkCn4OUUvJwCQLycgpdT8AJA0VgfGutDA0DmFLycgpcDQPvQWB8a6wNAEI31obE+BEAkSZIkSZIEQDkFL6fg5QRATsHLKXg5BUBjfWisD40FQHg5BS+n4AVAjfWhsT40BkCisT401ocGQLdt27Zt2wZAzCl4OQUvB0Dg5RS8nIIHQPahsT401gdACl5OwcspCEAfGutDY30IQDTWh8b60AhASZIkSZIkCUBeTsHLKXgJQHIKXk7BywlAiMb60FgfCkCcgpdT8HIKQLI+NNaHxgpAxvrQWB8aC0Dbtm3btm0LQPByCl5OwQtABS+n4OUUDEAa60NjfWgMQC6n4OUUvAxARGN9aKwPDUBYHxrrQ2MNQG7btm3btg1AgpdT8HIKDkCXU/ByCl4OQKwPjfWhsQ5AwcspeDkFD0DWh8b60FgPQOtDY31orA9AAAAAAAAAEEA=\"},\"shape\":[49],\"dtype\":\"float64\",\"order\":\"little\"}]]}}},\"view\":{\"type\":\"object\",\"name\":\"CDSView\",\"id\":\"p2981\",\"attributes\":{\"filter\":{\"type\":\"object\",\"name\":\"AllIndices\",\"id\":\"p2982\"}}},\"glyph\":{\"type\":\"object\",\"name\":\"Quad\",\"id\":\"p2977\",\"attributes\":{\"left\":{\"type\":\"field\",\"field\":\"left\"},\"right\":{\"type\":\"field\",\"field\":\"right\"},\"bottom\":{\"type\":\"field\",\"field\":\"bottom\"},\"top\":{\"type\":\"value\",\"value\":0},\"line_color\":{\"type\":\"value\",\"value\":\"white\"},\"fill_color\":{\"type\":\"value\",\"value\":\"orange\"}}},\"nonselection_glyph\":{\"type\":\"object\",\"name\":\"Quad\",\"id\":\"p2978\",\"attributes\":{\"left\":{\"type\":\"field\",\"field\":\"left\"},\"right\":{\"type\":\"field\",\"field\":\"right\"},\"bottom\":{\"type\":\"field\",\"field\":\"bottom\"},\"top\":{\"type\":\"value\",\"value\":0},\"line_color\":{\"type\":\"value\",\"value\":\"white\"},\"line_alpha\":{\"type\":\"value\",\"value\":0.1},\"fill_color\":{\"type\":\"value\",\"value\":\"orange\"},\"fill_alpha\":{\"type\":\"value\",\"value\":0.1},\"hatch_alpha\":{\"type\":\"value\",\"value\":0.1}}},\"muted_glyph\":{\"type\":\"object\",\"name\":\"Quad\",\"id\":\"p2979\",\"attributes\":{\"left\":{\"type\":\"field\",\"field\":\"left\"},\"right\":{\"type\":\"field\",\"field\":\"right\"},\"bottom\":{\"type\":\"field\",\"field\":\"bottom\"},\"top\":{\"type\":\"value\",\"value\":0},\"line_color\":{\"type\":\"value\",\"value\":\"white\"},\"line_alpha\":{\"type\":\"value\",\"value\":0.2},\"fill_color\":{\"type\":\"value\",\"value\":\"orange\"},\"fill_alpha\":{\"type\":\"value\",\"value\":0.2},\"hatch_alpha\":{\"type\":\"value\",\"value\":0.2}}}}}],\"toolbar\":{\"type\":\"object\",\"name\":\"Toolbar\",\"id\":\"p2937\",\"attributes\":{\"tools\":[{\"type\":\"object\",\"name\":\"HoverTool\",\"id\":\"p2950\",\"attributes\":{\"renderers\":\"auto\"}},{\"type\":\"object\",\"name\":\"CrosshairTool\",\"id\":\"p2951\"},{\"type\":\"object\",\"name\":\"PanTool\",\"id\":\"p2952\"},{\"type\":\"object\",\"name\":\"WheelZoomTool\",\"id\":\"p2953\",\"attributes\":{\"renderers\":\"auto\"}},{\"type\":\"object\",\"name\":\"ZoomInTool\",\"id\":\"p2954\",\"attributes\":{\"renderers\":\"auto\"}},{\"type\":\"object\",\"name\":\"ZoomOutTool\",\"id\":\"p2955\",\"attributes\":{\"renderers\":\"auto\"}},{\"type\":\"object\",\"name\":\"BoxZoomTool\",\"id\":\"p2956\",\"attributes\":{\"overlay\":{\"type\":\"object\",\"name\":\"BoxAnnotation\",\"id\":\"p2957\",\"attributes\":{\"syncable\":false,\"level\":\"overlay\",\"visible\":false,\"left_units\":\"canvas\",\"right_units\":\"canvas\",\"top_units\":\"canvas\",\"bottom_units\":\"canvas\",\"line_color\":\"black\",\"line_alpha\":1.0,\"line_width\":2,\"line_dash\":[4,4],\"fill_color\":\"lightgrey\",\"fill_alpha\":0.5}}}},{\"type\":\"object\",\"name\":\"UndoTool\",\"id\":\"p2958\"},{\"type\":\"object\",\"name\":\"RedoTool\",\"id\":\"p2959\"},{\"type\":\"object\",\"name\":\"ResetTool\",\"id\":\"p2960\"},{\"type\":\"object\",\"name\":\"TapTool\",\"id\":\"p2961\",\"attributes\":{\"renderers\":\"auto\"}},{\"type\":\"object\",\"name\":\"SaveTool\",\"id\":\"p2962\"},{\"type\":\"object\",\"name\":\"BoxSelectTool\",\"id\":\"p2963\",\"attributes\":{\"renderers\":\"auto\",\"overlay\":{\"type\":\"object\",\"name\":\"BoxAnnotation\",\"id\":\"p2964\",\"attributes\":{\"syncable\":false,\"level\":\"overlay\",\"visible\":false,\"editable\":true,\"line_color\":\"black\",\"line_alpha\":1.0,\"line_width\":2,\"line_dash\":[4,4],\"fill_color\":\"lightgrey\",\"fill_alpha\":0.5}}}}]}},\"left\":[{\"type\":\"object\",\"name\":\"LinearAxis\",\"id\":\"p2945\",\"attributes\":{\"ticker\":{\"type\":\"object\",\"name\":\"BasicTicker\",\"id\":\"p2946\",\"attributes\":{\"mantissas\":[1,2,5]}},\"formatter\":{\"type\":\"object\",\"name\":\"BasicTickFormatter\",\"id\":\"p2947\"},\"major_label_policy\":{\"type\":\"object\",\"name\":\"AllLabels\",\"id\":\"p2948\"}}}],\"below\":[{\"type\":\"object\",\"name\":\"LinearAxis\",\"id\":\"p2940\",\"attributes\":{\"ticker\":{\"type\":\"object\",\"name\":\"BasicTicker\",\"id\":\"p2941\",\"attributes\":{\"mantissas\":[1,2,5]}},\"formatter\":{\"type\":\"object\",\"name\":\"BasicTickFormatter\",\"id\":\"p2942\"},\"major_label_policy\":{\"type\":\"object\",\"name\":\"AllLabels\",\"id\":\"p2943\"}}}],\"center\":[{\"type\":\"object\",\"name\":\"Grid\",\"id\":\"p2944\",\"attributes\":{\"axis\":{\"id\":\"p2940\"}}},{\"type\":\"object\",\"name\":\"Grid\",\"id\":\"p2949\",\"attributes\":{\"dimension\":1,\"axis\":{\"id\":\"p2945\"}}}]}}]}};\n  const render_items = [{\"docid\":\"b09cb8e9-a09b-4915-b677-b7ffd80743f2\",\"roots\":{\"p2929\":\"f4cce2c7-cccb-4a72-9a33-c10643a9ba98\"},\"root_ids\":[\"p2929\"]}];\n  root.Bokeh.embed.embed_items_notebook(docs_json, render_items);\n  }\n  if (root.Bokeh !== undefined) {\n    embed_document(root);\n  } else {\n    let attempts = 0;\n    const timer = setInterval(function(root) {\n      if (root.Bokeh !== undefined) {\n        clearInterval(timer);\n        embed_document(root);\n      } else {\n        attempts++;\n        if (attempts > 100) {\n          clearInterval(timer);\n          console.log(\"Bokeh: ERROR: Unable to run BokehJS code because BokehJS library is missing\");\n        }\n      }\n    }, 10, root)\n  }\n})(window);",
      "application/vnd.bokehjs_exec.v0+json": ""
     },
     "metadata": {
      "application/vnd.bokehjs_exec.v0+json": {
       "id": "p2929"
      }
     },
     "output_type": "display_data"
    }
   ],
   "source": [
    "from bokeh.io import show\n",
    "import numpy as np\n",
    "\n",
    "dataset = iris\n",
    "data_x = dataset['sepal_length']\n",
    "data_y = dataset['sepal_width']\n",
    "tools = \"hover,crosshair,pan,wheel_zoom,zoom_in,zoom_out,box_zoom,undo,redo,reset,tap,save,box_select\"\n",
    "p = figure(width=500, height=500, title = None, tools=tools)\n",
    "\n",
    "bins = np.linspace(int(min(data_x)),int(max(data_x)),bin)\n",
    "hist, edges = np.histogram(data_x, bins=bins)\n",
    "p.quad(top=hist,\n",
    "        bottom=0,\n",
    "        left=edges[:-1],\n",
    "        right=edges[1:],\n",
    "        fill_color='skyblue',\n",
    "        line_color='white')\n",
    "\n",
    "bins_ = np.linspace(int(min(data_y)),int(max(data_y)),bin)\n",
    "hist, edges = np.histogram(data_y, bins=bins_)\n",
    "hist_ = hist * -1\n",
    "p.quad(top=0,\n",
    "        bottom=hist_,\n",
    "        left=edges[:-1],\n",
    "        right=edges[1:],\n",
    "        fill_color='orange',\n",
    "        line_color='white')\n",
    "show(p)"
   ]
  }
 ],
 "metadata": {
  "kernelspec": {
   "display_name": "Python 3",
   "language": "python",
   "name": "python3"
  },
  "language_info": {
   "codemirror_mode": {
    "name": "ipython",
    "version": 3
   },
   "file_extension": ".py",
   "mimetype": "text/x-python",
   "name": "python",
   "nbconvert_exporter": "python",
   "pygments_lexer": "ipython3",
   "version": "3.12.0"
  }
 },
 "nbformat": 4,
 "nbformat_minor": 2
}
