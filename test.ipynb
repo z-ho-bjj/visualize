{
 "cells": [
  {
   "cell_type": "code",
   "execution_count": 43,
   "metadata": {},
   "outputs": [],
   "source": [
    "import pandas as pd\n",
    "import seaborn as sns\n",
    "import warnings\n",
    "\n",
    "warnings.filterwarnings('ignore')\n",
    "iris = sns.load_dataset('iris')\n",
    "tips = sns.load_dataset('tips')"
   ]
  },
  {
   "cell_type": "code",
   "execution_count": 41,
   "metadata": {},
   "outputs": [],
   "source": [
    "def check_type(data: pd.DataFrame):\n",
    "    var_int = ['int64','int32','int16','int8','uint64','uint32','uint16','uint8']\n",
    "    var_float = ['float64','float32']\n",
    "    var_date = ['datetime64', 'timedelta64']\n",
    "    var_cate = ['O','category']\n",
    "    var_bool = ['bool']\n",
    "\n",
    "    tmp = pd.DataFrame(data.dtypes)\n",
    "    tmp.rename(columns={0:'type'}, inplace=True)\n",
    "    tmp['var_type'] = 0\n",
    "    for i in range(len(tmp)):\n",
    "        if tmp['type'][i] in var_int:\n",
    "            tmp['var_type'][i] = 'int'\n",
    "        elif tmp['type'][i] in var_float:\n",
    "            tmp['var_type'][i] = 'float'\n",
    "        elif tmp['type'][i] in var_date:\n",
    "            tmp['var_type'][i] = 'date'\n",
    "        elif tmp['type'][i] in var_cate:\n",
    "            tmp['var_type'][i] = 'category'\n",
    "        elif tmp['type'][i] in var_bool:\n",
    "            tmp['var_type'][i] = 'bool'\n",
    "\n",
    "    tmp.reset_index(drop=False, inplace=True)\n",
    "    tmp.rename(columns={'index':'col_nm'}, inplace=True)\n",
    "\n",
    "    return tmp"
   ]
  },
  {
   "cell_type": "code",
   "execution_count": 44,
   "metadata": {},
   "outputs": [],
   "source": [
    "tmp = check_type(tips)"
   ]
  },
  {
   "cell_type": "code",
   "execution_count": null,
   "metadata": {},
   "outputs": [
    {
     "data": {
      "text/plain": [
       "['size']"
      ]
     },
     "execution_count": 75,
     "metadata": {},
     "output_type": "execute_result"
    }
   ],
   "source": [
    "list(tmp[tmp['var_type']=='int']['col_nm'].values)"
   ]
  },
  {
   "cell_type": "code",
   "execution_count": 45,
   "metadata": {},
   "outputs": [
    {
     "data": {
      "text/html": [
       "<div>\n",
       "<style scoped>\n",
       "    .dataframe tbody tr th:only-of-type {\n",
       "        vertical-align: middle;\n",
       "    }\n",
       "\n",
       "    .dataframe tbody tr th {\n",
       "        vertical-align: top;\n",
       "    }\n",
       "\n",
       "    .dataframe thead th {\n",
       "        text-align: right;\n",
       "    }\n",
       "</style>\n",
       "<table border=\"1\" class=\"dataframe\">\n",
       "  <thead>\n",
       "    <tr style=\"text-align: right;\">\n",
       "      <th></th>\n",
       "      <th>col_nm</th>\n",
       "      <th>type</th>\n",
       "      <th>var_type</th>\n",
       "    </tr>\n",
       "  </thead>\n",
       "  <tbody>\n",
       "    <tr>\n",
       "      <th>0</th>\n",
       "      <td>total_bill</td>\n",
       "      <td>float64</td>\n",
       "      <td>float</td>\n",
       "    </tr>\n",
       "    <tr>\n",
       "      <th>1</th>\n",
       "      <td>tip</td>\n",
       "      <td>float64</td>\n",
       "      <td>float</td>\n",
       "    </tr>\n",
       "    <tr>\n",
       "      <th>2</th>\n",
       "      <td>sex</td>\n",
       "      <td>category</td>\n",
       "      <td>category</td>\n",
       "    </tr>\n",
       "    <tr>\n",
       "      <th>3</th>\n",
       "      <td>smoker</td>\n",
       "      <td>category</td>\n",
       "      <td>category</td>\n",
       "    </tr>\n",
       "    <tr>\n",
       "      <th>4</th>\n",
       "      <td>day</td>\n",
       "      <td>category</td>\n",
       "      <td>category</td>\n",
       "    </tr>\n",
       "    <tr>\n",
       "      <th>5</th>\n",
       "      <td>time</td>\n",
       "      <td>category</td>\n",
       "      <td>category</td>\n",
       "    </tr>\n",
       "    <tr>\n",
       "      <th>6</th>\n",
       "      <td>size</td>\n",
       "      <td>int64</td>\n",
       "      <td>int</td>\n",
       "    </tr>\n",
       "  </tbody>\n",
       "</table>\n",
       "</div>"
      ],
      "text/plain": [
       "       col_nm      type  var_type\n",
       "0  total_bill   float64     float\n",
       "1         tip   float64     float\n",
       "2         sex  category  category\n",
       "3      smoker  category  category\n",
       "4         day  category  category\n",
       "5        time  category  category\n",
       "6        size     int64       int"
      ]
     },
     "execution_count": 45,
     "metadata": {},
     "output_type": "execute_result"
    }
   ],
   "source": [
    "tmp"
   ]
  },
  {
   "cell_type": "code",
   "execution_count": 51,
   "metadata": {},
   "outputs": [],
   "source": [
    "num_list = list(tmp[(tmp['var_type']=='int') | (tmp['var_type']=='float')]['col_nm'].values)\n",
    "cat_list = list(tmp[tmp['var_type']=='category']['col_nm'].values)"
   ]
  },
  {
   "cell_type": "code",
   "execution_count": 102,
   "metadata": {},
   "outputs": [
    {
     "data": {
      "text/plain": [
       "['sex', 'smoker', 'day', 'time']"
      ]
     },
     "execution_count": 102,
     "metadata": {},
     "output_type": "execute_result"
    }
   ],
   "source": [
    "cat_list"
   ]
  },
  {
   "cell_type": "code",
   "execution_count": 2,
   "metadata": {},
   "outputs": [],
   "source": [
    "viz_params_type = {'density' : {'x':'num'},\n",
    "                   'kde2D' : {'x':'num','y':'num'},\n",
    "                   'bubble' : {'x':'num','y':'num','category':'category','size':'num'},\n",
    "                   'connected_scatter' : {'x':'num','y':'num'},\n",
    "                   'pairplot' : {'category':'category','target':'category'},\n",
    "                   'heatmap' : {'x':'category','y':'category','target':'num'},\n",
    "                   'scatter' : {'x':'num','y':'num', 'radi':'num'},\n",
    "                   'jointplot' : {'x':'num','y':'num'},\n",
    "                   'violin' : {'x':'num','y':'category'},\n",
    "                   'violin_split' : {'x':'category','y':'num','hue':'category'},\n",
    "                   'histo_split' : {'x':'num','y':'num'},\n",
    "                   'density_split' : {'x':'num','y':'num'},\n",
    "                   'histogram_four' : {'x':'category','y':'num'},\n",
    "                   'pie' : {'x':'category','y':'num'},\n",
    "                   'donut' : {'x':'category','y':'num'},\n",
    "                   'mixed' : {'box':'num','line':'num'},\n",
    "                   'circular' : {'target':'category','value':'num','group':'category'},\n",
    "                   'min2max' : {'min_':'num','max_':'num','target':'category'}}\n"
   ]
  },
  {
   "cell_type": "code",
   "execution_count": 18,
   "metadata": {},
   "outputs": [
    {
     "name": "stdout",
     "output_type": "stream",
     "text": [
      "density\n",
      "{'x': 'num'}\n",
      "kde2D\n",
      "{'x': 'num', 'y': 'num'}\n"
     ]
    }
   ],
   "source": [
    "print(list(viz_params_type.keys())[0])\n",
    "print(viz_params_type[list(viz_params_type.keys())[0]])\n",
    "print(list(viz_params_type.keys())[1])\n",
    "print(viz_params_type[list(viz_params_type.keys())[1]])"
   ]
  },
  {
   "cell_type": "code",
   "execution_count": 19,
   "metadata": {},
   "outputs": [],
   "source": [
    "tmp_viz = list(viz_params_type.keys())[0]"
   ]
  },
  {
   "cell_type": "code",
   "execution_count": 21,
   "metadata": {},
   "outputs": [],
   "source": [
    "tmp_viz_params = list(viz_params_type[tmp_viz].keys())[0]"
   ]
  },
  {
   "cell_type": "code",
   "execution_count": 48,
   "metadata": {},
   "outputs": [
    {
     "data": {
      "text/plain": [
       "'target'"
      ]
     },
     "execution_count": 48,
     "metadata": {},
     "output_type": "execute_result"
    }
   ],
   "source": [
    "tmp_viz_params"
   ]
  },
  {
   "cell_type": "code",
   "execution_count": 24,
   "metadata": {},
   "outputs": [
    {
     "data": {
      "text/plain": [
       "'num'"
      ]
     },
     "execution_count": 24,
     "metadata": {},
     "output_type": "execute_result"
    }
   ],
   "source": [
    "viz_params_type[tmp_viz][tmp_viz_params]"
   ]
  },
  {
   "cell_type": "code",
   "execution_count": 52,
   "metadata": {},
   "outputs": [
    {
     "name": "stdout",
     "output_type": "stream",
     "text": [
      "['total_bill', 'tip', 'size']\n",
      "['sex', 'smoker', 'day', 'time']\n"
     ]
    }
   ],
   "source": [
    "print(num_list)\n",
    "print(cat_list)"
   ]
  },
  {
   "cell_type": "code",
   "execution_count": 67,
   "metadata": {},
   "outputs": [
    {
     "name": "stdout",
     "output_type": "stream",
     "text": [
      "{'x': 'total_bill'}\n",
      "{'x': 'total_bill', 'y': 'tip'}\n",
      "{'x': 'total_bill', 'y': 'tip', 'category': 'sex', 'size': 'size'}\n",
      "{'x': 'total_bill', 'y': 'tip'}\n",
      "{'category': 'sex', 'target': 'smoker'}\n",
      "{'x': 'sex', 'y': 'smoker', 'target': 'total_bill'}\n",
      "{'x': 'total_bill', 'y': 'tip', 'radi': 'size'}\n",
      "{'x': 'total_bill', 'y': 'tip'}\n",
      "{'x': 'total_bill', 'y': 'sex'}\n",
      "{'x': 'sex', 'y': 'total_bill', 'hue': 'smoker'}\n",
      "{'x': 'total_bill', 'y': 'tip'}\n",
      "{'x': 'total_bill', 'y': 'tip'}\n",
      "{'x': 'sex', 'y': 'total_bill'}\n",
      "{'x': 'sex', 'y': 'total_bill'}\n",
      "{'x': 'sex', 'y': 'total_bill'}\n",
      "{'box': 'total_bill', 'line': 'tip'}\n",
      "{'target': 'sex', 'value': 'total_bill', 'group': 'smoker'}\n",
      "{'min_': 'total_bill', 'max_': 'tip', 'target': 'sex'}\n"
     ]
    }
   ],
   "source": [
    "for i in range(len(viz_params_type)):\n",
    "    tmp_viz = list(viz_params_type.keys())[i]\n",
    "    \n",
    "    num_list = list(tmp[(tmp['var_type']=='int') | (tmp['var_type']=='float')]['col_nm'].values)\n",
    "    cat_list = list(tmp[tmp['var_type']=='category']['col_nm'].values)\n",
    "    \n",
    "    param_list = {}\n",
    "\n",
    "    for j in range(len(viz_params_type[tmp_viz])):\n",
    "        tmp_viz_params = list(viz_params_type[tmp_viz].keys())[j]\n",
    "\n",
    "        if viz_params_type[tmp_viz][tmp_viz_params] == 'num':\n",
    "            param_list[tmp_viz_params] = num_list[0]\n",
    "            num_list.remove(num_list[0])\n",
    "\n",
    "        elif viz_params_type[tmp_viz][tmp_viz_params] == 'category':\n",
    "            param_list[tmp_viz_params] = cat_list[0]\n",
    "            cat_list.remove(cat_list[0])\n",
    "        else:\n",
    "            pass\n",
    "            \n",
    "    try:\n",
    "        tmp_viz(**param_list)\n",
    "    except:\n",
    "        pass"
   ]
  },
  {
   "cell_type": "code",
   "execution_count": 71,
   "metadata": {},
   "outputs": [
    {
     "data": {
      "text/plain": [
       "['density',\n",
       " 'kde2D',\n",
       " 'bubble',\n",
       " 'connected_scatter',\n",
       " 'pairplot',\n",
       " 'heatmap',\n",
       " 'scatter',\n",
       " 'jointplot',\n",
       " 'violin',\n",
       " 'violin_split',\n",
       " 'histo_split',\n",
       " 'density_split',\n",
       " 'histogram_four',\n",
       " 'pie',\n",
       " 'donut',\n",
       " 'mixed',\n",
       " 'circular',\n",
       " 'min2max']"
      ]
     },
     "execution_count": 71,
     "metadata": {},
     "output_type": "execute_result"
    }
   ],
   "source": [
    "list(viz_params_type.keys())"
   ]
  },
  {
   "cell_type": "code",
   "execution_count": null,
   "metadata": {},
   "outputs": [],
   "source": [
    "'chord', 'area_stack', 'pydeck_count', 'pydeck_distribution', 'pydeck_connection', 'venn_', 'radar', 'wordcloud', 'mosaic_', 'ridgeline'"
   ]
  },
  {
   "cell_type": "code",
   "execution_count": 1,
   "metadata": {},
   "outputs": [],
   "source": [
    "import matplotlib.pyplot as plt\n",
    "import pandas as pd\n",
    "import seaborn as sns"
   ]
  },
  {
   "cell_type": "code",
   "execution_count": null,
   "metadata": {},
   "outputs": [],
   "source": [
    "plt.hist()"
   ]
  },
  {
   "cell_type": "code",
   "execution_count": null,
   "metadata": {},
   "outputs": [],
   "source": [
    "pd.DataFrame.hist()"
   ]
  },
  {
   "cell_type": "code",
   "execution_count": null,
   "metadata": {},
   "outputs": [],
   "source": [
    "sns.histplot(pa)"
   ]
  },
  {
   "cell_type": "code",
   "execution_count": null,
   "metadata": {},
   "outputs": [],
   "source": []
  },
  {
   "cell_type": "code",
   "execution_count": null,
   "metadata": {},
   "outputs": [],
   "source": []
  },
  {
   "cell_type": "code",
   "execution_count": null,
   "metadata": {},
   "outputs": [],
   "source": []
  },
  {
   "cell_type": "code",
   "execution_count": null,
   "metadata": {},
   "outputs": [],
   "source": [
    "\"\"\"\n",
    "'density' \n",
    "x : 'int', 'float'\n",
    "\n",
    "'kde2D'\n",
    "x : 'int', 'float'\n",
    "y : 'int', 'float'\n",
    "\n",
    "'bubble'\n",
    "x : 'int', 'float'\n",
    "y : 'int', 'float'\n",
    "category : 'O','category'\n",
    "size : 'int', 'float'\n",
    "\n",
    "'connected_scatter'\n",
    "x : 'int', 'float'\n",
    "y : 'int', 'float'\n",
    "\n",
    "'pairplot'\n",
    "category : 'O','category'\n",
    "target : 'O','category'\n",
    "\n",
    "'heatmap'\n",
    "x : 'O','category'\n",
    "y : 'O','category'\n",
    "target : 'int', 'float'\n",
    "\n",
    "'scatter'\n",
    "x : 'int', 'float'\n",
    "y : 'int', 'float'\n",
    "radi : 'int','float'\n",
    "color : 'bool'\n",
    "\n",
    "'jointplot'\n",
    "x : 'int','float'\n",
    "y : 'int','float'\n",
    "\n",
    "'violin'\n",
    "x : 'int','float'\n",
    "y : 'O','category'\n",
    "\n",
    "'violin_split'\n",
    "x : 'O','category'\n",
    "y : 'int','float'\n",
    "hue : 'O','category'\n",
    "number : 'int'\n",
    "\n",
    "'histo_split'\n",
    "x : 'int','float'\n",
    "y : 'int','float'\n",
    "\n",
    "'density_split'\n",
    "x : 'int','float'\n",
    "y : 'int','float'\n",
    "\n",
    "\n",
    "'histogram_four'\n",
    "x : 'O','category'\n",
    "y : 'int','float'\n",
    "\n",
    "'area_stack'\n",
    "perc : 'bool'\n",
    "\n",
    "'chord'\n",
    "dataset's col_names : ['source','target','value','name','group']\n",
    "\n",
    "'pydeck_count'\n",
    "x : 'int','float'\n",
    "\n",
    "'pydeck_distribution'\n",
    "center : list(longitude, latitude)\n",
    "\n",
    "'pydeck_connection'\n",
    "dataset_01 : A -> B one-side\n",
    "dataset_02 : B -> A one-side\n",
    "\n",
    "dataset's col_names : ['start_id', 'end_id', 'start_lng', 'start_lat', 'end_lng', 'end_lat']\n",
    "\n",
    "'pie'\n",
    "x : 'O','category'\n",
    "y : 'int','float'\n",
    "\n",
    "'donut'\n",
    "x : 'O','category'\n",
    "y : 'int','float'\n",
    "\n",
    "'venn_'\n",
    "x : 'int'\n",
    "\n",
    "'mixed'\n",
    "box : 'int','float'\n",
    "line : 'int','float'\n",
    "\n",
    "'circular'\n",
    "target : 'O','category'\n",
    "value : 'int','float'\n",
    "group : 'O','category'\n",
    "\n",
    "'min2max'\n",
    "min_ : 'int','float'\n",
    "max_ : 'int','float'\n",
    "target : \n",
    "\n",
    "'radar'\n",
    "drop : group col_nm\n",
    "\n",
    "ex)\n",
    "df = pd.DataFrame({\n",
    "'group': ['A','B','C','D'],\n",
    "'var1': [38, 1.5, 30, 4],\n",
    "'var2': [29, 10, 9, 34],\n",
    "'var3': [8, 39, 23, 24],\n",
    "'var4': [7, 31, 33, 14],\n",
    "'var5': [28, 15, 32, 14]\n",
    "})\n",
    "\n",
    "\n",
    "'wordcloud'\n",
    "text : sentence\n",
    "img_path : image path\n",
    "\n",
    "'mosaic_'\n",
    "'ridgeline'\n",
    "\"\"\""
   ]
  }
 ],
 "metadata": {
  "kernelspec": {
   "display_name": "Python 3",
   "language": "python",
   "name": "python3"
  },
  "language_info": {
   "codemirror_mode": {
    "name": "ipython",
    "version": 3
   },
   "file_extension": ".py",
   "mimetype": "text/x-python",
   "name": "python",
   "nbconvert_exporter": "python",
   "pygments_lexer": "ipython3",
   "version": "3.12.0"
  }
 },
 "nbformat": 4,
 "nbformat_minor": 2
}
